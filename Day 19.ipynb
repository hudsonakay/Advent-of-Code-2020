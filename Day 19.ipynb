{
 "cells": [
  {
   "cell_type": "code",
   "execution_count": 1,
   "metadata": {},
   "outputs": [],
   "source": [
    "import pandas as pd\n",
    "import numpy as np"
   ]
  },
  {
   "cell_type": "code",
   "execution_count": 2,
   "metadata": {},
   "outputs": [],
   "source": [
    "data=pd.read_excel('input_19.xlsx')"
   ]
  },
  {
   "cell_type": "code",
   "execution_count": 3,
   "metadata": {},
   "outputs": [
    {
     "data": {
      "text/html": [
       "<div>\n",
       "<style scoped>\n",
       "    .dataframe tbody tr th:only-of-type {\n",
       "        vertical-align: middle;\n",
       "    }\n",
       "\n",
       "    .dataframe tbody tr th {\n",
       "        vertical-align: top;\n",
       "    }\n",
       "\n",
       "    .dataframe thead th {\n",
       "        text-align: right;\n",
       "    }\n",
       "</style>\n",
       "<table border=\"1\" class=\"dataframe\">\n",
       "  <thead>\n",
       "    <tr style=\"text-align: right;\">\n",
       "      <th></th>\n",
       "      <th>Column1</th>\n",
       "    </tr>\n",
       "  </thead>\n",
       "  <tbody>\n",
       "    <tr>\n",
       "      <td>0</td>\n",
       "      <td>18: 48 48</td>\n",
       "    </tr>\n",
       "    <tr>\n",
       "      <td>1</td>\n",
       "      <td>25: 48 81 | 41 7</td>\n",
       "    </tr>\n",
       "    <tr>\n",
       "      <td>2</td>\n",
       "      <td>48: \"b\"</td>\n",
       "    </tr>\n",
       "    <tr>\n",
       "      <td>3</td>\n",
       "      <td>4: 131 48 | 70 41</td>\n",
       "    </tr>\n",
       "    <tr>\n",
       "      <td>4</td>\n",
       "      <td>20: 61 48 | 57 41</td>\n",
       "    </tr>\n",
       "  </tbody>\n",
       "</table>\n",
       "</div>"
      ],
      "text/plain": [
       "             Column1\n",
       "0          18: 48 48\n",
       "1   25: 48 81 | 41 7\n",
       "2            48: \"b\"\n",
       "3  4: 131 48 | 70 41\n",
       "4  20: 61 48 | 57 41"
      ]
     },
     "execution_count": 3,
     "metadata": {},
     "output_type": "execute_result"
    }
   ],
   "source": [
    "data.head()"
   ]
  },
  {
   "cell_type": "code",
   "execution_count": 8,
   "metadata": {},
   "outputs": [
    {
     "data": {
      "text/plain": [
       "['18: 48 48',\n",
       " '25: 48 81 | 41 7',\n",
       " '48: \"b\"',\n",
       " '4: 131 48 | 70 41',\n",
       " '20: 61 48 | 57 41',\n",
       " '89: 41 41 | 41 48',\n",
       " '74: 41 107 | 48 124',\n",
       " '98: 41 48',\n",
       " '99: 97 48 | 92 41',\n",
       " '91: 34 48',\n",
       " '100: 48 41 | 67 48',\n",
       " '6: 48 100 | 41 132',\n",
       " '40: 81 48 | 7 41',\n",
       " '124: 83 48 | 130 41',\n",
       " '50: 7 41 | 7 48',\n",
       " '68: 64 41 | 24 48',\n",
       " '60: 30 41 | 86 48',\n",
       " '75: 89 41 | 39 48',\n",
       " '103: 67 67',\n",
       " '58: 41 22 | 48 111',\n",
       " '71: 67 34',\n",
       " '56: 34 48 | 39 41',\n",
       " '122: 48 120 | 41 89',\n",
       " '12: 41 18 | 48 98',\n",
       " '95: 34 41 | 103 48',\n",
       " '93: 110 41 | 34 48',\n",
       " '13: 43 41 | 69 48',\n",
       " '44: 101 48 | 114 41',\n",
       " '69: 106 41 | 32 48',\n",
       " '67: 48 | 41',\n",
       " '45: 7 48',\n",
       " '117: 48 120 | 41 39',\n",
       " '46: 48 29 | 41 82',\n",
       " '121: 48 49 | 41 47',\n",
       " '130: 103 48 | 89 41',\n",
       " '132: 41 48 | 48 41',\n",
       " '94: 41 4 | 48 76',\n",
       " '14: 9 48 | 93 41',\n",
       " '26: 41 72 | 48 81',\n",
       " '79: 67 1',\n",
       " '115: 67 132',\n",
       " '15: 41 20 | 48 63',\n",
       " '47: 120 41 | 81 48',\n",
       " '27: 100 41 | 7 48',\n",
       " '11: 42 31',\n",
       " '113: 49 41 | 56 48',\n",
       " '31: 48 133 | 41 127',\n",
       " '131: 90 41 | 28 48',\n",
       " '81: 48 48 | 67 41',\n",
       " '23: 84 41 | 27 48',\n",
       " '84: 18 48',\n",
       " '107: 79 41 | 33 48',\n",
       " '83: 67 89',\n",
       " '49: 81 41 | 7 48',\n",
       " '108: 102 41 | 60 48',\n",
       " '37: 41 7 | 48 120',\n",
       " '120: 48 41',\n",
       " '32: 41 96 | 48 95',\n",
       " '2: 48 85 | 41 128',\n",
       " '102: 48 62 | 41 50',\n",
       " '5: 41 110',\n",
       " '61: 41 37 | 48 6',\n",
       " '97: 41 120 | 48 34',\n",
       " '85: 120 41 | 89 48',\n",
       " '80: 120 48 | 98 41',\n",
       " '92: 48 103 | 41 34',\n",
       " '65: 16 48 | 58 41',\n",
       " '112: 48 71 | 41 123',\n",
       " '70: 87 48 | 115 41',\n",
       " '39: 41 67 | 48 41',\n",
       " '41: \"a\"',\n",
       " '38: 2 48 | 77 41',\n",
       " '110: 48 41 | 41 41',\n",
       " '88: 7 48 | 89 41',\n",
       " '52: 41 73 | 48 104',\n",
       " '96: 100 48 | 103 41',\n",
       " '66: 41 126 | 48 121',\n",
       " '77: 40 48 | 47 41',\n",
       " '3: 48 118 | 41 25',\n",
       " '126: 75 48 | 27 41',\n",
       " '1: 41 41 | 48 48',\n",
       " '19: 48 72 | 41 18',\n",
       " '42: 41 68 | 48 105',\n",
       " '129: 48 110 | 41 120',\n",
       " '72: 48 48 | 41 67',\n",
       " '7: 41 41',\n",
       " '59: 41 47 | 48 125',\n",
       " '73: 1 48 | 103 41',\n",
       " '114: 41 117 | 48 73',\n",
       " '118: 89 41 | 132 48',\n",
       " '51: 41 1 | 48 81',\n",
       " '101: 129 48 | 93 41',\n",
       " '133: 48 15 | 41 13',\n",
       " '104: 48 1 | 41 81',\n",
       " '123: 110 48 | 98 41',\n",
       " '0: 8 11',\n",
       " '55: 48 1 | 41 18',\n",
       " '30: 89 41 | 18 48',\n",
       " '76: 48 14 | 41 35',\n",
       " '43: 52 48 | 112 41',\n",
       " '24: 48 109 | 41 38',\n",
       " '29: 116 48 | 3 41',\n",
       " '106: 88 41',\n",
       " '9: 89 41 | 100 48',\n",
       " '125: 41 120 | 48 132',\n",
       " '22: 103 48 | 18 41',\n",
       " '21: 48 83 | 41 51',\n",
       " '64: 48 44 | 41 74',\n",
       " '111: 103 67',\n",
       " '54: 41 36 | 48 55',\n",
       " '119: 48 12 | 41 19',\n",
       " '35: 123 48 | 91 41',\n",
       " '127: 41 94 | 48 10',\n",
       " '116: 41 93 | 48 122',\n",
       " '8: 42',\n",
       " '128: 48 72 | 41 1',\n",
       " '28: 41 132 | 48 120',\n",
       " '63: 41 59 | 48 17',\n",
       " '87: 103 48 | 72 41',\n",
       " '36: 48 81 | 41 100',\n",
       " '17: 62 48 | 26 41',\n",
       " '62: 100 48 | 98 41',\n",
       " '34: 48 41 | 48 48',\n",
       " '82: 23 48 | 21 41',\n",
       " '78: 41 65 | 48 66',\n",
       " '33: 120 41',\n",
       " '109: 48 113 | 41 99',\n",
       " '57: 41 92 | 48 80',\n",
       " '86: 48 89 | 41 39',\n",
       " '53: 54 48 | 119 41',\n",
       " '10: 108 48 | 53 41',\n",
       " '90: 81 41 | 34 48',\n",
       " '16: 48 5 | 41 45',\n",
       " '105: 46 41 | 78 48']"
      ]
     },
     "execution_count": 8,
     "metadata": {},
     "output_type": "execute_result"
    }
   ],
   "source": [
    "rules_list = []\n",
    "for i in range(134):\n",
    "    rules_list.append(data['Column1'][i])\n",
    "rules_list"
   ]
  },
  {
   "cell_type": "code",
   "execution_count": 9,
   "metadata": {},
   "outputs": [
    {
     "data": {
      "text/plain": [
       "['bbaaabbbbaabbaababaababbbabbbaaa',\n",
       " 'bbbbbaabbabaaaaabbaaaabbabaababbbbabbbbababaabaabaaaaaabbbaaaaab',\n",
       " 'baabbaabababbabbaaaaabba',\n",
       " 'ababbbbbbbabaaaaabaabbabbbbaaaabbabbaaba',\n",
       " 'abbbbabaabbbabbbabbaaaaaaaaaabba',\n",
       " 'bbaaaaaabaabbbababbaabbabbabaaaabbbaababaaaabbbaabababaa',\n",
       " 'bbbbbaabbabbbbabaabbbbaaaaaaabba',\n",
       " 'bbbaabbaaababbbbabbbaabb',\n",
       " 'abbbbaaabbbaabababaababa',\n",
       " 'aaaababbabaaabaaabbbbbaaaabaaabaaababbbbbaabaabababbbbbbbaabaaaa',\n",
       " 'babaababaabbbbabbabbbbabbababbaa',\n",
       " 'babbaaabababbaaabbbaabab',\n",
       " 'aaaabaabbbababbbbbbbbbbb',\n",
       " 'aabbbbbabbbbabbbbbbbbababbbabababaaaababbbaaaabaaaabaaaaabbaabbaaababaaaabaaabab',\n",
       " 'aaabbaabaaaabbbababbbbbbbabaaabaababaabb',\n",
       " 'abbaaaaabbaabaabbbabbbab',\n",
       " 'baabbbaabbabbabaabbabbbb',\n",
       " 'abababbbaaaaabbbbbbbbabaabaababbabbbbbbbbbabbabbaaabaaba',\n",
       " 'abbaaaaaaabbabbaaaababab',\n",
       " 'baabababbaaaaaaabbbbabab',\n",
       " 'babbabaaaaabaabbbbbaaaab',\n",
       " 'aabaaaababbaaabbbbbbaaaa',\n",
       " 'babaaaaabaaaababbbabbabb',\n",
       " 'abbabaaaabbababbaaabbaba',\n",
       " 'aaabaaaaaabaaaababaaaabaaaaabaabaababbabaabababa',\n",
       " 'ababbabbaaabaabababaabbaaabbabababaabbaa',\n",
       " 'baaaabbbbbabaaaabbbabaabbabbbaaa',\n",
       " 'abaabaaaababababbaabaabb',\n",
       " 'aabaabbbbabaaabbaababbaabbbbbbabbbbaabababbabbaa',\n",
       " 'abaaaaaabbaaaabaaabbaaab',\n",
       " 'aaaabbbbbabaabaaababaaabbbbbaaabbbbbabbbaaaabaaabababaaa',\n",
       " 'bbabbbbaaababbbbaaababbbbbbaabbaababbabbaaaabbbaaaaabbbaaabbabbbaaababab',\n",
       " 'babaaaaaaabaaabaabbbabab',\n",
       " 'aaaabbaaabaaabaabaabbbabaaaabbbbabbaaabbbbabbbbbbbaabbabbbbbababababaabb',\n",
       " 'abbbabbabbabbbbaaabaaaaababbaabbaabaaabb',\n",
       " 'abbaaabbbbaaababbbbaaabbabbbbbbbbbbbbaababbbbbbbabbbbabbabbabbbb',\n",
       " 'babbbaababbaabaaaabbbbbb',\n",
       " 'baaaabbbbbbbaabbbabbbababaaaabba',\n",
       " 'aaabbbaababbaaaabaaaabbbbaaabaaa',\n",
       " 'abbbbaaaaababbabbbabaaabbbaaabba',\n",
       " 'babbabaabaaaabbbbbbaaaab',\n",
       " 'abbababaabbbbaababaaabba',\n",
       " 'aababbbbbababaababbaababababbbbbbaaabbbbaaabaaab',\n",
       " 'baabbaabaaabaabaababbaaaabaaaabaaaababbbbbbabbbbbbbbabab',\n",
       " 'bbababbaaaabaaaaabbabbaa',\n",
       " 'bbababbbbababbabbbaababbbabaabbaabbaaabaabababaa',\n",
       " 'baababbabababbabaababbab',\n",
       " 'abbababbbaababababaaabaaababbbabbbbaaaab',\n",
       " 'abbbbbaaaabaaaaaabababbb',\n",
       " 'abbbbaaabaaabbbaababbbaa',\n",
       " 'bbababbbbabaabaabbbbabaaaaaaaabb',\n",
       " 'aaaabbaaaabbbbaaaaababba',\n",
       " 'abaaabaaaababbabbaabaaba',\n",
       " 'babbabababbaabaaabaaabbb',\n",
       " 'babababbbaaaabbbbabaababbbbaaaaaaabbaababbaababbaaabaaababaaaaabbbabbbab',\n",
       " 'baaabbabbaababbaaabbbaaa',\n",
       " 'bbbababbbabababbaaaabaabababaabaaabbabbb',\n",
       " 'bababbabbabbbbabaababbbbabaabbabaababaabbbaaaabaaaabbaabaaabbaaa',\n",
       " 'bbabbbaabaaaabbbbbabaaabababaababaaababa',\n",
       " 'aabbbbaabaaaaaaaaabbbaabbbbabaababbaaabbbabbabbbaaabababbaabbaba',\n",
       " 'bbbbaabbbabbabaaabbbbbaaabaaabab',\n",
       " 'baabbabababaabbbabbabbbaabaabaabaabbbbaabbabbabbabbbaaaabaaaaabaabbbaaba',\n",
       " 'ababbabbbbbaaabbbbbbaaaa',\n",
       " 'aaaaaabbababbbabbaababbb',\n",
       " 'ababbabbaaabaababaababaabaababaaababbababaaaabaa',\n",
       " 'baaaababaabaaaaabaabaaba',\n",
       " 'bbabbbbaabbbaabbbabbaaabbababaababbbbbabbbabbbbb',\n",
       " 'bbbababbbaabbbaaabbbbabb',\n",
       " 'bbbababbbbbbbaababbbaabbbababbbabbabbabb',\n",
       " 'abaaaaaaaaababbbaaaabaaa',\n",
       " 'baaaababbbababbaaaabaaab',\n",
       " 'babaaabbbbbabbaaaaababbbabbbabaaabbabbaa',\n",
       " 'bbaaaabbbaaabaaaabababbbbaabaaabbbbbbbbabaaaaabbababaaaaaaaabbabbbaaabaababbbaab',\n",
       " 'aabaaaabbbabbbaaaaaaabaa',\n",
       " 'ababaaabaabbbbabbbbbaabbaabbabbababbbbbbaabbbbbb',\n",
       " 'bababaabbbbabaabbababbba',\n",
       " 'bbbbbbabababbabbbbaaaaaabaabaaaaaababaaabbbbbbaabbbabbbaaaaaabaa',\n",
       " 'abbbbaaaababaaabaaabaabaabbbbbbbbabbbaaa',\n",
       " 'abaabaabbabbaabbbabaabaabbbabbbbabbbaaabaabbabaaabbabbaabbaaabba',\n",
       " 'abbbbbaaababbaaaabbaabaabbabbaaabbababbbaaaaabaaababaabb',\n",
       " 'abbaaababbbabbbbabbbbababaabababbbbbbbabababbababbbbabbb',\n",
       " 'aababaaaaabaaaababbbaaabbbabbaabababbabababbabbb',\n",
       " 'bbbababaaabababbabaabaaabbabbbab',\n",
       " 'bbabababbbaabbababbababaabbaaaaaaaabbaba',\n",
       " 'aaabaabbbbaaabbbabababbb',\n",
       " 'abababababbbaaaaabbababbaabaaaaabbaaababaabbbababbabbbabaaaaabaa',\n",
       " 'bbbbabaaabaabaabbbaaaabaaaababbbbbaababababababa',\n",
       " 'aaaabbaaabaababbbaaabbbb',\n",
       " 'baaabbabbabbababaaaabbabaabaaaabbbbaabbbabaaaabb',\n",
       " 'aabaaaaaaaababbbabbbaabaabbbbaabbbbbbbabaababababaababaa',\n",
       " 'babaabaaaaaaabababbaaabbbbbaabaabbababab',\n",
       " 'aababbbbbbbabaaaaaabaabbbbbabbaabbabbababbbbaaba',\n",
       " 'bbbabbaababbbaabaabbaaaa',\n",
       " 'abbbaabbbbbabaaaaaababab',\n",
       " 'babbababbbbabbbbaabaaabaabbaabbaabbabaab',\n",
       " 'abbaaaabbbabbbaaabbbbbab',\n",
       " 'aabbabbbbabababbaaabbbbaaababaabbabbbbbbbbaabbbaabbbabaababbbaabbbaabbaabbbaabbb',\n",
       " 'bbabaabaabaabaaaabbababaaabaabaa',\n",
       " 'bbbbbaabaaaaaabbaabbbaababaabaaabbabaaabbbabbaaaabaaaabb',\n",
       " 'aababbababaaaaaaabbbbbbbbaabaaab',\n",
       " 'aaabbbaabbbaabbababaabbabbbbabaabbaabbaaaabababbabbbbbba',\n",
       " 'bbbbbababbabbaaabbbabaabaabbbbbb',\n",
       " 'aababaabaaaaaaabaabbaabaaaabbaaaaababbbbabbbabbbbaaabbab',\n",
       " 'baabbaaabbaaaabbaaabbbbbabaabbabbbbabbba',\n",
       " 'bababaabbabbbbbabaabbbbabbbaaaab',\n",
       " 'ababbaaabbbaabbababbbbab',\n",
       " 'babaaaababbbbbbbaaaaaababaabbbba',\n",
       " 'aaaabbabbaaabbaabaabbaba',\n",
       " 'bbbbaabbbbbbbbababababbabababbaa',\n",
       " 'baaabbaaabbaaaaababababa',\n",
       " 'aaabaaaabbbbbaababbbbababbabbbaaaabbabbaababaabbbaaabaabababaababbabaabb',\n",
       " 'babaabbababaaabbbababbbb',\n",
       " 'baabababbbaaaabbbbabbaaaabbabbaabbabbbbb',\n",
       " 'babbbbababaaaabaabbbbbaaababbaabaabbbbbabbaabaaaaabababb',\n",
       " 'babbbaaabaabaaabaabaaabb',\n",
       " 'aaabbbbbbbaaabbbbaaaaaba',\n",
       " 'baaaaaabaabbbbbbabaababa',\n",
       " 'ababaaabbbbaaabbababaaaaababbaababbbbaaaaababaaabbabbbaababababbabaabaabbabbabbbbaabaabb',\n",
       " 'abaaaaaaabbaababbbaababbbbbaabbbbbaabbaa',\n",
       " 'ababbbabbabbbaabbbbbbbbb',\n",
       " 'abbaaaabbaabbbababaaaabb',\n",
       " 'bbababbbababbbababbabbbb',\n",
       " 'baabaaaababbabaaababaaabbbbaaabbbbbbbbbaaabbaaaaaaabbbba',\n",
       " 'baaabbabbaaaaaaababaaaabbaabbbba',\n",
       " 'abaaabbbbaabbaababababbaaabbbaaabaababab',\n",
       " 'bbbaabbaaabbabaababbababaabbabbbbabbaabaaaabbaabaabaabaabaaaabbb',\n",
       " 'aabbaabababaababaaababbbbabaabbb',\n",
       " 'abbaabbabaaabbabbaabaaab',\n",
       " 'bbbbabaababbbabaabaabbbb',\n",
       " 'baabaaaaababbbabbbbaaaaabbbabababaababaa',\n",
       " 'baaaababbbaaababbbabbaabaaabbaaa',\n",
       " 'babbabaabbaabbabbbabbabaabaaabab',\n",
       " 'aababaabbabaabbabbbabbba',\n",
       " 'aaaaaaaaabbaabaaaabaabbbabbabbab',\n",
       " 'babbbaabbbabbaaabbabbbbabaaabbbb',\n",
       " 'abbaaaaaabbbabbababbbbbb',\n",
       " 'babbabbabaababbaabbbabbbaaababaa',\n",
       " 'bbabbbaaaabaabbbaababaabaababaabaaaaabba',\n",
       " 'babbabaaaaabbbbbbbbabbba',\n",
       " 'baaaaaaabbbbbababbbbbbba',\n",
       " 'bbbbabaaaaaaabbbababbbba',\n",
       " 'aababbabbabaababbaaaabbbbaaabaaa',\n",
       " 'babaabbabbaaaabbbaabaaba',\n",
       " 'abbbaaabababababbbabbbbb',\n",
       " 'bbbbaabbababbabbababababbbbaaababbbaaaba',\n",
       " 'aabaaabaabbabababbaaaabbababaabbbbaabbba',\n",
       " 'bbbaabbabababbabbbbbbbbb',\n",
       " 'abbababbbbbbbaabbaaabbababbbbaabaabbaaaaabbbbbab',\n",
       " 'ababbabbbbaaabbbababbabbaaaaaaba',\n",
       " 'bbabaabababbbbabbababaabaabaabbaaabaabab',\n",
       " 'bbaaabbbbabaabbaaabbbaba',\n",
       " 'baaaabbbbaabbaaaabaaabaabaababaabbbaabaa',\n",
       " 'aababaababbaaaaaabaaaabb',\n",
       " 'bbbbabaababaababaaaaababbbbbabaababaababbbbaaaab',\n",
       " 'abababbbbababbbbbaaaabbbaabaaaaaababbabababbbbbbbbaabbba',\n",
       " 'bbaaaaaaabbbbaaabaaaaabb',\n",
       " 'bbabaaaaabbabaaababaaaabaaabbaab',\n",
       " 'bbbbbababaabbaaaaaaaaaaaabaaaabaabaabaabbaabaaab',\n",
       " 'baabbbabaaaaaaaabbbabaaaababbabbaaababab',\n",
       " 'aabbaabaabbabaaaaabbbbaabaaabbababbabbba',\n",
       " 'aaaabaababaaabaabbaaaaab',\n",
       " 'abaabbabababbbbbabbbabbabaabbaababababaa',\n",
       " 'bbbbaabbbbbbaabbbaabbbaaaabbbaabbaabbbababbbabababbaabbb',\n",
       " 'bbaabbaababbaabaabaaaabaaaabbaaabbababaabbaabbbbbabbaaaabbbbbbababbbababaabbaaaabbaaabbb',\n",
       " 'aabbbbbaaabaaaaabbaaaaaabbabaabbabbaaaabbbbbbbbbbbababbbbbababab',\n",
       " 'bbbbaabbbbbaaabaaabbabbabbababbaababaabb',\n",
       " 'abaaaabbaaaaaaabbbbaababbabbbbaabbababaaaabbabbb',\n",
       " 'bbaabaabaabbabbababbabaaababaababaaaaaba',\n",
       " 'bababbaaabaabbabaaababaaaabbaababaabbaabaabbabbababaabbabaaabaaaaababbabaabaaabb',\n",
       " 'bbbaaabaaaababbbbbaabaabbaabaaba',\n",
       " 'abbabaaabbaaaaaabaaaabaa',\n",
       " 'bbaababbbbaaababbabaaaaaaabababbaaabbabb',\n",
       " 'abaabaaaaaabbbbbabbabaab',\n",
       " 'abbbaabbaabaabbbbaaaaabb',\n",
       " 'abbaaaabaaaaababbaaaabbbababaaabbaaabaaa',\n",
       " 'bbbaaabbbbaabaabbaaaaaab',\n",
       " 'aabbbbaababbbabaabaabbba',\n",
       " 'aababbbbbaabbbaaaaaabbabaababbba',\n",
       " 'abaaaaaaaabaaaabbabaababbbababbaaabbbaabaaaababbbbbabbba',\n",
       " 'bbaaaabaabbbbaabaaababaababbaabbbabbbaaa',\n",
       " 'aabaabbbbaaaabbbaabaabbbbbabaaabbbabbbbaaabbbababababbbbbaabbbbb',\n",
       " 'aabbaabaabbaaabaaabaaaab',\n",
       " 'bbbaabbbabaaaaabaaaababb',\n",
       " 'babaaaabbbbabbaaaaaabaabaaaababa',\n",
       " 'baaaabbbbbaababbbbaabbab',\n",
       " 'bbabbbbabbabbbbaabbbbabb',\n",
       " 'baaabbababbbaaaabaabbabbaabbabbb',\n",
       " 'abaabaaababbbababbabbaabaababaaaaaabbbbabbbaabaaaaabbaaaababbababbbbbbaa',\n",
       " 'aabbbaabbabbabaaabbaaaaaababbaaaababaabaabababbbaaabbbbaaabbabab',\n",
       " 'babbaaabbaaabbababaaaaab',\n",
       " 'abbaaabaabbaaaabaabaaabaababbaba',\n",
       " 'bbaabbbbaabbaabbbaaababa',\n",
       " 'aabaabbabababbbbabbabbabaaabaaab',\n",
       " 'ababaabbbbbbbaaaababbaba',\n",
       " 'abbbbaaaabaabbabbaabbabbaabbbabb',\n",
       " 'babbabaaaabaaaabbbbbabab',\n",
       " 'bbaaaaaaaabaaaaaababaaaa',\n",
       " 'aaabaabbaaabaabbbbaaababaaababbbaaabaaabbababaaa',\n",
       " 'bbbaaabababaaaabbabaabaabbaabaabbbbbaaaa',\n",
       " 'aaaabbbbabbaabbaaabbbbbb',\n",
       " 'abbabaaabaabbbababbbaabbbabaaaaaaaabaabbbbbbbabb',\n",
       " 'bababaabbaabbaaaaababbbbaaababababababbb',\n",
       " 'bbbbaabbabbbbaabbbaaaaaaaabbbbaababaabaaaabbaaaabbbaabbb',\n",
       " 'aaaaaaabbbbbaaabbabbaabaababbababababbbaaabbabbbbaaaabaa',\n",
       " 'babbababbabaabbabababaaa',\n",
       " 'aaaabaabbabbbbaabbbbbaabbaaaaaabbbaaaaabaabaabbbbabbbabbabbaabba',\n",
       " 'aaaabbabaabaaaaabaabaaaaaaabaababbbaabaa',\n",
       " 'aababbaaabababbaaabbaaaa',\n",
       " 'baabaaaabaaabbbaabbbaabbbbbaaaab',\n",
       " 'baabbbabaaaabaabbabbababbabaaaabaabbbabaaaabaaabbbbbbabb',\n",
       " 'ababababbbaaaaaaababbbbbbbbabbab',\n",
       " 'aabbbaabbaaabbaabaabbaaaabbabaaa',\n",
       " 'bbbaabaabaabbabbaabaaabbbbbaabaabaabaabbbbabbbaabaabbbbbbbbbbaaaabbbabab',\n",
       " 'bbaaababaaaaaaaabbbaabbb',\n",
       " 'abbbbbaababbbbabaabaaabaaabbbbaaaabbaabababbaaaaabaaaabbbbbababa',\n",
       " 'abbaaabababaababaabbbbaaaabbbbaaababaaaa',\n",
       " 'abaaaabaabbaaabababababa',\n",
       " 'abbaababbaaabbbaababababaabbaabbbbaaabaa',\n",
       " 'abbaabaabaaaabbbbbbbaabbaaababbbababaaba',\n",
       " 'abbbbbaabaabbbaaaaaaababbaaaaabb',\n",
       " 'abaabaabbbaabaabaabaabab',\n",
       " 'aabaabbbabbaaaabaabbbaba',\n",
       " 'bbbbbbababbbbbbbbbababab',\n",
       " 'babbbbabbabbbbabbbbbaabbbbbbaabbaaaaaabbbbbaabaa',\n",
       " 'bbabbabbbbbbbabaabbaaaababbabbababaabbaabbbbbbaaabbbbbbaabbabababbabaababbaaaaba',\n",
       " 'abaaaabaaaababbbaaabbbbbabbbabbaaaababaa',\n",
       " 'aababaaabaaabbababaaabba',\n",
       " 'abbaabbabbabbbaabaaaaabb',\n",
       " 'aababaabbbaaaaaabaabbbaabbaabbbbabbbbaaaaaaababb',\n",
       " 'abaabbbbaabbabaabaaabbaaababaabaabbabaab',\n",
       " 'bbbbaaabbabababbbbbabbaabbbbbabbababaaaa',\n",
       " 'bbbbaabbaaabaabbbbbbbabb',\n",
       " 'abbbaaabbaabababbabbbaaa',\n",
       " 'abbaabababbbabbbbbaaabbbaabaaaabbbbaaababbbbabba',\n",
       " 'bbbababbabbbbaabbabaabababbbaabaaabbaaab',\n",
       " 'bbabbbbbabaaabbabbbaaabbbbbaaababbbaababaabaabbaaabbaaabbabaaabbbbbbabbaaabbbaab',\n",
       " 'aabbbaababbababababbabaabaabababbbaaaaab',\n",
       " 'babbaaababababbabbbbbbba',\n",
       " 'baabbaaabaaaababbbabbaabbbabaababbbbbbaaaaaaabaa',\n",
       " 'abaabaabbbaabaabbaaabbabaabbbbaabaaabaab',\n",
       " 'babbbbababbbbbbbaaaaabaa',\n",
       " 'babaabbaabaaaaaabababbaa',\n",
       " 'aabbbbaabbabbbbaabbbbbaabbbbbababaabbbabbaabaaabbbaabaaa',\n",
       " 'abbabbaaaabaaaaaababbaaaabababbbaaaabababaaabbaa',\n",
       " 'baaaaaaabbaababbbbabaabaababbaabbbaaaabaaaababab',\n",
       " 'bababbabaabaaababbbaabab',\n",
       " 'aaababbbaaabbbaaaaabbbab',\n",
       " 'aabaaaaabbbabaababaaaaab',\n",
       " 'aabbbbababbbbaabababbbabbaabaabb',\n",
       " 'bbaababbbbababbaaaababaa',\n",
       " 'baaaaaaabbaabbbbbaabaaba',\n",
       " 'aabbabaabaabbaabbbbabbbbaaabbaababbabbbb',\n",
       " 'bbbbbaabbabaaaaaabbabbab',\n",
       " 'bbaaaabbaaaabbbbbbbbbbbbbabababa',\n",
       " 'baaabbaabbabbbbaaabaaababbbbaaabbabbabababaaabab',\n",
       " 'bbbababbabbbabbbabbaabbababaabbb',\n",
       " 'bbabaababbbbbabaabaaaabaabaababa',\n",
       " 'bbaababbbbbbbbbabbabaabbbbaababa',\n",
       " 'abbababbabaabaabbaaabbabbbbababababaabbb',\n",
       " 'aabaabaaaabaaaaaaaaabbabaaababbbaaabbbbaabaaaaab',\n",
       " 'babbbbabababbbaabbaabbbaabbaababaabbbbbaabbbbbbabbaaaaaaaaaaaabbabababbb',\n",
       " 'bbabaaabbaabbaaaaabbbaba',\n",
       " 'ababbbbbbbababbbbbaaabbbaaababba',\n",
       " 'bbbbbbabaaaaabababbbbabb',\n",
       " 'bbbababbabbbbaabaaaaaabbaaaabbbbaaaaaababbaabbab',\n",
       " 'bbabbaaaaaaabaaaaabbabbb',\n",
       " 'babbaaabbbbaaaabbaababbbabbbabaababbbbbabbbabbbaaabbbbaaaaabaaaabaaabbbb',\n",
       " 'bbabbaababbaabbabaabbaaaaabbbbbbbbbabababbabbbababababaa',\n",
       " 'abbaaababababaabaaaababa',\n",
       " 'aaabbbbbabaabbababaaaabb',\n",
       " 'ababaaababaaaaaaaabbabaabbabbbbbbabbbaaa',\n",
       " 'aabababbbbaaabbaaaababababababbb',\n",
       " 'baaabbbaabbbbaabbbabbbbababaaaaaabaabaabbbaaabbaabbabbba',\n",
       " 'aaaabbababbbaaabababbbabbbabbaba',\n",
       " 'bbaabababbbaabaaaaaaaaaababbaaabbbbababbabbaaaabababbaaababaaabbaababaababaaaabaaaaabbaa',\n",
       " 'aabbaababababbabbaabbaba',\n",
       " 'aabbaabbaabaaabababbbbabaababbabbbaababbbabbbbaa',\n",
       " 'ababababaabbbbbbbaaabaaabababababaaababbaaaaabbababaabaaaaaaaabaaababaab',\n",
       " 'baabaaaabaaaabbbabbbbbbbabbabbaabbbaabab',\n",
       " 'abababbabbaaaaaaaabbabbabaabaaba',\n",
       " 'baabbbaababaaaabbbaababa',\n",
       " 'abbbabbaababaaababbbbbab',\n",
       " 'bbaaaabaabbaaabbbbabaaabbabbbbbbbbbabbabbbaabaaa',\n",
       " 'baaabbaaabaaaaaababaabbb',\n",
       " 'baaaaaaaaaabaabbaabbbbba',\n",
       " 'bbbbbbabaaaabbbbbbbaabbabbaabbba',\n",
       " 'bbbbbababaaababbabbbbaabbabbabbbaabbaaaabaaaabaaaaaabababbbababa',\n",
       " 'aaaaaabbbabaaaabbabbaaba',\n",
       " 'aabaaaaaababbbbbaababaabbbbabaabaabbbbaa',\n",
       " 'bbaabaabababbbabbabbabbababbabababaaabab',\n",
       " 'baabbbaababaabaabaaabbaaaabaabbababaabaaabbbabaa',\n",
       " 'bbbababbbabbaaaabbabbaaaaabbbbaababababbaaaababb',\n",
       " 'ababaaabaabaabbbbaaaabba',\n",
       " 'abaaaaaabbbababbbaaaabba',\n",
       " 'aaaabbababbbaaaabbabbaabbbaaabbbabbbbababbbaaaab',\n",
       " 'babaabbaabbbbaabbbbaabbb',\n",
       " 'bbaaaabaabbbbaabbbababbbaaaabbabbbaabbab',\n",
       " 'aababaabaabbbaabaabbaaaa',\n",
       " 'aaaabbbbbabbabaabaaaaaab',\n",
       " 'aabbabbabbbbbbabaaaababa',\n",
       " 'bbabbbbaabbbabbbabaabaabababbbbbabbabbbb',\n",
       " 'bbbaabbababbabbaababbaabbbbbabaaabbaaabbbaabababaabbababbbbabbbabbaabaaabbbbaaba',\n",
       " 'bbbabbaabbaababbbabbbbabaaaabbbbababbaaababaabbb',\n",
       " 'aaaabbabbaaaababaabbbabb',\n",
       " 'abaabaaababaabbaabababbaababbaaabbbaabbaabaaaabbbaaaaabbbbbaabbbaaaabaaa',\n",
       " 'bbababbabbbbaaabbabbbbabbbabaaabaaababaa',\n",
       " 'baabbaaabbbbabaabaaaaabb',\n",
       " 'aababbaaababbbbbbaaabbbaabbbabab',\n",
       " 'aaaabaabbbabaaaabbabababbbaabbbbbabbaaaabaaaaaab',\n",
       " 'babaabbaaababbaaabaabbaa',\n",
       " 'abaaabaaabaaabaaaababaaaaaaaabbb',\n",
       " 'bbbbaabbaabbbbaabbbababa',\n",
       " 'bbaaaabbaabbaabbbbbabbba',\n",
       " 'aabaaaababbabaaaabaabbabaaaaaababbbbbbbb',\n",
       " 'aababaabaabaabaaababbaba',\n",
       " 'bbaaaabababbabaaaaaabbbb',\n",
       " 'babbbaabbbbababbbbabbaabaababaaa',\n",
       " 'baaabbbaaaabbbaabbaababa',\n",
       " 'abbbbbbbbbbabaabbabbabbb',\n",
       " 'aabaabbbaabbabbababbaaabaabbabbbabbabaab',\n",
       " 'aaabaabbaabbbbaaabaababa',\n",
       " 'abbababbaabbbbaaaaaaaaaaaaabbbbbbabaabbb',\n",
       " 'aababaaaaabbbaabaaaaabbb',\n",
       " 'aaaabbbbbbbbaabaaabababaababbbaa',\n",
       " 'aabaabaaabbaaaababbabbab',\n",
       " 'aaabbbaabbbbabaaabaabbabbabbaaaaababaaabaaabaabbbaaabaab',\n",
       " 'bbaaabaaaabbabbbaabaaaaababbababbbabbbaa',\n",
       " 'bbaabbbbaabaabbaabbbbbab',\n",
       " 'baabbbaabbaaaabaaaaababa',\n",
       " 'aaaaaaaaabaabaababbaabbb',\n",
       " 'abbbbababbaababbbaababbaabaabbabbabaabbabaaaaaab',\n",
       " 'aabbbaabbbabbbaaaababbba',\n",
       " 'ababbaaaaabaabbbabababbb',\n",
       " 'aabbbaababbbabbbaababaaaabbbbababbbaabaaabaaabbbbbaabbaa',\n",
       " 'bbbaaabbaababaabaabbabbb',\n",
       " 'baaaaaababababbaaaabbbbaaabaabaa',\n",
       " 'abbaaabababbbbabbbbaabbaabaabaabaaaaaaabbaaabbbb',\n",
       " 'baaaabaaaabaabaabaaabbaabaababbaabbbbbabaabaaababbbabaabaaaababb',\n",
       " 'ababbabbbbbabbbbaababaaa',\n",
       " 'bbbaaabbbababbabbaabaabb',\n",
       " 'babbbaabbbababbbbbbabaababbbbabbbbbbabbabbaaaabaabababbabbbbbbbbabbbaaabaaabbbab',\n",
       " 'bbbaabbababaababbaabbbba',\n",
       " 'aabaaabbbbabbbbbbaabbbaababbaaabbaaaaabaaaaaabbbbbaaaabbbaabababbabbaabaabbabaaaaabbabab',\n",
       " 'aababbbbabaababbbbaababaaabbaaab',\n",
       " 'bbaaabaaabababbaaabbababaaaabaaabaabbaaabbaababaaaaababababababbbaaaabbabaaabaaaabbaabba',\n",
       " 'abbaababbaaababbbbbaaaababbabbbbbbabbaba',\n",
       " 'aaaabbaaaababaaabaaabbbabbabaabababaabbb',\n",
       " 'baabaaaababbabaaaaabaabbbaaaaababbbbabba',\n",
       " 'babbababbbbabbbbbabaaaaabaabbbaaaaaabaabaabbbbabbbaaabaa',\n",
       " 'babbbbabbbbbbbabaabbbaaa',\n",
       " 'abbaaaababababbaababaaabbaabbbabbabbabaabbaabbabbbbbabbb',\n",
       " 'bababaababbbaaabbabbaaba',\n",
       " 'bbabbbbaababaaabbaabbbaabbbaabbbbbbaabaa',\n",
       " 'abbaaaababbaaaabbabaaabbbbabbaaabaaaabababbbbbbaaaababaaabaabbaabababaaa',\n",
       " 'babaaaabaaaabbbbbaabbbabababbaba',\n",
       " 'abbaaaaaaabaaaaaaaababaa',\n",
       " 'aabbbaabaaaaabababaaaaab',\n",
       " 'baaabbbababaaaabbbbbabab',\n",
       " 'babbbabaaababaaaaabbbabb',\n",
       " 'bbabbaabbbaaaabaabbaababbbbbabba',\n",
       " 'abaabaabbababaabbababbabbbabbaaabbaabaaa',\n",
       " 'aabbaabaaababaaabbababab',\n",
       " 'bbababbaaaabaaaaaaaabbbbbbbaaaabbbaabbab',\n",
       " 'bbaababbbabbaaaaababbbabbbaaabba',\n",
       " 'bbbaaaaabbbabaabaabaaaaaabaabbbaaabbaaab',\n",
       " 'babbbababababbabbabbbabb',\n",
       " 'bbbbbbabbbaaabbbbabaabaa',\n",
       " 'bbaabbbbbbabababbbbabbabbaabbbbaaabaabbbbbabbbbbbaabaaaabababbbaaabbbaaa',\n",
       " 'bbbbbababbbabbbbabbbbbaaabbaabaaabbbabaaabababbb',\n",
       " 'aaaabbabaabbaaabbaaabbbabbabbabaababaaabaaabbaabbabbbbbabaabbabb',\n",
       " 'babbaaabbbabbbbbbbbabbbbbbbaabbaaabaabbabbababaaaaaabbaa',\n",
       " 'abbaababababaaababaaabaaabaabaabbbababbabbbbbaaaaaaabbba',\n",
       " 'bbbbbbabbabababbabbbaabbaababababbaabbababbbbbab',\n",
       " 'baaaabababbaaabbbaabbaba',\n",
       " 'aababbbbbaabbbabbaaaaaba',\n",
       " 'abbbbaaaababbabbabbaabbaabaabbba',\n",
       " 'bbbbbaabbabaaabbbbaaabba',\n",
       " 'babaabbabaaabbabbbaaaaaaabaaaababaaabbba',\n",
       " 'bbbaabaaaabbbaaabbabaabb',\n",
       " 'aaaabbabaabaabbaabaaabba',\n",
       " 'bbbabbaaaabbaababaabaaba',\n",
       " 'bbabbbbaabbbbbbbabababbabbbababa',\n",
       " 'baabbbabbabbaaabbbbaabab',\n",
       " 'abbaaaaababababbabaaaabaaabbbabaababbbba',\n",
       " 'aaabbbaabababaaaaabaabab',\n",
       " 'baaabbaabababbabbaababbb',\n",
       " 'abbaabbaaabbbaabbaaabaaa',\n",
       " 'ababaaabbabaaaaaabbaaaaabbaabaaa',\n",
       " 'ababababbbaabaababbbbbba',\n",
       " 'bbbbaaabbbabbaaabbbaaababbabbaaabaabbabbabbbabab',\n",
       " 'ababbaaabababaabbaababbaaaabbbab',\n",
       " 'abbbabbbaabbabaaaaaabaabbbbbbabb',\n",
       " 'aababaabbbaaaabbabbaabaababbbbbbbbbbbbba',\n",
       " 'bbbaaabbbbbaaabbabbbabaa',\n",
       " 'abbabaaaababbaaabababbaa',\n",
       " 'babbbabababaaabbbbbaabab',\n",
       " 'bbbabbbbbabaabaaabbbabab',\n",
       " 'aababbabbabbaaabbbbabbaaaaabbbba',\n",
       " 'aabababbbbbbaaabababaababbbaabbabbbababbabbabaabaabbbabbabbbabbb',\n",
       " 'aababbabbbabbaaaaabbaaaa',\n",
       " 'bbbabbaabbbbbabbaababababaabaabb',\n",
       " 'baaaababaabbaabbabbaaabbbaababbabbbbabab',\n",
       " 'aababbaaabbbbababbaababa',\n",
       " 'bbabaaabababbbabbaabaaaababbaabb',\n",
       " 'abbaaaabaaaaaabbaabbabbb',\n",
       " 'babaaabbbaabbbabbbabaaaabaaaaaaaabbbabaa',\n",
       " 'aabaabbbbbaabaabbbabaaaabababbba',\n",
       " 'abbbbababaabaababbbbabbbabaaabbbaaaaabbbabababaabbbaabaa',\n",
       " 'baaabbbabbaabaabababbbba',\n",
       " 'bbbaaaaaabbbbbaabbabaaabbbbaaaab',\n",
       " 'aababaabaabbbbaaaabaaabb',\n",
       " 'aabaabbbbabaababbabbbabaabababbb',\n",
       " 'bbabaaabbaaaaaaaaaaabbbbaaaaabaa',\n",
       " 'baaabbabbbbaaababbaaabbbababbaba',\n",
       " 'abaabbabbabbabbababaababbabbbabbbbbbbbbb',\n",
       " 'bbaaaaaabbbbaabbbbbbaaaabbaabbaa',\n",
       " 'aabbabaabbababbabbbaaaab',\n",
       " 'baaabbbbaaababaabababbba',\n",
       " 'bbababbabbbabbaabbaabbbbabbaabbbbbaaabba',\n",
       " 'baababbaaabbaababaaaabbbbaabbbba',\n",
       " 'baababbababbbaababbbaabbbbabbaababaabababbbabbba',\n",
       " 'baaabbbababbaaabaabaaabb',\n",
       " 'babbabbaaabbbbbbabaaabbb',\n",
       " 'bbbaaababbbabaaaababbbbbbaababaa',\n",
       " 'aaababbbaaabbbbbbbabaaabaaabbbaabbaabbbaaaaabbbabbababaa',\n",
       " 'bbababbababababbbbaaabaa',\n",
       " 'babaabbaaaabbabbbaababbbaaababab',\n",
       " 'baaabbbaabbaaababbbbbabb',\n",
       " 'bbaaabbbbaabbbabbaababbababaaaabbaaaaababbaaabaabababbba',\n",
       " 'aabaaaababaaabaababaaaabaaaaaaba',\n",
       " 'aabbbbaaabaabaabababbabbbaabbbaabaaabaabaaaaaabaaababbba',\n",
       " 'bbabbaabbbbabaaabbbaaababbbaaaabbbababab',\n",
       " 'aababbbbababaaaababbabba',\n",
       " 'babbaaaabbbbabaabaababbbababaaabaaaabaabbababbaabbbabbaa',\n",
       " 'bbabbaaabbabbbbabaabbaaa',\n",
       " 'bbabbbaabbaaaabbaaaababb',\n",
       " 'bbabbbbaabbbbababaaaaaaaabbaabbb',\n",
       " 'abaabaaaaaaaaabbabbabbbb',\n",
       " 'aabaaabaabababababaaaababbbbbbababaabbbbbbbbbbbbbaaabbbb',\n",
       " 'babababbbbaabaaababbaaababaababa',\n",
       " 'abbbbaaaaabaabaabaababbaababbbbabbabbbab',\n",
       " 'aabaabaaabbbbaaaaaaaaaaaaababaaabbabaaabababaaaaababbaba',\n",
       " 'aaaabaabababbabbaaabaabbabaababbbaaaabbbbbbababa',\n",
       " 'bbbaabbabaaabbabbababbba',\n",
       " 'ababbbabaababbbbbabbbbba',\n",
       " 'abbaaaaabaabbaaababbbbabbbbbaaababaaaabbaabbabab',\n",
       " 'baabbaabbbabbaaaabababbb',\n",
       " 'abbbaaababbabaaababaabaabaaaabba',\n",
       " 'ababbaaaabbaaaaabbbbaabbaaabaaaabaaaaaabaaaabaaaaabbaaaababbbbaa',\n",
       " 'abaaaaaabbaaaababababbabababbabbbbaaabaabbbaabaa',\n",
       " 'aabbbbabababbbbbbaabbaba',\n",
       " 'bbbababbbaaabbaaabaabbba',\n",
       " 'abbaabaaababbaaaaaabaabbbbaaaabaabbbaabaaabaabab',\n",
       " 'bbabbbaabaaabbabaaabaabbbbabbbaabbbaababbaaaaabbaabbbbba']"
      ]
     },
     "execution_count": 9,
     "metadata": {},
     "output_type": "execute_result"
    }
   ],
   "source": [
    "messages = []\n",
    "for i in range(134,len(data['Column1'])):\n",
    "    messages.append(data['Column1'][i])\n",
    "messages"
   ]
  },
  {
   "cell_type": "code",
   "execution_count": 10,
   "metadata": {},
   "outputs": [
    {
     "data": {
      "text/plain": [
       "134"
      ]
     },
     "execution_count": 10,
     "metadata": {},
     "output_type": "execute_result"
    }
   ],
   "source": [
    "len(rules_list)"
   ]
  },
  {
   "cell_type": "code",
   "execution_count": 13,
   "metadata": {},
   "outputs": [],
   "source": [
    "rule_number = []\n",
    "rule_description = []\n",
    "for r in rules_list:\n",
    "    rule_number.append(int(r.split(': ')[0]))\n",
    "    rule_description.append(r.split(': ')[1])"
   ]
  },
  {
   "cell_type": "code",
   "execution_count": 15,
   "metadata": {},
   "outputs": [
    {
     "data": {
      "text/plain": [
       "['48 48',\n",
       " '48 81 | 41 7',\n",
       " '\"b\"',\n",
       " '131 48 | 70 41',\n",
       " '61 48 | 57 41',\n",
       " '41 41 | 41 48',\n",
       " '41 107 | 48 124',\n",
       " '41 48',\n",
       " '97 48 | 92 41',\n",
       " '34 48',\n",
       " '48 41 | 67 48',\n",
       " '48 100 | 41 132',\n",
       " '81 48 | 7 41',\n",
       " '83 48 | 130 41',\n",
       " '7 41 | 7 48',\n",
       " '64 41 | 24 48',\n",
       " '30 41 | 86 48',\n",
       " '89 41 | 39 48',\n",
       " '67 67',\n",
       " '41 22 | 48 111',\n",
       " '67 34',\n",
       " '34 48 | 39 41',\n",
       " '48 120 | 41 89',\n",
       " '41 18 | 48 98',\n",
       " '34 41 | 103 48',\n",
       " '110 41 | 34 48',\n",
       " '43 41 | 69 48',\n",
       " '101 48 | 114 41',\n",
       " '106 41 | 32 48',\n",
       " '48 | 41',\n",
       " '7 48',\n",
       " '48 120 | 41 39',\n",
       " '48 29 | 41 82',\n",
       " '48 49 | 41 47',\n",
       " '103 48 | 89 41',\n",
       " '41 48 | 48 41',\n",
       " '41 4 | 48 76',\n",
       " '9 48 | 93 41',\n",
       " '41 72 | 48 81',\n",
       " '67 1',\n",
       " '67 132',\n",
       " '41 20 | 48 63',\n",
       " '120 41 | 81 48',\n",
       " '100 41 | 7 48',\n",
       " '42 31',\n",
       " '49 41 | 56 48',\n",
       " '48 133 | 41 127',\n",
       " '90 41 | 28 48',\n",
       " '48 48 | 67 41',\n",
       " '84 41 | 27 48',\n",
       " '18 48',\n",
       " '79 41 | 33 48',\n",
       " '67 89',\n",
       " '81 41 | 7 48',\n",
       " '102 41 | 60 48',\n",
       " '41 7 | 48 120',\n",
       " '48 41',\n",
       " '41 96 | 48 95',\n",
       " '48 85 | 41 128',\n",
       " '48 62 | 41 50',\n",
       " '41 110',\n",
       " '41 37 | 48 6',\n",
       " '41 120 | 48 34',\n",
       " '120 41 | 89 48',\n",
       " '120 48 | 98 41',\n",
       " '48 103 | 41 34',\n",
       " '16 48 | 58 41',\n",
       " '48 71 | 41 123',\n",
       " '87 48 | 115 41',\n",
       " '41 67 | 48 41',\n",
       " '\"a\"',\n",
       " '2 48 | 77 41',\n",
       " '48 41 | 41 41',\n",
       " '7 48 | 89 41',\n",
       " '41 73 | 48 104',\n",
       " '100 48 | 103 41',\n",
       " '41 126 | 48 121',\n",
       " '40 48 | 47 41',\n",
       " '48 118 | 41 25',\n",
       " '75 48 | 27 41',\n",
       " '41 41 | 48 48',\n",
       " '48 72 | 41 18',\n",
       " '41 68 | 48 105',\n",
       " '48 110 | 41 120',\n",
       " '48 48 | 41 67',\n",
       " '41 41',\n",
       " '41 47 | 48 125',\n",
       " '1 48 | 103 41',\n",
       " '41 117 | 48 73',\n",
       " '89 41 | 132 48',\n",
       " '41 1 | 48 81',\n",
       " '129 48 | 93 41',\n",
       " '48 15 | 41 13',\n",
       " '48 1 | 41 81',\n",
       " '110 48 | 98 41',\n",
       " '8 11',\n",
       " '48 1 | 41 18',\n",
       " '89 41 | 18 48',\n",
       " '48 14 | 41 35',\n",
       " '52 48 | 112 41',\n",
       " '48 109 | 41 38',\n",
       " '116 48 | 3 41',\n",
       " '88 41',\n",
       " '89 41 | 100 48',\n",
       " '41 120 | 48 132',\n",
       " '103 48 | 18 41',\n",
       " '48 83 | 41 51',\n",
       " '48 44 | 41 74',\n",
       " '103 67',\n",
       " '41 36 | 48 55',\n",
       " '48 12 | 41 19',\n",
       " '123 48 | 91 41',\n",
       " '41 94 | 48 10',\n",
       " '41 93 | 48 122',\n",
       " '42',\n",
       " '48 72 | 41 1',\n",
       " '41 132 | 48 120',\n",
       " '41 59 | 48 17',\n",
       " '103 48 | 72 41',\n",
       " '48 81 | 41 100',\n",
       " '62 48 | 26 41',\n",
       " '100 48 | 98 41',\n",
       " '48 41 | 48 48',\n",
       " '23 48 | 21 41',\n",
       " '41 65 | 48 66',\n",
       " '120 41',\n",
       " '48 113 | 41 99',\n",
       " '41 92 | 48 80',\n",
       " '48 89 | 41 39',\n",
       " '54 48 | 119 41',\n",
       " '108 48 | 53 41',\n",
       " '81 41 | 34 48',\n",
       " '48 5 | 41 45',\n",
       " '46 41 | 78 48']"
      ]
     },
     "execution_count": 15,
     "metadata": {},
     "output_type": "execute_result"
    }
   ],
   "source": [
    "rule_description"
   ]
  },
  {
   "cell_type": "code",
   "execution_count": 21,
   "metadata": {},
   "outputs": [
    {
     "data": {
      "text/plain": [
       "['41', '48']"
      ]
     },
     "execution_count": 21,
     "metadata": {},
     "output_type": "execute_result"
    }
   ],
   "source": [
    "rule_description[7].split()"
   ]
  },
  {
   "cell_type": "code",
   "execution_count": 22,
   "metadata": {},
   "outputs": [
    {
     "data": {
      "text/plain": [
       "['41']"
      ]
     },
     "execution_count": 22,
     "metadata": {},
     "output_type": "execute_result"
    }
   ],
   "source": [
    "'41'.split()"
   ]
  },
  {
   "cell_type": "code",
   "execution_count": 52,
   "metadata": {},
   "outputs": [],
   "source": [
    "rules_parsed = []\n",
    "for r in rule_description:\n",
    "    parsed = []\n",
    "    if 'a' in r:\n",
    "        parsed = 'a'\n",
    "    elif 'b' in r:\n",
    "        parsed = 'b'\n",
    "    elif '|' not in r:\n",
    "        pair = r.split()\n",
    "        for i in pair:\n",
    "            i = int(i)\n",
    "            parsed.append(i)\n",
    "    elif '|' in r:\n",
    "        first_1 = []\n",
    "        second_1 = []\n",
    "        first = r.split(' | ')[0]\n",
    "        first = first.split()\n",
    "        for i in first:\n",
    "            i = int(i)\n",
    "            first_1.append(i)\n",
    "        second = r.split(' | ')[1]\n",
    "        second = second.split()\n",
    "        for i in second:\n",
    "            i = int(i)\n",
    "            second_1.append(i)\n",
    "        parsed.append(first_1)\n",
    "        parsed.append(second_1)\n",
    "    rules_parsed.append(parsed)\n",
    "    \n",
    "# Each description is a list, if the list is a list, then it has two options."
   ]
  },
  {
   "cell_type": "code",
   "execution_count": 53,
   "metadata": {},
   "outputs": [
    {
     "data": {
      "text/plain": [
       "[[48, 48],\n",
       " [[48, 81], [41, 7]],\n",
       " 'b',\n",
       " [[131, 48], [70, 41]],\n",
       " [[61, 48], [57, 41]],\n",
       " [[41, 41], [41, 48]],\n",
       " [[41, 107], [48, 124]],\n",
       " [41, 48],\n",
       " [[97, 48], [92, 41]],\n",
       " [34, 48],\n",
       " [[48, 41], [67, 48]],\n",
       " [[48, 100], [41, 132]],\n",
       " [[81, 48], [7, 41]],\n",
       " [[83, 48], [130, 41]],\n",
       " [[7, 41], [7, 48]],\n",
       " [[64, 41], [24, 48]],\n",
       " [[30, 41], [86, 48]],\n",
       " [[89, 41], [39, 48]],\n",
       " [67, 67],\n",
       " [[41, 22], [48, 111]],\n",
       " [67, 34],\n",
       " [[34, 48], [39, 41]],\n",
       " [[48, 120], [41, 89]],\n",
       " [[41, 18], [48, 98]],\n",
       " [[34, 41], [103, 48]],\n",
       " [[110, 41], [34, 48]],\n",
       " [[43, 41], [69, 48]],\n",
       " [[101, 48], [114, 41]],\n",
       " [[106, 41], [32, 48]],\n",
       " [[48], [41]],\n",
       " [7, 48],\n",
       " [[48, 120], [41, 39]],\n",
       " [[48, 29], [41, 82]],\n",
       " [[48, 49], [41, 47]],\n",
       " [[103, 48], [89, 41]],\n",
       " [[41, 48], [48, 41]],\n",
       " [[41, 4], [48, 76]],\n",
       " [[9, 48], [93, 41]],\n",
       " [[41, 72], [48, 81]],\n",
       " [67, 1],\n",
       " [67, 132],\n",
       " [[41, 20], [48, 63]],\n",
       " [[120, 41], [81, 48]],\n",
       " [[100, 41], [7, 48]],\n",
       " [42, 31],\n",
       " [[49, 41], [56, 48]],\n",
       " [[48, 133], [41, 127]],\n",
       " [[90, 41], [28, 48]],\n",
       " [[48, 48], [67, 41]],\n",
       " [[84, 41], [27, 48]],\n",
       " [18, 48],\n",
       " [[79, 41], [33, 48]],\n",
       " [67, 89],\n",
       " [[81, 41], [7, 48]],\n",
       " [[102, 41], [60, 48]],\n",
       " [[41, 7], [48, 120]],\n",
       " [48, 41],\n",
       " [[41, 96], [48, 95]],\n",
       " [[48, 85], [41, 128]],\n",
       " [[48, 62], [41, 50]],\n",
       " [41, 110],\n",
       " [[41, 37], [48, 6]],\n",
       " [[41, 120], [48, 34]],\n",
       " [[120, 41], [89, 48]],\n",
       " [[120, 48], [98, 41]],\n",
       " [[48, 103], [41, 34]],\n",
       " [[16, 48], [58, 41]],\n",
       " [[48, 71], [41, 123]],\n",
       " [[87, 48], [115, 41]],\n",
       " [[41, 67], [48, 41]],\n",
       " 'a',\n",
       " [[2, 48], [77, 41]],\n",
       " [[48, 41], [41, 41]],\n",
       " [[7, 48], [89, 41]],\n",
       " [[41, 73], [48, 104]],\n",
       " [[100, 48], [103, 41]],\n",
       " [[41, 126], [48, 121]],\n",
       " [[40, 48], [47, 41]],\n",
       " [[48, 118], [41, 25]],\n",
       " [[75, 48], [27, 41]],\n",
       " [[41, 41], [48, 48]],\n",
       " [[48, 72], [41, 18]],\n",
       " [[41, 68], [48, 105]],\n",
       " [[48, 110], [41, 120]],\n",
       " [[48, 48], [41, 67]],\n",
       " [41, 41],\n",
       " [[41, 47], [48, 125]],\n",
       " [[1, 48], [103, 41]],\n",
       " [[41, 117], [48, 73]],\n",
       " [[89, 41], [132, 48]],\n",
       " [[41, 1], [48, 81]],\n",
       " [[129, 48], [93, 41]],\n",
       " [[48, 15], [41, 13]],\n",
       " [[48, 1], [41, 81]],\n",
       " [[110, 48], [98, 41]],\n",
       " [8, 11],\n",
       " [[48, 1], [41, 18]],\n",
       " [[89, 41], [18, 48]],\n",
       " [[48, 14], [41, 35]],\n",
       " [[52, 48], [112, 41]],\n",
       " [[48, 109], [41, 38]],\n",
       " [[116, 48], [3, 41]],\n",
       " [88, 41],\n",
       " [[89, 41], [100, 48]],\n",
       " [[41, 120], [48, 132]],\n",
       " [[103, 48], [18, 41]],\n",
       " [[48, 83], [41, 51]],\n",
       " [[48, 44], [41, 74]],\n",
       " [103, 67],\n",
       " [[41, 36], [48, 55]],\n",
       " [[48, 12], [41, 19]],\n",
       " [[123, 48], [91, 41]],\n",
       " [[41, 94], [48, 10]],\n",
       " [[41, 93], [48, 122]],\n",
       " [42],\n",
       " [[48, 72], [41, 1]],\n",
       " [[41, 132], [48, 120]],\n",
       " [[41, 59], [48, 17]],\n",
       " [[103, 48], [72, 41]],\n",
       " [[48, 81], [41, 100]],\n",
       " [[62, 48], [26, 41]],\n",
       " [[100, 48], [98, 41]],\n",
       " [[48, 41], [48, 48]],\n",
       " [[23, 48], [21, 41]],\n",
       " [[41, 65], [48, 66]],\n",
       " [120, 41],\n",
       " [[48, 113], [41, 99]],\n",
       " [[41, 92], [48, 80]],\n",
       " [[48, 89], [41, 39]],\n",
       " [[54, 48], [119, 41]],\n",
       " [[108, 48], [53, 41]],\n",
       " [[81, 41], [34, 48]],\n",
       " [[48, 5], [41, 45]],\n",
       " [[46, 41], [78, 48]]]"
      ]
     },
     "execution_count": 53,
     "metadata": {},
     "output_type": "execute_result"
    }
   ],
   "source": [
    "rules_parsed"
   ]
  },
  {
   "cell_type": "code",
   "execution_count": 54,
   "metadata": {},
   "outputs": [
    {
     "data": {
      "text/plain": [
       "{18: [48, 48],\n",
       " 25: [[48, 81], [41, 7]],\n",
       " 48: 'b',\n",
       " 4: [[131, 48], [70, 41]],\n",
       " 20: [[61, 48], [57, 41]],\n",
       " 89: [[41, 41], [41, 48]],\n",
       " 74: [[41, 107], [48, 124]],\n",
       " 98: [41, 48],\n",
       " 99: [[97, 48], [92, 41]],\n",
       " 91: [34, 48],\n",
       " 100: [[48, 41], [67, 48]],\n",
       " 6: [[48, 100], [41, 132]],\n",
       " 40: [[81, 48], [7, 41]],\n",
       " 124: [[83, 48], [130, 41]],\n",
       " 50: [[7, 41], [7, 48]],\n",
       " 68: [[64, 41], [24, 48]],\n",
       " 60: [[30, 41], [86, 48]],\n",
       " 75: [[89, 41], [39, 48]],\n",
       " 103: [67, 67],\n",
       " 58: [[41, 22], [48, 111]],\n",
       " 71: [67, 34],\n",
       " 56: [[34, 48], [39, 41]],\n",
       " 122: [[48, 120], [41, 89]],\n",
       " 12: [[41, 18], [48, 98]],\n",
       " 95: [[34, 41], [103, 48]],\n",
       " 93: [[110, 41], [34, 48]],\n",
       " 13: [[43, 41], [69, 48]],\n",
       " 44: [[101, 48], [114, 41]],\n",
       " 69: [[106, 41], [32, 48]],\n",
       " 67: [[48], [41]],\n",
       " 45: [7, 48],\n",
       " 117: [[48, 120], [41, 39]],\n",
       " 46: [[48, 29], [41, 82]],\n",
       " 121: [[48, 49], [41, 47]],\n",
       " 130: [[103, 48], [89, 41]],\n",
       " 132: [[41, 48], [48, 41]],\n",
       " 94: [[41, 4], [48, 76]],\n",
       " 14: [[9, 48], [93, 41]],\n",
       " 26: [[41, 72], [48, 81]],\n",
       " 79: [67, 1],\n",
       " 115: [67, 132],\n",
       " 15: [[41, 20], [48, 63]],\n",
       " 47: [[120, 41], [81, 48]],\n",
       " 27: [[100, 41], [7, 48]],\n",
       " 11: [42, 31],\n",
       " 113: [[49, 41], [56, 48]],\n",
       " 31: [[48, 133], [41, 127]],\n",
       " 131: [[90, 41], [28, 48]],\n",
       " 81: [[48, 48], [67, 41]],\n",
       " 23: [[84, 41], [27, 48]],\n",
       " 84: [18, 48],\n",
       " 107: [[79, 41], [33, 48]],\n",
       " 83: [67, 89],\n",
       " 49: [[81, 41], [7, 48]],\n",
       " 108: [[102, 41], [60, 48]],\n",
       " 37: [[41, 7], [48, 120]],\n",
       " 120: [48, 41],\n",
       " 32: [[41, 96], [48, 95]],\n",
       " 2: [[48, 85], [41, 128]],\n",
       " 102: [[48, 62], [41, 50]],\n",
       " 5: [41, 110],\n",
       " 61: [[41, 37], [48, 6]],\n",
       " 97: [[41, 120], [48, 34]],\n",
       " 85: [[120, 41], [89, 48]],\n",
       " 80: [[120, 48], [98, 41]],\n",
       " 92: [[48, 103], [41, 34]],\n",
       " 65: [[16, 48], [58, 41]],\n",
       " 112: [[48, 71], [41, 123]],\n",
       " 70: [[87, 48], [115, 41]],\n",
       " 39: [[41, 67], [48, 41]],\n",
       " 41: 'a',\n",
       " 38: [[2, 48], [77, 41]],\n",
       " 110: [[48, 41], [41, 41]],\n",
       " 88: [[7, 48], [89, 41]],\n",
       " 52: [[41, 73], [48, 104]],\n",
       " 96: [[100, 48], [103, 41]],\n",
       " 66: [[41, 126], [48, 121]],\n",
       " 77: [[40, 48], [47, 41]],\n",
       " 3: [[48, 118], [41, 25]],\n",
       " 126: [[75, 48], [27, 41]],\n",
       " 1: [[41, 41], [48, 48]],\n",
       " 19: [[48, 72], [41, 18]],\n",
       " 42: [[41, 68], [48, 105]],\n",
       " 129: [[48, 110], [41, 120]],\n",
       " 72: [[48, 48], [41, 67]],\n",
       " 7: [41, 41],\n",
       " 59: [[41, 47], [48, 125]],\n",
       " 73: [[1, 48], [103, 41]],\n",
       " 114: [[41, 117], [48, 73]],\n",
       " 118: [[89, 41], [132, 48]],\n",
       " 51: [[41, 1], [48, 81]],\n",
       " 101: [[129, 48], [93, 41]],\n",
       " 133: [[48, 15], [41, 13]],\n",
       " 104: [[48, 1], [41, 81]],\n",
       " 123: [[110, 48], [98, 41]],\n",
       " 0: [8, 11],\n",
       " 55: [[48, 1], [41, 18]],\n",
       " 30: [[89, 41], [18, 48]],\n",
       " 76: [[48, 14], [41, 35]],\n",
       " 43: [[52, 48], [112, 41]],\n",
       " 24: [[48, 109], [41, 38]],\n",
       " 29: [[116, 48], [3, 41]],\n",
       " 106: [88, 41],\n",
       " 9: [[89, 41], [100, 48]],\n",
       " 125: [[41, 120], [48, 132]],\n",
       " 22: [[103, 48], [18, 41]],\n",
       " 21: [[48, 83], [41, 51]],\n",
       " 64: [[48, 44], [41, 74]],\n",
       " 111: [103, 67],\n",
       " 54: [[41, 36], [48, 55]],\n",
       " 119: [[48, 12], [41, 19]],\n",
       " 35: [[123, 48], [91, 41]],\n",
       " 127: [[41, 94], [48, 10]],\n",
       " 116: [[41, 93], [48, 122]],\n",
       " 8: [42],\n",
       " 128: [[48, 72], [41, 1]],\n",
       " 28: [[41, 132], [48, 120]],\n",
       " 63: [[41, 59], [48, 17]],\n",
       " 87: [[103, 48], [72, 41]],\n",
       " 36: [[48, 81], [41, 100]],\n",
       " 17: [[62, 48], [26, 41]],\n",
       " 62: [[100, 48], [98, 41]],\n",
       " 34: [[48, 41], [48, 48]],\n",
       " 82: [[23, 48], [21, 41]],\n",
       " 78: [[41, 65], [48, 66]],\n",
       " 33: [120, 41],\n",
       " 109: [[48, 113], [41, 99]],\n",
       " 57: [[41, 92], [48, 80]],\n",
       " 86: [[48, 89], [41, 39]],\n",
       " 53: [[54, 48], [119, 41]],\n",
       " 10: [[108, 48], [53, 41]],\n",
       " 90: [[81, 41], [34, 48]],\n",
       " 16: [[48, 5], [41, 45]],\n",
       " 105: [[46, 41], [78, 48]]}"
      ]
     },
     "execution_count": 54,
     "metadata": {},
     "output_type": "execute_result"
    }
   ],
   "source": [
    "rules_dict = {}\n",
    "for i in range(len(rule_number)):\n",
    "    rules_dict[rule_number[i]] = rules_parsed[i]\n",
    "rules_dict"
   ]
  },
  {
   "cell_type": "code",
   "execution_count": 95,
   "metadata": {},
   "outputs": [
    {
     "data": {
      "text/plain": [
       "'b'"
      ]
     },
     "execution_count": 95,
     "metadata": {},
     "output_type": "execute_result"
    }
   ],
   "source": [
    "rules_dict[48]"
   ]
  },
  {
   "cell_type": "code",
   "execution_count": 68,
   "metadata": {},
   "outputs": [
    {
     "data": {
      "text/plain": [
       "{0: [4, 1],\n",
       " 1: [[2, 3], [3, 2]],\n",
       " 2: [[4, 4], [5, 5]],\n",
       " 3: [[4, 5], [5, 4]],\n",
       " 4: 'a',\n",
       " 5: 'b'}"
      ]
     },
     "execution_count": 68,
     "metadata": {},
     "output_type": "execute_result"
    }
   ],
   "source": [
    "ex_dict = {}\n",
    "ex_dict[0] = [4,1]\n",
    "ex_dict[1] = [[2,3],[3,2]]\n",
    "ex_dict[2] = [[4,4],[5,5]]\n",
    "ex_dict[3] = [[4,5],[5,4]]\n",
    "ex_dict[4] = 'a'\n",
    "ex_dict[5] = 'b'\n",
    "ex_dict"
   ]
  },
  {
   "cell_type": "code",
   "execution_count": 69,
   "metadata": {},
   "outputs": [
    {
     "data": {
      "text/plain": [
       "[4, 1]"
      ]
     },
     "execution_count": 69,
     "metadata": {},
     "output_type": "execute_result"
    }
   ],
   "source": [
    "ex_dict[0]"
   ]
  },
  {
   "cell_type": "code",
   "execution_count": 70,
   "metadata": {},
   "outputs": [],
   "source": [
    "def get_sub_rules(num):\n",
    "    if (num == 'a') or (num == 'b'):\n",
    "        return(num)\n",
    "    else:\n",
    "        return(ex_dict[num])"
   ]
  },
  {
   "cell_type": "code",
   "execution_count": 71,
   "metadata": {},
   "outputs": [
    {
     "name": "stdout",
     "output_type": "stream",
     "text": [
      "['a', [[2, 3], [3, 2]]]\n"
     ]
    }
   ],
   "source": [
    "number_of_num = 2\n",
    "list_of_numbers = ex_dict[0]\n",
    "while number_of_num > 0:\n",
    "    new_list = []\n",
    "    for num in list_of_numbers:\n",
    "        new_list.append(get_sub_rules(num))\n",
    "    print(new_list)\n",
    "    list_of_numbers = new_list.copy()\n",
    "    number_of_num -= 2"
   ]
  },
  {
   "cell_type": "code",
   "execution_count": 92,
   "metadata": {},
   "outputs": [],
   "source": [
    "def check_for_numbers(rule):\n",
    "    number_of_num = 0\n",
    "    num_options = 0\n",
    "    copy = rule.copy()\n",
    "    while len(copy) > 0:\n",
    "        new_copy = []\n",
    "        for i in range(len(copy)):\n",
    "            sub = copy[i]\n",
    "            if (type(sub) == int):\n",
    "                num_options += 1\n",
    "                number_of_num += 1\n",
    "            elif (type(sub) == str):\n",
    "                num_options += 1\n",
    "            elif (type(sub) == list):\n",
    "                new_copy.append(sub[0])\n",
    "                new_copy.append(sub[1])\n",
    "                num_options += 2\n",
    "        copy = new_copy\n",
    "    return(number_of_num,num_options)\n",
    "\n",
    "def check_for_numbers(rule,list_sf):\n",
    "    number_of_num = 0\n",
    "    copy = rule.copy()\n",
    "    while len(copy) > 0:\n",
    "        new_copy = []\n",
    "        for i in range(len(copy)):\n",
    "            sub = copy[i]\n",
    "            if (type(sub) == int):\n",
    "                if sub in list_sf:\n",
    "                    continue\n",
    "                else:\n",
    "                    number_of_num += 1\n",
    "            elif (type(sub) == str):\n",
    "                continue\n",
    "            elif (type(sub) == list):\n",
    "                new_copy.append(sub[0])\n",
    "                new_copy.append(sub[1])\n",
    "        copy = new_copy\n",
    "    return(number_of_num)"
   ]
  },
  {
   "cell_type": "code",
   "execution_count": 93,
   "metadata": {},
   "outputs": [
    {
     "data": {
      "text/plain": [
       "0"
      ]
     },
     "execution_count": 93,
     "metadata": {},
     "output_type": "execute_result"
    }
   ],
   "source": [
    "check_for_numbers(ex_dict[2],[4,5])"
   ]
  },
  {
   "cell_type": "code",
   "execution_count": null,
   "metadata": {},
   "outputs": [],
   "source": [
    "list_sf = [4,5]\n",
    "list_not_sf = [0,1,2,3]\n",
    "new_sf = []\n",
    "still_not_sf = []\n",
    "for i in list_not_sf:\n",
    "    number_of_num = check_for_numbers(ex_dict[1],list_sf)\n",
    "    if number_of_num == 0:\n",
    "        new_sf.append(i)\n",
    "    else:\n",
    "        still_not_sf.append(i)\n",
    "        subs = ex_dict[i]\n",
    "        new_subs = []\n",
    "        for num in subs:\n",
    "            if type(num) == list:\n",
    "                for \n",
    "            elif type(num) == str:\n",
    "                new_subs.append(num)\n",
    "            elif type(num) == int:\n",
    "                new_subs.append(ex_dict[num])"
   ]
  },
  {
   "cell_type": "code",
   "execution_count": 96,
   "metadata": {},
   "outputs": [],
   "source": [
    "def sublist_counter(num):\n",
    "    count = 0\n",
    "    for i in range(len(num)):\n",
    "        if type(num[i]) == list:\n",
    "            count += 1\n",
    "            for j in range(len(num[i])):\n",
    "                if type(num[i][j]) == list:\n",
    "                    count += 1\n",
    "                    for k in range(len(num[i][j][k])):\n",
    "                        if type(num[i][j][k]) == list:\n",
    "                            count += 1\n",
    "    return(count)"
   ]
  },
  {
   "cell_type": "code",
   "execution_count": 100,
   "metadata": {},
   "outputs": [
    {
     "data": {
      "text/plain": [
       "1"
      ]
     },
     "execution_count": 100,
     "metadata": {},
     "output_type": "execute_result"
    }
   ],
   "source": [
    "sublist_counter([[1,2],2])"
   ]
  },
  {
   "cell_type": "code",
   "execution_count": 116,
   "metadata": {},
   "outputs": [],
   "source": [
    "def next_level(string):\n",
    "    numbers = ['1','2','3','4','5','6','7','8','9','0']\n",
    "    new_string = ''\n",
    "    number = ''\n",
    "    for i in range(len(string)):\n",
    "        if string[i] not in numbers:\n",
    "            new_string += string[i]\n",
    "        elif string[i] in numbers:\n",
    "            number += string[i]\n",
    "            if string[i+1] not in numbers:\n",
    "                new_string += 'rules_dict[' + number + ']'\n",
    "                number = ''\n",
    "    return(new_string)"
   ]
  },
  {
   "cell_type": "code",
   "execution_count": 117,
   "metadata": {},
   "outputs": [],
   "source": [
    "rules_dict[0] = [8,11]"
   ]
  },
  {
   "cell_type": "code",
   "execution_count": 118,
   "metadata": {},
   "outputs": [
    {
     "data": {
      "text/plain": [
       "[8, 11]"
      ]
     },
     "execution_count": 118,
     "metadata": {},
     "output_type": "execute_result"
    }
   ],
   "source": [
    "rules_dict[0]"
   ]
  },
  {
   "cell_type": "code",
   "execution_count": 119,
   "metadata": {},
   "outputs": [
    {
     "data": {
      "text/plain": [
       "'[rules_dict[8], rules_dict[11]]'"
      ]
     },
     "execution_count": 119,
     "metadata": {},
     "output_type": "execute_result"
    }
   ],
   "source": [
    "next_level(str(rules_dict[0]))"
   ]
  },
  {
   "cell_type": "code",
   "execution_count": 121,
   "metadata": {},
   "outputs": [
    {
     "data": {
      "text/plain": [
       "[[42], [42, 31]]"
      ]
     },
     "execution_count": 121,
     "metadata": {},
     "output_type": "execute_result"
    }
   ],
   "source": [
    "rules_dict[0] = [rules_dict[8], rules_dict[11]]\n",
    "rules_dict[0]"
   ]
  },
  {
   "cell_type": "code",
   "execution_count": 122,
   "metadata": {},
   "outputs": [
    {
     "data": {
      "text/plain": [
       "'[[rules_dict[42]], [rules_dict[42], rules_dict[31]]]'"
      ]
     },
     "execution_count": 122,
     "metadata": {},
     "output_type": "execute_result"
    }
   ],
   "source": [
    "next_level(str(rules_dict[0]))"
   ]
  },
  {
   "cell_type": "code",
   "execution_count": 123,
   "metadata": {},
   "outputs": [
    {
     "data": {
      "text/plain": [
       "[[[[41, 68], [48, 105]]], [[[41, 68], [48, 105]], [[48, 133], [41, 127]]]]"
      ]
     },
     "execution_count": 123,
     "metadata": {},
     "output_type": "execute_result"
    }
   ],
   "source": [
    "rules_dict[0] = [[rules_dict[42]], [rules_dict[42], rules_dict[31]]]\n",
    "rules_dict[0]"
   ]
  },
  {
   "cell_type": "code",
   "execution_count": 124,
   "metadata": {},
   "outputs": [
    {
     "data": {
      "text/plain": [
       "'[[[[rules_dict[41], rules_dict[68]], [rules_dict[48], rules_dict[105]]]], [[[rules_dict[41], rules_dict[68]], [rules_dict[48], rules_dict[105]]], [[rules_dict[48], rules_dict[133]], [rules_dict[41], rules_dict[127]]]]]'"
      ]
     },
     "execution_count": 124,
     "metadata": {},
     "output_type": "execute_result"
    }
   ],
   "source": [
    "next_level(str(rules_dict[0]))"
   ]
  },
  {
   "cell_type": "code",
   "execution_count": 125,
   "metadata": {},
   "outputs": [
    {
     "data": {
      "text/plain": [
       "[[[['a', [[64, 41], [24, 48]]], ['b', [[46, 41], [78, 48]]]]],\n",
       " [[['a', [[64, 41], [24, 48]]], ['b', [[46, 41], [78, 48]]]],\n",
       "  [['b', [[48, 15], [41, 13]]], ['a', [[41, 94], [48, 10]]]]]]"
      ]
     },
     "execution_count": 125,
     "metadata": {},
     "output_type": "execute_result"
    }
   ],
   "source": [
    "rules_dict[0] = [[[[rules_dict[41], rules_dict[68]], [rules_dict[48], rules_dict[105]]]], [[[rules_dict[41], rules_dict[68]], [rules_dict[48], rules_dict[105]]], [[rules_dict[48], rules_dict[133]], [rules_dict[41], rules_dict[127]]]]]\n",
    "rules_dict[0]"
   ]
  },
  {
   "cell_type": "code",
   "execution_count": 126,
   "metadata": {},
   "outputs": [
    {
     "data": {
      "text/plain": [
       "\"[[[['a', [[rules_dict[64], rules_dict[41]], [rules_dict[24], rules_dict[48]]]], ['b', [[rules_dict[46], rules_dict[41]], [rules_dict[78], rules_dict[48]]]]]], [[['a', [[rules_dict[64], rules_dict[41]], [rules_dict[24], rules_dict[48]]]], ['b', [[rules_dict[46], rules_dict[41]], [rules_dict[78], rules_dict[48]]]]], [['b', [[rules_dict[48], rules_dict[15]], [rules_dict[41], rules_dict[13]]]], ['a', [[rules_dict[41], rules_dict[94]], [rules_dict[48], rules_dict[10]]]]]]]\""
      ]
     },
     "execution_count": 126,
     "metadata": {},
     "output_type": "execute_result"
    }
   ],
   "source": [
    "next_level(str(rules_dict[0]))"
   ]
  },
  {
   "cell_type": "code",
   "execution_count": 127,
   "metadata": {},
   "outputs": [
    {
     "data": {
      "text/plain": [
       "[[[['a', [[[[48, 44], [41, 74]], 'a'], [[[48, 109], [41, 38]], 'b']]],\n",
       "   ['b', [[[[48, 29], [41, 82]], 'a'], [[[41, 65], [48, 66]], 'b']]]]],\n",
       " [[['a', [[[[48, 44], [41, 74]], 'a'], [[[48, 109], [41, 38]], 'b']]],\n",
       "   ['b', [[[[48, 29], [41, 82]], 'a'], [[[41, 65], [48, 66]], 'b']]]],\n",
       "  [['b', [['b', [[41, 20], [48, 63]]], ['a', [[43, 41], [69, 48]]]]],\n",
       "   ['a', [['a', [[41, 4], [48, 76]]], ['b', [[108, 48], [53, 41]]]]]]]]"
      ]
     },
     "execution_count": 127,
     "metadata": {},
     "output_type": "execute_result"
    }
   ],
   "source": [
    "rules_dict[0] = [[[['a', [[rules_dict[64], rules_dict[41]], [rules_dict[24], rules_dict[48]]]], ['b', [[rules_dict[46], rules_dict[41]], [rules_dict[78], rules_dict[48]]]]]], [[['a', [[rules_dict[64], rules_dict[41]], [rules_dict[24], rules_dict[48]]]], ['b', [[rules_dict[46], rules_dict[41]], [rules_dict[78], rules_dict[48]]]]], [['b', [[rules_dict[48], rules_dict[15]], [rules_dict[41], rules_dict[13]]]], ['a', [[rules_dict[41], rules_dict[94]], [rules_dict[48], rules_dict[10]]]]]]]\n",
    "rules_dict[0]"
   ]
  },
  {
   "cell_type": "code",
   "execution_count": 128,
   "metadata": {},
   "outputs": [
    {
     "data": {
      "text/plain": [
       "\"[[[['a', [[[[rules_dict[48], rules_dict[44]], [rules_dict[41], rules_dict[74]]], 'a'], [[[rules_dict[48], rules_dict[109]], [rules_dict[41], rules_dict[38]]], 'b']]], ['b', [[[[rules_dict[48], rules_dict[29]], [rules_dict[41], rules_dict[82]]], 'a'], [[[rules_dict[41], rules_dict[65]], [rules_dict[48], rules_dict[66]]], 'b']]]]], [[['a', [[[[rules_dict[48], rules_dict[44]], [rules_dict[41], rules_dict[74]]], 'a'], [[[rules_dict[48], rules_dict[109]], [rules_dict[41], rules_dict[38]]], 'b']]], ['b', [[[[rules_dict[48], rules_dict[29]], [rules_dict[41], rules_dict[82]]], 'a'], [[[rules_dict[41], rules_dict[65]], [rules_dict[48], rules_dict[66]]], 'b']]]], [['b', [['b', [[rules_dict[41], rules_dict[20]], [rules_dict[48], rules_dict[63]]]], ['a', [[rules_dict[43], rules_dict[41]], [rules_dict[69], rules_dict[48]]]]]], ['a', [['a', [[rules_dict[41], rules_dict[4]], [rules_dict[48], rules_dict[76]]]], ['b', [[rules_dict[108], rules_dict[48]], [rules_dict[53], rules_dict[41]]]]]]]]]\""
      ]
     },
     "execution_count": 128,
     "metadata": {},
     "output_type": "execute_result"
    }
   ],
   "source": [
    "next_level(str(rules_dict[0]))"
   ]
  },
  {
   "cell_type": "code",
   "execution_count": 129,
   "metadata": {},
   "outputs": [
    {
     "data": {
      "text/plain": [
       "\"[[[['a', [[[['b', [[rules_dict[101], rules_dict[48]], [rules_dict[114], rules_dict[41]]]], ['a', [[rules_dict[41], rules_dict[107]], [rules_dict[48], rules_dict[124]]]]], 'a'], [[['b', [[rules_dict[48], rules_dict[113]], [rules_dict[41], rules_dict[99]]]], ['a', [[rules_dict[2], rules_dict[48]], [rules_dict[77], rules_dict[41]]]]], 'b']]], ['b', [[[['b', [[rules_dict[116], rules_dict[48]], [rules_dict[3], rules_dict[41]]]], ['a', [[rules_dict[23], rules_dict[48]], [rules_dict[21], rules_dict[41]]]]], 'a'], [[['a', [[rules_dict[16], rules_dict[48]], [rules_dict[58], rules_dict[41]]]], ['b', [[rules_dict[41], rules_dict[126]], [rules_dict[48], rules_dict[121]]]]], 'b']]]]], [[['a', [[[['b', [[rules_dict[101], rules_dict[48]], [rules_dict[114], rules_dict[41]]]], ['a', [[rules_dict[41], rules_dict[107]], [rules_dict[48], rules_dict[124]]]]], 'a'], [[['b', [[rules_dict[48], rules_dict[113]], [rules_dict[41], rules_dict[99]]]], ['a', [[rules_dict[2], rules_dict[48]], [rules_dict[77], rules_dict[41]]]]], 'b']]], ['b', [[[['b', [[rules_dict[116], rules_dict[48]], [rules_dict[3], rules_dict[41]]]], ['a', [[rules_dict[23], rules_dict[48]], [rules_dict[21], rules_dict[41]]]]], 'a'], [[['a', [[rules_dict[16], rules_dict[48]], [rules_dict[58], rules_dict[41]]]], ['b', [[rules_dict[41], rules_dict[126]], [rules_dict[48], rules_dict[121]]]]], 'b']]]], [['b', [['b', [['a', [[rules_dict[61], rules_dict[48]], [rules_dict[57], rules_dict[41]]]], ['b', [[rules_dict[41], rules_dict[59]], [rules_dict[48], rules_dict[17]]]]]], ['a', [[[[rules_dict[52], rules_dict[48]], [rules_dict[112], rules_dict[41]]], 'a'], [[[rules_dict[106], rules_dict[41]], [rules_dict[32], rules_dict[48]]], 'b']]]]], ['a', [['a', [['a', [[rules_dict[131], rules_dict[48]], [rules_dict[70], rules_dict[41]]]], ['b', [[rules_dict[48], rules_dict[14]], [rules_dict[41], rules_dict[35]]]]]], ['b', [[[[rules_dict[102], rules_dict[41]], [rules_dict[60], rules_dict[48]]], 'b'], [[[rules_dict[54], rules_dict[48]], [rules_dict[119], rules_dict[41]]], 'a']]]]]]]]\""
      ]
     },
     "execution_count": 129,
     "metadata": {},
     "output_type": "execute_result"
    }
   ],
   "source": [
    "rules_dict[0] = [[[['a', [[[[rules_dict[48], rules_dict[44]], [rules_dict[41], rules_dict[74]]], 'a'], [[[rules_dict[48], rules_dict[109]], [rules_dict[41], rules_dict[38]]], 'b']]], ['b', [[[[rules_dict[48], rules_dict[29]], [rules_dict[41], rules_dict[82]]], 'a'], [[[rules_dict[41], rules_dict[65]], [rules_dict[48], rules_dict[66]]], 'b']]]]], [[['a', [[[[rules_dict[48], rules_dict[44]], [rules_dict[41], rules_dict[74]]], 'a'], [[[rules_dict[48], rules_dict[109]], [rules_dict[41], rules_dict[38]]], 'b']]], ['b', [[[[rules_dict[48], rules_dict[29]], [rules_dict[41], rules_dict[82]]], 'a'], [[[rules_dict[41], rules_dict[65]], [rules_dict[48], rules_dict[66]]], 'b']]]], [['b', [['b', [[rules_dict[41], rules_dict[20]], [rules_dict[48], rules_dict[63]]]], ['a', [[rules_dict[43], rules_dict[41]], [rules_dict[69], rules_dict[48]]]]]], ['a', [['a', [[rules_dict[41], rules_dict[4]], [rules_dict[48], rules_dict[76]]]], ['b', [[rules_dict[108], rules_dict[48]], [rules_dict[53], rules_dict[41]]]]]]]]]\n",
    "next_level(str(rules_dict[0]))"
   ]
  },
  {
   "cell_type": "code",
   "execution_count": 130,
   "metadata": {
    "scrolled": true
   },
   "outputs": [
    {
     "data": {
      "text/plain": [
       "\"[[[['a', [[[['b', [[[[rules_dict[129], rules_dict[48]], [rules_dict[93], rules_dict[41]]], 'b'], [[[rules_dict[41], rules_dict[117]], [rules_dict[48], rules_dict[73]]], 'a']]], ['a', [['a', [[rules_dict[79], rules_dict[41]], [rules_dict[33], rules_dict[48]]]], ['b', [[rules_dict[83], rules_dict[48]], [rules_dict[130], rules_dict[41]]]]]]], 'a'], [[['b', [['b', [[rules_dict[49], rules_dict[41]], [rules_dict[56], rules_dict[48]]]], ['a', [[rules_dict[97], rules_dict[48]], [rules_dict[92], rules_dict[41]]]]]], ['a', [[[[rules_dict[48], rules_dict[85]], [rules_dict[41], rules_dict[128]]], 'b'], [[[rules_dict[40], rules_dict[48]], [rules_dict[47], rules_dict[41]]], 'a']]]], 'b']]], ['b', [[[['b', [[[[rules_dict[41], rules_dict[93]], [rules_dict[48], rules_dict[122]]], 'b'], [[[rules_dict[48], rules_dict[118]], [rules_dict[41], rules_dict[25]]], 'a']]], ['a', [[[[rules_dict[84], rules_dict[41]], [rules_dict[27], rules_dict[48]]], 'b'], [[[rules_dict[48], rules_dict[83]], [rules_dict[41], rules_dict[51]]], 'a']]]], 'a'], [[['a', [[[[rules_dict[48], rules_dict[5]], [rules_dict[41], rules_dict[45]]], 'b'], [[[rules_dict[41], rules_dict[22]], [rules_dict[48], rules_dict[111]]], 'a']]], ['b', [['a', [[rules_dict[75], rules_dict[48]], [rules_dict[27], rules_dict[41]]]], ['b', [[rules_dict[48], rules_dict[49]], [rules_dict[41], rules_dict[47]]]]]]], 'b']]]]], [[['a', [[[['b', [[[[rules_dict[129], rules_dict[48]], [rules_dict[93], rules_dict[41]]], 'b'], [[[rules_dict[41], rules_dict[117]], [rules_dict[48], rules_dict[73]]], 'a']]], ['a', [['a', [[rules_dict[79], rules_dict[41]], [rules_dict[33], rules_dict[48]]]], ['b', [[rules_dict[83], rules_dict[48]], [rules_dict[130], rules_dict[41]]]]]]], 'a'], [[['b', [['b', [[rules_dict[49], rules_dict[41]], [rules_dict[56], rules_dict[48]]]], ['a', [[rules_dict[97], rules_dict[48]], [rules_dict[92], rules_dict[41]]]]]], ['a', [[[[rules_dict[48], rules_dict[85]], [rules_dict[41], rules_dict[128]]], 'b'], [[[rules_dict[40], rules_dict[48]], [rules_dict[47], rules_dict[41]]], 'a']]]], 'b']]], ['b', [[[['b', [[[[rules_dict[41], rules_dict[93]], [rules_dict[48], rules_dict[122]]], 'b'], [[[rules_dict[48], rules_dict[118]], [rules_dict[41], rules_dict[25]]], 'a']]], ['a', [[[[rules_dict[84], rules_dict[41]], [rules_dict[27], rules_dict[48]]], 'b'], [[[rules_dict[48], rules_dict[83]], [rules_dict[41], rules_dict[51]]], 'a']]]], 'a'], [[['a', [[[[rules_dict[48], rules_dict[5]], [rules_dict[41], rules_dict[45]]], 'b'], [[[rules_dict[41], rules_dict[22]], [rules_dict[48], rules_dict[111]]], 'a']]], ['b', [['a', [[rules_dict[75], rules_dict[48]], [rules_dict[27], rules_dict[41]]]], ['b', [[rules_dict[48], rules_dict[49]], [rules_dict[41], rules_dict[47]]]]]]], 'b']]]], [['b', [['b', [['a', [[[[rules_dict[41], rules_dict[37]], [rules_dict[48], rules_dict[6]]], 'b'], [[[rules_dict[41], rules_dict[92]], [rules_dict[48], rules_dict[80]]], 'a']]], ['b', [['a', [[rules_dict[41], rules_dict[47]], [rules_dict[48], rules_dict[125]]]], ['b', [[rules_dict[62], rules_dict[48]], [rules_dict[26], rules_dict[41]]]]]]]], ['a', [[[[[[rules_dict[41], rules_dict[73]], [rules_dict[48], rules_dict[104]]], 'b'], [[[rules_dict[48], rules_dict[71]], [rules_dict[41], rules_dict[123]]], 'a']], 'a'], [[[[rules_dict[88], rules_dict[41]], 'a'], [[[rules_dict[41], rules_dict[96]], [rules_dict[48], rules_dict[95]]], 'b']], 'b']]]]], ['a', [['a', [['a', [[[[rules_dict[90], rules_dict[41]], [rules_dict[28], rules_dict[48]]], 'b'], [[[rules_dict[87], rules_dict[48]], [rules_dict[115], rules_dict[41]]], 'a']]], ['b', [['b', [[rules_dict[9], rules_dict[48]], [rules_dict[93], rules_dict[41]]]], ['a', [[rules_dict[123], rules_dict[48]], [rules_dict[91], rules_dict[41]]]]]]]], ['b', [[[[[[rules_dict[48], rules_dict[62]], [rules_dict[41], rules_dict[50]]], 'a'], [[[rules_dict[30], rules_dict[41]], [rules_dict[86], rules_dict[48]]], 'b']], 'b'], [[[[[rules_dict[41], rules_dict[36]], [rules_dict[48], rules_dict[55]]], 'b'], [[[rules_dict[48], rules_dict[12]], [rules_dict[41], rules_dict[19]]], 'a']], 'a']]]]]]]]\""
      ]
     },
     "execution_count": 130,
     "metadata": {},
     "output_type": "execute_result"
    }
   ],
   "source": [
    "rules_dict[0] = [[[['a', [[[['b', [[rules_dict[101], rules_dict[48]], [rules_dict[114], rules_dict[41]]]], ['a', [[rules_dict[41], rules_dict[107]], [rules_dict[48], rules_dict[124]]]]], 'a'], [[['b', [[rules_dict[48], rules_dict[113]], [rules_dict[41], rules_dict[99]]]], ['a', [[rules_dict[2], rules_dict[48]], [rules_dict[77], rules_dict[41]]]]], 'b']]], ['b', [[[['b', [[rules_dict[116], rules_dict[48]], [rules_dict[3], rules_dict[41]]]], ['a', [[rules_dict[23], rules_dict[48]], [rules_dict[21], rules_dict[41]]]]], 'a'], [[['a', [[rules_dict[16], rules_dict[48]], [rules_dict[58], rules_dict[41]]]], ['b', [[rules_dict[41], rules_dict[126]], [rules_dict[48], rules_dict[121]]]]], 'b']]]]], [[['a', [[[['b', [[rules_dict[101], rules_dict[48]], [rules_dict[114], rules_dict[41]]]], ['a', [[rules_dict[41], rules_dict[107]], [rules_dict[48], rules_dict[124]]]]], 'a'], [[['b', [[rules_dict[48], rules_dict[113]], [rules_dict[41], rules_dict[99]]]], ['a', [[rules_dict[2], rules_dict[48]], [rules_dict[77], rules_dict[41]]]]], 'b']]], ['b', [[[['b', [[rules_dict[116], rules_dict[48]], [rules_dict[3], rules_dict[41]]]], ['a', [[rules_dict[23], rules_dict[48]], [rules_dict[21], rules_dict[41]]]]], 'a'], [[['a', [[rules_dict[16], rules_dict[48]], [rules_dict[58], rules_dict[41]]]], ['b', [[rules_dict[41], rules_dict[126]], [rules_dict[48], rules_dict[121]]]]], 'b']]]], [['b', [['b', [['a', [[rules_dict[61], rules_dict[48]], [rules_dict[57], rules_dict[41]]]], ['b', [[rules_dict[41], rules_dict[59]], [rules_dict[48], rules_dict[17]]]]]], ['a', [[[[rules_dict[52], rules_dict[48]], [rules_dict[112], rules_dict[41]]], 'a'], [[[rules_dict[106], rules_dict[41]], [rules_dict[32], rules_dict[48]]], 'b']]]]], ['a', [['a', [['a', [[rules_dict[131], rules_dict[48]], [rules_dict[70], rules_dict[41]]]], ['b', [[rules_dict[48], rules_dict[14]], [rules_dict[41], rules_dict[35]]]]]], ['b', [[[[rules_dict[102], rules_dict[41]], [rules_dict[60], rules_dict[48]]], 'b'], [[[rules_dict[54], rules_dict[48]], [rules_dict[119], rules_dict[41]]], 'a']]]]]]]]\n",
    "next_level(str(rules_dict[0]))"
   ]
  },
  {
   "cell_type": "code",
   "execution_count": 131,
   "metadata": {
    "scrolled": true
   },
   "outputs": [
    {
     "data": {
      "text/plain": [
       "\"[[[['a', [[[['b', [[[[[[rules_dict[48], rules_dict[110]], [rules_dict[41], rules_dict[120]]], 'b'], [[[rules_dict[110], rules_dict[41]], [rules_dict[34], rules_dict[48]]], 'a']], 'b'], [[['a', [[rules_dict[48], rules_dict[120]], [rules_dict[41], rules_dict[39]]]], ['b', [[rules_dict[1], rules_dict[48]], [rules_dict[103], rules_dict[41]]]]], 'a']]], ['a', [['a', [[[rules_dict[67], rules_dict[1]], 'a'], [[rules_dict[120], rules_dict[41]], 'b']]], ['b', [[[rules_dict[67], rules_dict[89]], 'b'], [[[rules_dict[103], rules_dict[48]], [rules_dict[89], rules_dict[41]]], 'a']]]]]], 'a'], [[['b', [['b', [[[[rules_dict[81], rules_dict[41]], [rules_dict[7], rules_dict[48]]], 'a'], [[[rules_dict[34], rules_dict[48]], [rules_dict[39], rules_dict[41]]], 'b']]], ['a', [[[[rules_dict[41], rules_dict[120]], [rules_dict[48], rules_dict[34]]], 'b'], [[[rules_dict[48], rules_dict[103]], [rules_dict[41], rules_dict[34]]], 'a']]]]], ['a', [[[['b', [[rules_dict[120], rules_dict[41]], [rules_dict[89], rules_dict[48]]]], ['a', [[rules_dict[48], rules_dict[72]], [rules_dict[41], rules_dict[1]]]]], 'b'], [[[[[rules_dict[81], rules_dict[48]], [rules_dict[7], rules_dict[41]]], 'b'], [[[rules_dict[120], rules_dict[41]], [rules_dict[81], rules_dict[48]]], 'a']], 'a']]]], 'b']]], ['b', [[[['b', [[[['a', [[rules_dict[110], rules_dict[41]], [rules_dict[34], rules_dict[48]]]], ['b', [[rules_dict[48], rules_dict[120]], [rules_dict[41], rules_dict[89]]]]], 'b'], [[['b', [[rules_dict[89], rules_dict[41]], [rules_dict[132], rules_dict[48]]]], ['a', [[rules_dict[48], rules_dict[81]], [rules_dict[41], rules_dict[7]]]]], 'a']]], ['a', [[[[[rules_dict[18], rules_dict[48]], 'a'], [[[rules_dict[100], rules_dict[41]], [rules_dict[7], rules_dict[48]]], 'b']], 'b'], [[['b', [rules_dict[67], rules_dict[89]]], ['a', [[rules_dict[41], rules_dict[1]], [rules_dict[48], rules_dict[81]]]]], 'a']]]], 'a'], [[['a', [[[['b', [rules_dict[41], rules_dict[110]]], ['a', [rules_dict[7], rules_dict[48]]]], 'b'], [[['a', [[rules_dict[103], rules_dict[48]], [rules_dict[18], rules_dict[41]]]], ['b', [rules_dict[103], rules_dict[67]]]], 'a']]], ['b', [['a', [[[[rules_dict[89], rules_dict[41]], [rules_dict[39], rules_dict[48]]], 'b'], [[[rules_dict[100], rules_dict[41]], [rules_dict[7], rules_dict[48]]], 'a']]], ['b', [['b', [[rules_dict[81], rules_dict[41]], [rules_dict[7], rules_dict[48]]]], ['a', [[rules_dict[120], rules_dict[41]], [rules_dict[81], rules_dict[48]]]]]]]]], 'b']]]]], [[['a', [[[['b', [[[[[[rules_dict[48], rules_dict[110]], [rules_dict[41], rules_dict[120]]], 'b'], [[[rules_dict[110], rules_dict[41]], [rules_dict[34], rules_dict[48]]], 'a']], 'b'], [[['a', [[rules_dict[48], rules_dict[120]], [rules_dict[41], rules_dict[39]]]], ['b', [[rules_dict[1], rules_dict[48]], [rules_dict[103], rules_dict[41]]]]], 'a']]], ['a', [['a', [[[rules_dict[67], rules_dict[1]], 'a'], [[rules_dict[120], rules_dict[41]], 'b']]], ['b', [[[rules_dict[67], rules_dict[89]], 'b'], [[[rules_dict[103], rules_dict[48]], [rules_dict[89], rules_dict[41]]], 'a']]]]]], 'a'], [[['b', [['b', [[[[rules_dict[81], rules_dict[41]], [rules_dict[7], rules_dict[48]]], 'a'], [[[rules_dict[34], rules_dict[48]], [rules_dict[39], rules_dict[41]]], 'b']]], ['a', [[[[rules_dict[41], rules_dict[120]], [rules_dict[48], rules_dict[34]]], 'b'], [[[rules_dict[48], rules_dict[103]], [rules_dict[41], rules_dict[34]]], 'a']]]]], ['a', [[[['b', [[rules_dict[120], rules_dict[41]], [rules_dict[89], rules_dict[48]]]], ['a', [[rules_dict[48], rules_dict[72]], [rules_dict[41], rules_dict[1]]]]], 'b'], [[[[[rules_dict[81], rules_dict[48]], [rules_dict[7], rules_dict[41]]], 'b'], [[[rules_dict[120], rules_dict[41]], [rules_dict[81], rules_dict[48]]], 'a']], 'a']]]], 'b']]], ['b', [[[['b', [[[['a', [[rules_dict[110], rules_dict[41]], [rules_dict[34], rules_dict[48]]]], ['b', [[rules_dict[48], rules_dict[120]], [rules_dict[41], rules_dict[89]]]]], 'b'], [[['b', [[rules_dict[89], rules_dict[41]], [rules_dict[132], rules_dict[48]]]], ['a', [[rules_dict[48], rules_dict[81]], [rules_dict[41], rules_dict[7]]]]], 'a']]], ['a', [[[[[rules_dict[18], rules_dict[48]], 'a'], [[[rules_dict[100], rules_dict[41]], [rules_dict[7], rules_dict[48]]], 'b']], 'b'], [[['b', [rules_dict[67], rules_dict[89]]], ['a', [[rules_dict[41], rules_dict[1]], [rules_dict[48], rules_dict[81]]]]], 'a']]]], 'a'], [[['a', [[[['b', [rules_dict[41], rules_dict[110]]], ['a', [rules_dict[7], rules_dict[48]]]], 'b'], [[['a', [[rules_dict[103], rules_dict[48]], [rules_dict[18], rules_dict[41]]]], ['b', [rules_dict[103], rules_dict[67]]]], 'a']]], ['b', [['a', [[[[rules_dict[89], rules_dict[41]], [rules_dict[39], rules_dict[48]]], 'b'], [[[rules_dict[100], rules_dict[41]], [rules_dict[7], rules_dict[48]]], 'a']]], ['b', [['b', [[rules_dict[81], rules_dict[41]], [rules_dict[7], rules_dict[48]]]], ['a', [[rules_dict[120], rules_dict[41]], [rules_dict[81], rules_dict[48]]]]]]]]], 'b']]]], [['b', [['b', [['a', [[[['a', [[rules_dict[41], rules_dict[7]], [rules_dict[48], rules_dict[120]]]], ['b', [[rules_dict[48], rules_dict[100]], [rules_dict[41], rules_dict[132]]]]], 'b'], [[['a', [[rules_dict[48], rules_dict[103]], [rules_dict[41], rules_dict[34]]]], ['b', [[rules_dict[120], rules_dict[48]], [rules_dict[98], rules_dict[41]]]]], 'a']]], ['b', [['a', [['a', [[rules_dict[120], rules_dict[41]], [rules_dict[81], rules_dict[48]]]], ['b', [[rules_dict[41], rules_dict[120]], [rules_dict[48], rules_dict[132]]]]]], ['b', [[[[rules_dict[100], rules_dict[48]], [rules_dict[98], rules_dict[41]]], 'b'], [[[rules_dict[41], rules_dict[72]], [rules_dict[48], rules_dict[81]]], 'a']]]]]]], ['a', [[[[[['a', [[rules_dict[1], rules_dict[48]], [rules_dict[103], rules_dict[41]]]], ['b', [[rules_dict[48], rules_dict[1]], [rules_dict[41], rules_dict[81]]]]], 'b'], [[['b', [rules_dict[67], rules_dict[34]]], ['a', [[rules_dict[110], rules_dict[48]], [rules_dict[98], rules_dict[41]]]]], 'a']], 'a'], [[[[[[rules_dict[7], rules_dict[48]], [rules_dict[89], rules_dict[41]]], 'a'], 'a'], [[['a', [[rules_dict[100], rules_dict[48]], [rules_dict[103], rules_dict[41]]]], ['b', [[rules_dict[34], rules_dict[41]], [rules_dict[103], rules_dict[48]]]]], 'b']], 'b']]]]], ['a', [['a', [['a', [[[[[[rules_dict[81], rules_dict[41]], [rules_dict[34], rules_dict[48]]], 'a'], [[[rules_dict[41], rules_dict[132]], [rules_dict[48], rules_dict[120]]], 'b']], 'b'], [[[[[rules_dict[103], rules_dict[48]], [rules_dict[72], rules_dict[41]]], 'b'], [[rules_dict[67], rules_dict[132]], 'a']], 'a']]], ['b', [['b', [[[[rules_dict[89], rules_dict[41]], [rules_dict[100], rules_dict[48]]], 'b'], [[[rules_dict[110], rules_dict[41]], [rules_dict[34], rules_dict[48]]], 'a']]], ['a', [[[[rules_dict[110], rules_dict[48]], [rules_dict[98], rules_dict[41]]], 'b'], [[rules_dict[34], rules_dict[48]], 'a']]]]]]], ['b', [[[[[['b', [[rules_dict[100], rules_dict[48]], [rules_dict[98], rules_dict[41]]]], ['a', [[rules_dict[7], rules_dict[41]], [rules_dict[7], rules_dict[48]]]]], 'a'], [[[[[rules_dict[89], rules_dict[41]], [rules_dict[18], rules_dict[48]]], 'a'], [[[rules_dict[48], rules_dict[89]], [rules_dict[41], rules_dict[39]]], 'b']], 'b']], 'b'], [[[[['a', [[rules_dict[48], rules_dict[81]], [rules_dict[41], rules_dict[100]]]], ['b', [[rules_dict[48], rules_dict[1]], [rules_dict[41], rules_dict[18]]]]], 'b'], [[['b', [[rules_dict[41], rules_dict[18]], [rules_dict[48], rules_dict[98]]]], ['a', [[rules_dict[48], rules_dict[72]], [rules_dict[41], rules_dict[18]]]]], 'a']], 'a']]]]]]]]\""
      ]
     },
     "execution_count": 131,
     "metadata": {},
     "output_type": "execute_result"
    }
   ],
   "source": [
    "rules_dict[0] = [[[['a', [[[['b', [[[[rules_dict[129], rules_dict[48]], [rules_dict[93], rules_dict[41]]], 'b'], [[[rules_dict[41], rules_dict[117]], [rules_dict[48], rules_dict[73]]], 'a']]], ['a', [['a', [[rules_dict[79], rules_dict[41]], [rules_dict[33], rules_dict[48]]]], ['b', [[rules_dict[83], rules_dict[48]], [rules_dict[130], rules_dict[41]]]]]]], 'a'], [[['b', [['b', [[rules_dict[49], rules_dict[41]], [rules_dict[56], rules_dict[48]]]], ['a', [[rules_dict[97], rules_dict[48]], [rules_dict[92], rules_dict[41]]]]]], ['a', [[[[rules_dict[48], rules_dict[85]], [rules_dict[41], rules_dict[128]]], 'b'], [[[rules_dict[40], rules_dict[48]], [rules_dict[47], rules_dict[41]]], 'a']]]], 'b']]], ['b', [[[['b', [[[[rules_dict[41], rules_dict[93]], [rules_dict[48], rules_dict[122]]], 'b'], [[[rules_dict[48], rules_dict[118]], [rules_dict[41], rules_dict[25]]], 'a']]], ['a', [[[[rules_dict[84], rules_dict[41]], [rules_dict[27], rules_dict[48]]], 'b'], [[[rules_dict[48], rules_dict[83]], [rules_dict[41], rules_dict[51]]], 'a']]]], 'a'], [[['a', [[[[rules_dict[48], rules_dict[5]], [rules_dict[41], rules_dict[45]]], 'b'], [[[rules_dict[41], rules_dict[22]], [rules_dict[48], rules_dict[111]]], 'a']]], ['b', [['a', [[rules_dict[75], rules_dict[48]], [rules_dict[27], rules_dict[41]]]], ['b', [[rules_dict[48], rules_dict[49]], [rules_dict[41], rules_dict[47]]]]]]], 'b']]]]], [[['a', [[[['b', [[[[rules_dict[129], rules_dict[48]], [rules_dict[93], rules_dict[41]]], 'b'], [[[rules_dict[41], rules_dict[117]], [rules_dict[48], rules_dict[73]]], 'a']]], ['a', [['a', [[rules_dict[79], rules_dict[41]], [rules_dict[33], rules_dict[48]]]], ['b', [[rules_dict[83], rules_dict[48]], [rules_dict[130], rules_dict[41]]]]]]], 'a'], [[['b', [['b', [[rules_dict[49], rules_dict[41]], [rules_dict[56], rules_dict[48]]]], ['a', [[rules_dict[97], rules_dict[48]], [rules_dict[92], rules_dict[41]]]]]], ['a', [[[[rules_dict[48], rules_dict[85]], [rules_dict[41], rules_dict[128]]], 'b'], [[[rules_dict[40], rules_dict[48]], [rules_dict[47], rules_dict[41]]], 'a']]]], 'b']]], ['b', [[[['b', [[[[rules_dict[41], rules_dict[93]], [rules_dict[48], rules_dict[122]]], 'b'], [[[rules_dict[48], rules_dict[118]], [rules_dict[41], rules_dict[25]]], 'a']]], ['a', [[[[rules_dict[84], rules_dict[41]], [rules_dict[27], rules_dict[48]]], 'b'], [[[rules_dict[48], rules_dict[83]], [rules_dict[41], rules_dict[51]]], 'a']]]], 'a'], [[['a', [[[[rules_dict[48], rules_dict[5]], [rules_dict[41], rules_dict[45]]], 'b'], [[[rules_dict[41], rules_dict[22]], [rules_dict[48], rules_dict[111]]], 'a']]], ['b', [['a', [[rules_dict[75], rules_dict[48]], [rules_dict[27], rules_dict[41]]]], ['b', [[rules_dict[48], rules_dict[49]], [rules_dict[41], rules_dict[47]]]]]]], 'b']]]], [['b', [['b', [['a', [[[[rules_dict[41], rules_dict[37]], [rules_dict[48], rules_dict[6]]], 'b'], [[[rules_dict[41], rules_dict[92]], [rules_dict[48], rules_dict[80]]], 'a']]], ['b', [['a', [[rules_dict[41], rules_dict[47]], [rules_dict[48], rules_dict[125]]]], ['b', [[rules_dict[62], rules_dict[48]], [rules_dict[26], rules_dict[41]]]]]]]], ['a', [[[[[[rules_dict[41], rules_dict[73]], [rules_dict[48], rules_dict[104]]], 'b'], [[[rules_dict[48], rules_dict[71]], [rules_dict[41], rules_dict[123]]], 'a']], 'a'], [[[[rules_dict[88], rules_dict[41]], 'a'], [[[rules_dict[41], rules_dict[96]], [rules_dict[48], rules_dict[95]]], 'b']], 'b']]]]], ['a', [['a', [['a', [[[[rules_dict[90], rules_dict[41]], [rules_dict[28], rules_dict[48]]], 'b'], [[[rules_dict[87], rules_dict[48]], [rules_dict[115], rules_dict[41]]], 'a']]], ['b', [['b', [[rules_dict[9], rules_dict[48]], [rules_dict[93], rules_dict[41]]]], ['a', [[rules_dict[123], rules_dict[48]], [rules_dict[91], rules_dict[41]]]]]]]], ['b', [[[[[[rules_dict[48], rules_dict[62]], [rules_dict[41], rules_dict[50]]], 'a'], [[[rules_dict[30], rules_dict[41]], [rules_dict[86], rules_dict[48]]], 'b']], 'b'], [[[[[rules_dict[41], rules_dict[36]], [rules_dict[48], rules_dict[55]]], 'b'], [[[rules_dict[48], rules_dict[12]], [rules_dict[41], rules_dict[19]]], 'a']], 'a']]]]]]]]\n",
    "next_level(str(rules_dict[0]))"
   ]
  },
  {
   "cell_type": "code",
   "execution_count": 132,
   "metadata": {
    "scrolled": true
   },
   "outputs": [
    {
     "data": {
      "text/plain": [
       "\"[[[['a', [[[['b', [[[[[['b', [[rules_dict[48], rules_dict[41]], [rules_dict[41], rules_dict[41]]]], ['a', [rules_dict[48], rules_dict[41]]]], 'b'], [[[[[rules_dict[48], rules_dict[41]], [rules_dict[41], rules_dict[41]]], 'a'], [[[rules_dict[48], rules_dict[41]], [rules_dict[48], rules_dict[48]]], 'b']], 'a']], 'b'], [[['a', [['b', [rules_dict[48], rules_dict[41]]], ['a', [[rules_dict[41], rules_dict[67]], [rules_dict[48], rules_dict[41]]]]]], ['b', [[[[rules_dict[41], rules_dict[41]], [rules_dict[48], rules_dict[48]]], 'b'], [[rules_dict[67], rules_dict[67]], 'a']]]], 'a']]], ['a', [['a', [[[[[rules_dict[48]], [rules_dict[41]]], [[rules_dict[41], rules_dict[41]], [rules_dict[48], rules_dict[48]]]], 'a'], [[[rules_dict[48], rules_dict[41]], 'a'], 'b']]], ['b', [[[[[rules_dict[48]], [rules_dict[41]]], [[rules_dict[41], rules_dict[41]], [rules_dict[41], rules_dict[48]]]], 'b'], [[[[rules_dict[67], rules_dict[67]], 'b'], [[[rules_dict[41], rules_dict[41]], [rules_dict[41], rules_dict[48]]], 'a']], 'a']]]]]], 'a'], [[['b', [['b', [[[[[[rules_dict[48], rules_dict[48]], [rules_dict[67], rules_dict[41]]], 'a'], [[rules_dict[41], rules_dict[41]], 'b']], 'a'], [[[[[rules_dict[48], rules_dict[41]], [rules_dict[48], rules_dict[48]]], 'b'], [[[rules_dict[41], rules_dict[67]], [rules_dict[48], rules_dict[41]]], 'a']], 'b']]], ['a', [[[['a', [rules_dict[48], rules_dict[41]]], ['b', [[rules_dict[48], rules_dict[41]], [rules_dict[48], rules_dict[48]]]]], 'b'], [[['b', [rules_dict[67], rules_dict[67]]], ['a', [[rules_dict[48], rules_dict[41]], [rules_dict[48], rules_dict[48]]]]], 'a']]]]], ['a', [[[['b', [[[rules_dict[48], rules_dict[41]], 'a'], [[[rules_dict[41], rules_dict[41]], [rules_dict[41], rules_dict[48]]], 'b']]], ['a', [['b', [[rules_dict[48], rules_dict[48]], [rules_dict[41], rules_dict[67]]]], ['a', [[rules_dict[41], rules_dict[41]], [rules_dict[48], rules_dict[48]]]]]]], 'b'], [[[[[[[rules_dict[48], rules_dict[48]], [rules_dict[67], rules_dict[41]]], 'b'], [[rules_dict[41], rules_dict[41]], 'a']], 'b'], [[[[rules_dict[48], rules_dict[41]], 'a'], [[[rules_dict[48], rules_dict[48]], [rules_dict[67], rules_dict[41]]], 'b']], 'a']], 'a']]]], 'b']]], ['b', [[[['b', [[[['a', [[[[rules_dict[48], rules_dict[41]], [rules_dict[41], rules_dict[41]]], 'a'], [[[rules_dict[48], rules_dict[41]], [rules_dict[48], rules_dict[48]]], 'b']]], ['b', [['b', [rules_dict[48], rules_dict[41]]], ['a', [[rules_dict[41], rules_dict[41]], [rules_dict[41], rules_dict[48]]]]]]], 'b'], [[['b', [[[[rules_dict[41], rules_dict[41]], [rules_dict[41], rules_dict[48]]], 'a'], [[[rules_dict[41], rules_dict[48]], [rules_dict[48], rules_dict[41]]], 'b']]], ['a', [['b', [[rules_dict[48], rules_dict[48]], [rules_dict[67], rules_dict[41]]]], ['a', [rules_dict[41], rules_dict[41]]]]]], 'a']]], ['a', [[[[[[rules_dict[48], rules_dict[48]], 'b'], 'a'], [[[[[rules_dict[48], rules_dict[41]], [rules_dict[67], rules_dict[48]]], 'a'], [[rules_dict[41], rules_dict[41]], 'b']], 'b']], 'b'], [[['b', [[[rules_dict[48]], [rules_dict[41]]], [[rules_dict[41], rules_dict[41]], [rules_dict[41], rules_dict[48]]]]], ['a', [['a', [[rules_dict[41], rules_dict[41]], [rules_dict[48], rules_dict[48]]]], ['b', [[rules_dict[48], rules_dict[48]], [rules_dict[67], rules_dict[41]]]]]]], 'a']]]], 'a'], [[['a', [[[['b', ['a', [[rules_dict[48], rules_dict[41]], [rules_dict[41], rules_dict[41]]]]], ['a', [[rules_dict[41], rules_dict[41]], 'b']]], 'b'], [[['a', [[[rules_dict[67], rules_dict[67]], 'b'], [[rules_dict[48], rules_dict[48]], 'a']]], ['b', [[rules_dict[67], rules_dict[67]], [[rules_dict[48]], [rules_dict[41]]]]]], 'a']]], ['b', [['a', [[[[[[rules_dict[41], rules_dict[41]], [rules_dict[41], rules_dict[48]]], 'a'], [[[rules_dict[41], rules_dict[67]], [rules_dict[48], rules_dict[41]]], 'b']], 'b'], [[[[[rules_dict[48], rules_dict[41]], [rules_dict[67], rules_dict[48]]], 'a'], [[rules_dict[41], rules_dict[41]], 'b']], 'a']]], ['b', [['b', [[[[rules_dict[48], rules_dict[48]], [rules_dict[67], rules_dict[41]]], 'a'], [[rules_dict[41], rules_dict[41]], 'b']]], ['a', [[[rules_dict[48], rules_dict[41]], 'a'], [[[rules_dict[48], rules_dict[48]], [rules_dict[67], rules_dict[41]]], 'b']]]]]]]], 'b']]]]], [[['a', [[[['b', [[[[[['b', [[rules_dict[48], rules_dict[41]], [rules_dict[41], rules_dict[41]]]], ['a', [rules_dict[48], rules_dict[41]]]], 'b'], [[[[[rules_dict[48], rules_dict[41]], [rules_dict[41], rules_dict[41]]], 'a'], [[[rules_dict[48], rules_dict[41]], [rules_dict[48], rules_dict[48]]], 'b']], 'a']], 'b'], [[['a', [['b', [rules_dict[48], rules_dict[41]]], ['a', [[rules_dict[41], rules_dict[67]], [rules_dict[48], rules_dict[41]]]]]], ['b', [[[[rules_dict[41], rules_dict[41]], [rules_dict[48], rules_dict[48]]], 'b'], [[rules_dict[67], rules_dict[67]], 'a']]]], 'a']]], ['a', [['a', [[[[[rules_dict[48]], [rules_dict[41]]], [[rules_dict[41], rules_dict[41]], [rules_dict[48], rules_dict[48]]]], 'a'], [[[rules_dict[48], rules_dict[41]], 'a'], 'b']]], ['b', [[[[[rules_dict[48]], [rules_dict[41]]], [[rules_dict[41], rules_dict[41]], [rules_dict[41], rules_dict[48]]]], 'b'], [[[[rules_dict[67], rules_dict[67]], 'b'], [[[rules_dict[41], rules_dict[41]], [rules_dict[41], rules_dict[48]]], 'a']], 'a']]]]]], 'a'], [[['b', [['b', [[[[[[rules_dict[48], rules_dict[48]], [rules_dict[67], rules_dict[41]]], 'a'], [[rules_dict[41], rules_dict[41]], 'b']], 'a'], [[[[[rules_dict[48], rules_dict[41]], [rules_dict[48], rules_dict[48]]], 'b'], [[[rules_dict[41], rules_dict[67]], [rules_dict[48], rules_dict[41]]], 'a']], 'b']]], ['a', [[[['a', [rules_dict[48], rules_dict[41]]], ['b', [[rules_dict[48], rules_dict[41]], [rules_dict[48], rules_dict[48]]]]], 'b'], [[['b', [rules_dict[67], rules_dict[67]]], ['a', [[rules_dict[48], rules_dict[41]], [rules_dict[48], rules_dict[48]]]]], 'a']]]]], ['a', [[[['b', [[[rules_dict[48], rules_dict[41]], 'a'], [[[rules_dict[41], rules_dict[41]], [rules_dict[41], rules_dict[48]]], 'b']]], ['a', [['b', [[rules_dict[48], rules_dict[48]], [rules_dict[41], rules_dict[67]]]], ['a', [[rules_dict[41], rules_dict[41]], [rules_dict[48], rules_dict[48]]]]]]], 'b'], [[[[[[[rules_dict[48], rules_dict[48]], [rules_dict[67], rules_dict[41]]], 'b'], [[rules_dict[41], rules_dict[41]], 'a']], 'b'], [[[[rules_dict[48], rules_dict[41]], 'a'], [[[rules_dict[48], rules_dict[48]], [rules_dict[67], rules_dict[41]]], 'b']], 'a']], 'a']]]], 'b']]], ['b', [[[['b', [[[['a', [[[[rules_dict[48], rules_dict[41]], [rules_dict[41], rules_dict[41]]], 'a'], [[[rules_dict[48], rules_dict[41]], [rules_dict[48], rules_dict[48]]], 'b']]], ['b', [['b', [rules_dict[48], rules_dict[41]]], ['a', [[rules_dict[41], rules_dict[41]], [rules_dict[41], rules_dict[48]]]]]]], 'b'], [[['b', [[[[rules_dict[41], rules_dict[41]], [rules_dict[41], rules_dict[48]]], 'a'], [[[rules_dict[41], rules_dict[48]], [rules_dict[48], rules_dict[41]]], 'b']]], ['a', [['b', [[rules_dict[48], rules_dict[48]], [rules_dict[67], rules_dict[41]]]], ['a', [rules_dict[41], rules_dict[41]]]]]], 'a']]], ['a', [[[[[[rules_dict[48], rules_dict[48]], 'b'], 'a'], [[[[[rules_dict[48], rules_dict[41]], [rules_dict[67], rules_dict[48]]], 'a'], [[rules_dict[41], rules_dict[41]], 'b']], 'b']], 'b'], [[['b', [[[rules_dict[48]], [rules_dict[41]]], [[rules_dict[41], rules_dict[41]], [rules_dict[41], rules_dict[48]]]]], ['a', [['a', [[rules_dict[41], rules_dict[41]], [rules_dict[48], rules_dict[48]]]], ['b', [[rules_dict[48], rules_dict[48]], [rules_dict[67], rules_dict[41]]]]]]], 'a']]]], 'a'], [[['a', [[[['b', ['a', [[rules_dict[48], rules_dict[41]], [rules_dict[41], rules_dict[41]]]]], ['a', [[rules_dict[41], rules_dict[41]], 'b']]], 'b'], [[['a', [[[rules_dict[67], rules_dict[67]], 'b'], [[rules_dict[48], rules_dict[48]], 'a']]], ['b', [[rules_dict[67], rules_dict[67]], [[rules_dict[48]], [rules_dict[41]]]]]], 'a']]], ['b', [['a', [[[[[[rules_dict[41], rules_dict[41]], [rules_dict[41], rules_dict[48]]], 'a'], [[[rules_dict[41], rules_dict[67]], [rules_dict[48], rules_dict[41]]], 'b']], 'b'], [[[[[rules_dict[48], rules_dict[41]], [rules_dict[67], rules_dict[48]]], 'a'], [[rules_dict[41], rules_dict[41]], 'b']], 'a']]], ['b', [['b', [[[[rules_dict[48], rules_dict[48]], [rules_dict[67], rules_dict[41]]], 'a'], [[rules_dict[41], rules_dict[41]], 'b']]], ['a', [[[rules_dict[48], rules_dict[41]], 'a'], [[[rules_dict[48], rules_dict[48]], [rules_dict[67], rules_dict[41]]], 'b']]]]]]]], 'b']]]], [['b', [['b', [['a', [[[['a', [['a', [rules_dict[41], rules_dict[41]]], ['b', [rules_dict[48], rules_dict[41]]]]], ['b', [['b', [[rules_dict[48], rules_dict[41]], [rules_dict[67], rules_dict[48]]]], ['a', [[rules_dict[41], rules_dict[48]], [rules_dict[48], rules_dict[41]]]]]]], 'b'], [[['a', [['b', [rules_dict[67], rules_dict[67]]], ['a', [[rules_dict[48], rules_dict[41]], [rules_dict[48], rules_dict[48]]]]]], ['b', [[[rules_dict[48], rules_dict[41]], 'b'], [[rules_dict[41], rules_dict[48]], 'a']]]], 'a']]], ['b', [['a', [['a', [[[rules_dict[48], rules_dict[41]], 'a'], [[[rules_dict[48], rules_dict[48]], [rules_dict[67], rules_dict[41]]], 'b']]], ['b', [['a', [rules_dict[48], rules_dict[41]]], ['b', [[rules_dict[41], rules_dict[48]], [rules_dict[48], rules_dict[41]]]]]]]], ['b', [[[[[[rules_dict[48], rules_dict[41]], [rules_dict[67], rules_dict[48]]], 'b'], [[rules_dict[41], rules_dict[48]], 'a']], 'b'], [[['a', [[rules_dict[48], rules_dict[48]], [rules_dict[41], rules_dict[67]]]], ['b', [[rules_dict[48], rules_dict[48]], [rules_dict[67], rules_dict[41]]]]], 'a']]]]]]], ['a', [[[[[['a', [[[[rules_dict[41], rules_dict[41]], [rules_dict[48], rules_dict[48]]], 'b'], [[rules_dict[67], rules_dict[67]], 'a']]], ['b', [['b', [[rules_dict[41], rules_dict[41]], [rules_dict[48], rules_dict[48]]]], ['a', [[rules_dict[48], rules_dict[48]], [rules_dict[67], rules_dict[41]]]]]]], 'b'], [[['b', [[[rules_dict[48]], [rules_dict[41]]], [[rules_dict[48], rules_dict[41]], [rules_dict[48], rules_dict[48]]]]], ['a', [[[[rules_dict[48], rules_dict[41]], [rules_dict[41], rules_dict[41]]], 'b'], [[rules_dict[41], rules_dict[48]], 'a']]]], 'a']], 'a'], [[[[[[[rules_dict[41], rules_dict[41]], 'b'], [[[rules_dict[41], rules_dict[41]], [rules_dict[41], rules_dict[48]]], 'a']], 'a'], 'a'], [[['a', [[[[rules_dict[48], rules_dict[41]], [rules_dict[67], rules_dict[48]]], 'b'], [[rules_dict[67], rules_dict[67]], 'a']]], ['b', [[[[rules_dict[48], rules_dict[41]], [rules_dict[48], rules_dict[48]]], 'a'], [[rules_dict[67], rules_dict[67]], 'b']]]], 'b']], 'b']]]]], ['a', [['a', [['a', [[[[[[[[rules_dict[48], rules_dict[48]], [rules_dict[67], rules_dict[41]]], 'a'], [[[rules_dict[48], rules_dict[41]], [rules_dict[48], rules_dict[48]]], 'b']], 'a'], [[['a', [[rules_dict[41], rules_dict[48]], [rules_dict[48], rules_dict[41]]]], ['b', [rules_dict[48], rules_dict[41]]]], 'b']], 'b'], [[[[[[rules_dict[67], rules_dict[67]], 'b'], [[[rules_dict[48], rules_dict[48]], [rules_dict[41], rules_dict[67]]], 'a']], 'b'], [[[[rules_dict[48]], [rules_dict[41]]], [[rules_dict[41], rules_dict[48]], [rules_dict[48], rules_dict[41]]]], 'a']], 'a']]], ['b', [['b', [[[[[[rules_dict[41], rules_dict[41]], [rules_dict[41], rules_dict[48]]], 'a'], [[[rules_dict[48], rules_dict[41]], [rules_dict[67], rules_dict[48]]], 'b']], 'b'], [[[[[rules_dict[48], rules_dict[41]], [rules_dict[41], rules_dict[41]]], 'a'], [[[rules_dict[48], rules_dict[41]], [rules_dict[48], rules_dict[48]]], 'b']], 'a']]], ['a', [[[[[[rules_dict[48], rules_dict[41]], [rules_dict[41], rules_dict[41]]], 'b'], [[rules_dict[41], rules_dict[48]], 'a']], 'b'], [[[[rules_dict[48], rules_dict[41]], [rules_dict[48], rules_dict[48]]], 'b'], 'a']]]]]]], ['b', [[[[[['b', [[[[rules_dict[48], rules_dict[41]], [rules_dict[67], rules_dict[48]]], 'b'], [[rules_dict[41], rules_dict[48]], 'a']]], ['a', [[[rules_dict[41], rules_dict[41]], 'a'], [[rules_dict[41], rules_dict[41]], 'b']]]], 'a'], [[[[[[[rules_dict[41], rules_dict[41]], [rules_dict[41], rules_dict[48]]], 'a'], [[rules_dict[48], rules_dict[48]], 'b']], 'a'], [[['b', [[rules_dict[41], rules_dict[41]], [rules_dict[41], rules_dict[48]]]], ['a', [[rules_dict[41], rules_dict[67]], [rules_dict[48], rules_dict[41]]]]], 'b']], 'b']], 'b'], [[[[['a', [['b', [[rules_dict[48], rules_dict[48]], [rules_dict[67], rules_dict[41]]]], ['a', [[rules_dict[48], rules_dict[41]], [rules_dict[67], rules_dict[48]]]]]], ['b', [['b', [[rules_dict[41], rules_dict[41]], [rules_dict[48], rules_dict[48]]]], ['a', [rules_dict[48], rules_dict[48]]]]]], 'b'], [[['b', [['a', [rules_dict[48], rules_dict[48]]], ['b', [rules_dict[41], rules_dict[48]]]]], ['a', [['b', [[rules_dict[48], rules_dict[48]], [rules_dict[41], rules_dict[67]]]], ['a', [rules_dict[48], rules_dict[48]]]]]], 'a']], 'a']]]]]]]]\""
      ]
     },
     "execution_count": 132,
     "metadata": {},
     "output_type": "execute_result"
    }
   ],
   "source": [
    "rules_dict[0] = [[[['a', [[[['b', [[[[[[rules_dict[48], rules_dict[110]], [rules_dict[41], rules_dict[120]]], 'b'], [[[rules_dict[110], rules_dict[41]], [rules_dict[34], rules_dict[48]]], 'a']], 'b'], [[['a', [[rules_dict[48], rules_dict[120]], [rules_dict[41], rules_dict[39]]]], ['b', [[rules_dict[1], rules_dict[48]], [rules_dict[103], rules_dict[41]]]]], 'a']]], ['a', [['a', [[[rules_dict[67], rules_dict[1]], 'a'], [[rules_dict[120], rules_dict[41]], 'b']]], ['b', [[[rules_dict[67], rules_dict[89]], 'b'], [[[rules_dict[103], rules_dict[48]], [rules_dict[89], rules_dict[41]]], 'a']]]]]], 'a'], [[['b', [['b', [[[[rules_dict[81], rules_dict[41]], [rules_dict[7], rules_dict[48]]], 'a'], [[[rules_dict[34], rules_dict[48]], [rules_dict[39], rules_dict[41]]], 'b']]], ['a', [[[[rules_dict[41], rules_dict[120]], [rules_dict[48], rules_dict[34]]], 'b'], [[[rules_dict[48], rules_dict[103]], [rules_dict[41], rules_dict[34]]], 'a']]]]], ['a', [[[['b', [[rules_dict[120], rules_dict[41]], [rules_dict[89], rules_dict[48]]]], ['a', [[rules_dict[48], rules_dict[72]], [rules_dict[41], rules_dict[1]]]]], 'b'], [[[[[rules_dict[81], rules_dict[48]], [rules_dict[7], rules_dict[41]]], 'b'], [[[rules_dict[120], rules_dict[41]], [rules_dict[81], rules_dict[48]]], 'a']], 'a']]]], 'b']]], ['b', [[[['b', [[[['a', [[rules_dict[110], rules_dict[41]], [rules_dict[34], rules_dict[48]]]], ['b', [[rules_dict[48], rules_dict[120]], [rules_dict[41], rules_dict[89]]]]], 'b'], [[['b', [[rules_dict[89], rules_dict[41]], [rules_dict[132], rules_dict[48]]]], ['a', [[rules_dict[48], rules_dict[81]], [rules_dict[41], rules_dict[7]]]]], 'a']]], ['a', [[[[[rules_dict[18], rules_dict[48]], 'a'], [[[rules_dict[100], rules_dict[41]], [rules_dict[7], rules_dict[48]]], 'b']], 'b'], [[['b', [rules_dict[67], rules_dict[89]]], ['a', [[rules_dict[41], rules_dict[1]], [rules_dict[48], rules_dict[81]]]]], 'a']]]], 'a'], [[['a', [[[['b', [rules_dict[41], rules_dict[110]]], ['a', [rules_dict[7], rules_dict[48]]]], 'b'], [[['a', [[rules_dict[103], rules_dict[48]], [rules_dict[18], rules_dict[41]]]], ['b', [rules_dict[103], rules_dict[67]]]], 'a']]], ['b', [['a', [[[[rules_dict[89], rules_dict[41]], [rules_dict[39], rules_dict[48]]], 'b'], [[[rules_dict[100], rules_dict[41]], [rules_dict[7], rules_dict[48]]], 'a']]], ['b', [['b', [[rules_dict[81], rules_dict[41]], [rules_dict[7], rules_dict[48]]]], ['a', [[rules_dict[120], rules_dict[41]], [rules_dict[81], rules_dict[48]]]]]]]]], 'b']]]]], [[['a', [[[['b', [[[[[[rules_dict[48], rules_dict[110]], [rules_dict[41], rules_dict[120]]], 'b'], [[[rules_dict[110], rules_dict[41]], [rules_dict[34], rules_dict[48]]], 'a']], 'b'], [[['a', [[rules_dict[48], rules_dict[120]], [rules_dict[41], rules_dict[39]]]], ['b', [[rules_dict[1], rules_dict[48]], [rules_dict[103], rules_dict[41]]]]], 'a']]], ['a', [['a', [[[rules_dict[67], rules_dict[1]], 'a'], [[rules_dict[120], rules_dict[41]], 'b']]], ['b', [[[rules_dict[67], rules_dict[89]], 'b'], [[[rules_dict[103], rules_dict[48]], [rules_dict[89], rules_dict[41]]], 'a']]]]]], 'a'], [[['b', [['b', [[[[rules_dict[81], rules_dict[41]], [rules_dict[7], rules_dict[48]]], 'a'], [[[rules_dict[34], rules_dict[48]], [rules_dict[39], rules_dict[41]]], 'b']]], ['a', [[[[rules_dict[41], rules_dict[120]], [rules_dict[48], rules_dict[34]]], 'b'], [[[rules_dict[48], rules_dict[103]], [rules_dict[41], rules_dict[34]]], 'a']]]]], ['a', [[[['b', [[rules_dict[120], rules_dict[41]], [rules_dict[89], rules_dict[48]]]], ['a', [[rules_dict[48], rules_dict[72]], [rules_dict[41], rules_dict[1]]]]], 'b'], [[[[[rules_dict[81], rules_dict[48]], [rules_dict[7], rules_dict[41]]], 'b'], [[[rules_dict[120], rules_dict[41]], [rules_dict[81], rules_dict[48]]], 'a']], 'a']]]], 'b']]], ['b', [[[['b', [[[['a', [[rules_dict[110], rules_dict[41]], [rules_dict[34], rules_dict[48]]]], ['b', [[rules_dict[48], rules_dict[120]], [rules_dict[41], rules_dict[89]]]]], 'b'], [[['b', [[rules_dict[89], rules_dict[41]], [rules_dict[132], rules_dict[48]]]], ['a', [[rules_dict[48], rules_dict[81]], [rules_dict[41], rules_dict[7]]]]], 'a']]], ['a', [[[[[rules_dict[18], rules_dict[48]], 'a'], [[[rules_dict[100], rules_dict[41]], [rules_dict[7], rules_dict[48]]], 'b']], 'b'], [[['b', [rules_dict[67], rules_dict[89]]], ['a', [[rules_dict[41], rules_dict[1]], [rules_dict[48], rules_dict[81]]]]], 'a']]]], 'a'], [[['a', [[[['b', [rules_dict[41], rules_dict[110]]], ['a', [rules_dict[7], rules_dict[48]]]], 'b'], [[['a', [[rules_dict[103], rules_dict[48]], [rules_dict[18], rules_dict[41]]]], ['b', [rules_dict[103], rules_dict[67]]]], 'a']]], ['b', [['a', [[[[rules_dict[89], rules_dict[41]], [rules_dict[39], rules_dict[48]]], 'b'], [[[rules_dict[100], rules_dict[41]], [rules_dict[7], rules_dict[48]]], 'a']]], ['b', [['b', [[rules_dict[81], rules_dict[41]], [rules_dict[7], rules_dict[48]]]], ['a', [[rules_dict[120], rules_dict[41]], [rules_dict[81], rules_dict[48]]]]]]]]], 'b']]]], [['b', [['b', [['a', [[[['a', [[rules_dict[41], rules_dict[7]], [rules_dict[48], rules_dict[120]]]], ['b', [[rules_dict[48], rules_dict[100]], [rules_dict[41], rules_dict[132]]]]], 'b'], [[['a', [[rules_dict[48], rules_dict[103]], [rules_dict[41], rules_dict[34]]]], ['b', [[rules_dict[120], rules_dict[48]], [rules_dict[98], rules_dict[41]]]]], 'a']]], ['b', [['a', [['a', [[rules_dict[120], rules_dict[41]], [rules_dict[81], rules_dict[48]]]], ['b', [[rules_dict[41], rules_dict[120]], [rules_dict[48], rules_dict[132]]]]]], ['b', [[[[rules_dict[100], rules_dict[48]], [rules_dict[98], rules_dict[41]]], 'b'], [[[rules_dict[41], rules_dict[72]], [rules_dict[48], rules_dict[81]]], 'a']]]]]]], ['a', [[[[[['a', [[rules_dict[1], rules_dict[48]], [rules_dict[103], rules_dict[41]]]], ['b', [[rules_dict[48], rules_dict[1]], [rules_dict[41], rules_dict[81]]]]], 'b'], [[['b', [rules_dict[67], rules_dict[34]]], ['a', [[rules_dict[110], rules_dict[48]], [rules_dict[98], rules_dict[41]]]]], 'a']], 'a'], [[[[[[rules_dict[7], rules_dict[48]], [rules_dict[89], rules_dict[41]]], 'a'], 'a'], [[['a', [[rules_dict[100], rules_dict[48]], [rules_dict[103], rules_dict[41]]]], ['b', [[rules_dict[34], rules_dict[41]], [rules_dict[103], rules_dict[48]]]]], 'b']], 'b']]]]], ['a', [['a', [['a', [[[[[[rules_dict[81], rules_dict[41]], [rules_dict[34], rules_dict[48]]], 'a'], [[[rules_dict[41], rules_dict[132]], [rules_dict[48], rules_dict[120]]], 'b']], 'b'], [[[[[rules_dict[103], rules_dict[48]], [rules_dict[72], rules_dict[41]]], 'b'], [[rules_dict[67], rules_dict[132]], 'a']], 'a']]], ['b', [['b', [[[[rules_dict[89], rules_dict[41]], [rules_dict[100], rules_dict[48]]], 'b'], [[[rules_dict[110], rules_dict[41]], [rules_dict[34], rules_dict[48]]], 'a']]], ['a', [[[[rules_dict[110], rules_dict[48]], [rules_dict[98], rules_dict[41]]], 'b'], [[rules_dict[34], rules_dict[48]], 'a']]]]]]], ['b', [[[[[['b', [[rules_dict[100], rules_dict[48]], [rules_dict[98], rules_dict[41]]]], ['a', [[rules_dict[7], rules_dict[41]], [rules_dict[7], rules_dict[48]]]]], 'a'], [[[[[rules_dict[89], rules_dict[41]], [rules_dict[18], rules_dict[48]]], 'a'], [[[rules_dict[48], rules_dict[89]], [rules_dict[41], rules_dict[39]]], 'b']], 'b']], 'b'], [[[[['a', [[rules_dict[48], rules_dict[81]], [rules_dict[41], rules_dict[100]]]], ['b', [[rules_dict[48], rules_dict[1]], [rules_dict[41], rules_dict[18]]]]], 'b'], [[['b', [[rules_dict[41], rules_dict[18]], [rules_dict[48], rules_dict[98]]]], ['a', [[rules_dict[48], rules_dict[72]], [rules_dict[41], rules_dict[18]]]]], 'a']], 'a']]]]]]]]\n",
    "next_level(str(rules_dict[0]))"
   ]
  },
  {
   "cell_type": "code",
   "execution_count": 133,
   "metadata": {
    "scrolled": true
   },
   "outputs": [
    {
     "data": {
      "text/plain": [
       "\"[[[['a', [[[['b', [[[[[['b', [['b', 'a'], ['a', 'a']]], ['a', ['b', 'a']]], 'b'], [[[[['b', 'a'], ['a', 'a']], 'a'], [[['b', 'a'], ['b', 'b']], 'b']], 'a']], 'b'], [[['a', [['b', ['b', 'a']], ['a', [['a', [[rules_dict[48]], [rules_dict[41]]]], ['b', 'a']]]]], ['b', [[[['a', 'a'], ['b', 'b']], 'b'], [[[[rules_dict[48]], [rules_dict[41]]], [[rules_dict[48]], [rules_dict[41]]]], 'a']]]], 'a']]], ['a', [['a', [[[[['b'], ['a']], [['a', 'a'], ['b', 'b']]], 'a'], [[['b', 'a'], 'a'], 'b']]], ['b', [[[[['b'], ['a']], [['a', 'a'], ['a', 'b']]], 'b'], [[[[[[rules_dict[48]], [rules_dict[41]]], [[rules_dict[48]], [rules_dict[41]]]], 'b'], [[['a', 'a'], ['a', 'b']], 'a']], 'a']]]]]], 'a'], [[['b', [['b', [[[[[['b', 'b'], [[[rules_dict[48]], [rules_dict[41]]], 'a']], 'a'], [['a', 'a'], 'b']], 'a'], [[[[['b', 'a'], ['b', 'b']], 'b'], [[['a', [[rules_dict[48]], [rules_dict[41]]]], ['b', 'a']], 'a']], 'b']]], ['a', [[[['a', ['b', 'a']], ['b', [['b', 'a'], ['b', 'b']]]], 'b'], [[['b', [[[rules_dict[48]], [rules_dict[41]]], [[rules_dict[48]], [rules_dict[41]]]]], ['a', [['b', 'a'], ['b', 'b']]]], 'a']]]]], ['a', [[[['b', [[['b', 'a'], 'a'], [[['a', 'a'], ['a', 'b']], 'b']]], ['a', [['b', [['b', 'b'], ['a', [[rules_dict[48]], [rules_dict[41]]]]]], ['a', [['a', 'a'], ['b', 'b']]]]]], 'b'], [[[[[[['b', 'b'], [[[rules_dict[48]], [rules_dict[41]]], 'a']], 'b'], [['a', 'a'], 'a']], 'b'], [[[['b', 'a'], 'a'], [[['b', 'b'], [[[rules_dict[48]], [rules_dict[41]]], 'a']], 'b']], 'a']], 'a']]]], 'b']]], ['b', [[[['b', [[[['a', [[[['b', 'a'], ['a', 'a']], 'a'], [[['b', 'a'], ['b', 'b']], 'b']]], ['b', [['b', ['b', 'a']], ['a', [['a', 'a'], ['a', 'b']]]]]], 'b'], [[['b', [[[['a', 'a'], ['a', 'b']], 'a'], [[['a', 'b'], ['b', 'a']], 'b']]], ['a', [['b', [['b', 'b'], [[[rules_dict[48]], [rules_dict[41]]], 'a']]], ['a', ['a', 'a']]]]], 'a']]], ['a', [[[[[['b', 'b'], 'b'], 'a'], [[[[['b', 'a'], [[[rules_dict[48]], [rules_dict[41]]], 'b']], 'a'], [['a', 'a'], 'b']], 'b']], 'b'], [[['b', [[['b'], ['a']], [['a', 'a'], ['a', 'b']]]], ['a', [['a', [['a', 'a'], ['b', 'b']]], ['b', [['b', 'b'], [[[rules_dict[48]], [rules_dict[41]]], 'a']]]]]], 'a']]]], 'a'], [[['a', [[[['b', ['a', [['b', 'a'], ['a', 'a']]]], ['a', [['a', 'a'], 'b']]], 'b'], [[['a', [[[[[rules_dict[48]], [rules_dict[41]]], [[rules_dict[48]], [rules_dict[41]]]], 'b'], [['b', 'b'], 'a']]], ['b', [[[[rules_dict[48]], [rules_dict[41]]], [[rules_dict[48]], [rules_dict[41]]]], [['b'], ['a']]]]], 'a']]], ['b', [['a', [[[[[['a', 'a'], ['a', 'b']], 'a'], [[['a', [[rules_dict[48]], [rules_dict[41]]]], ['b', 'a']], 'b']], 'b'], [[[[['b', 'a'], [[[rules_dict[48]], [rules_dict[41]]], 'b']], 'a'], [['a', 'a'], 'b']], 'a']]], ['b', [['b', [[[['b', 'b'], [[[rules_dict[48]], [rules_dict[41]]], 'a']], 'a'], [['a', 'a'], 'b']]], ['a', [[['b', 'a'], 'a'], [[['b', 'b'], [[[rules_dict[48]], [rules_dict[41]]], 'a']], 'b']]]]]]]], 'b']]]]], [[['a', [[[['b', [[[[[['b', [['b', 'a'], ['a', 'a']]], ['a', ['b', 'a']]], 'b'], [[[[['b', 'a'], ['a', 'a']], 'a'], [[['b', 'a'], ['b', 'b']], 'b']], 'a']], 'b'], [[['a', [['b', ['b', 'a']], ['a', [['a', [[rules_dict[48]], [rules_dict[41]]]], ['b', 'a']]]]], ['b', [[[['a', 'a'], ['b', 'b']], 'b'], [[[[rules_dict[48]], [rules_dict[41]]], [[rules_dict[48]], [rules_dict[41]]]], 'a']]]], 'a']]], ['a', [['a', [[[[['b'], ['a']], [['a', 'a'], ['b', 'b']]], 'a'], [[['b', 'a'], 'a'], 'b']]], ['b', [[[[['b'], ['a']], [['a', 'a'], ['a', 'b']]], 'b'], [[[[[[rules_dict[48]], [rules_dict[41]]], [[rules_dict[48]], [rules_dict[41]]]], 'b'], [[['a', 'a'], ['a', 'b']], 'a']], 'a']]]]]], 'a'], [[['b', [['b', [[[[[['b', 'b'], [[[rules_dict[48]], [rules_dict[41]]], 'a']], 'a'], [['a', 'a'], 'b']], 'a'], [[[[['b', 'a'], ['b', 'b']], 'b'], [[['a', [[rules_dict[48]], [rules_dict[41]]]], ['b', 'a']], 'a']], 'b']]], ['a', [[[['a', ['b', 'a']], ['b', [['b', 'a'], ['b', 'b']]]], 'b'], [[['b', [[[rules_dict[48]], [rules_dict[41]]], [[rules_dict[48]], [rules_dict[41]]]]], ['a', [['b', 'a'], ['b', 'b']]]], 'a']]]]], ['a', [[[['b', [[['b', 'a'], 'a'], [[['a', 'a'], ['a', 'b']], 'b']]], ['a', [['b', [['b', 'b'], ['a', [[rules_dict[48]], [rules_dict[41]]]]]], ['a', [['a', 'a'], ['b', 'b']]]]]], 'b'], [[[[[[['b', 'b'], [[[rules_dict[48]], [rules_dict[41]]], 'a']], 'b'], [['a', 'a'], 'a']], 'b'], [[[['b', 'a'], 'a'], [[['b', 'b'], [[[rules_dict[48]], [rules_dict[41]]], 'a']], 'b']], 'a']], 'a']]]], 'b']]], ['b', [[[['b', [[[['a', [[[['b', 'a'], ['a', 'a']], 'a'], [[['b', 'a'], ['b', 'b']], 'b']]], ['b', [['b', ['b', 'a']], ['a', [['a', 'a'], ['a', 'b']]]]]], 'b'], [[['b', [[[['a', 'a'], ['a', 'b']], 'a'], [[['a', 'b'], ['b', 'a']], 'b']]], ['a', [['b', [['b', 'b'], [[[rules_dict[48]], [rules_dict[41]]], 'a']]], ['a', ['a', 'a']]]]], 'a']]], ['a', [[[[[['b', 'b'], 'b'], 'a'], [[[[['b', 'a'], [[[rules_dict[48]], [rules_dict[41]]], 'b']], 'a'], [['a', 'a'], 'b']], 'b']], 'b'], [[['b', [[['b'], ['a']], [['a', 'a'], ['a', 'b']]]], ['a', [['a', [['a', 'a'], ['b', 'b']]], ['b', [['b', 'b'], [[[rules_dict[48]], [rules_dict[41]]], 'a']]]]]], 'a']]]], 'a'], [[['a', [[[['b', ['a', [['b', 'a'], ['a', 'a']]]], ['a', [['a', 'a'], 'b']]], 'b'], [[['a', [[[[[rules_dict[48]], [rules_dict[41]]], [[rules_dict[48]], [rules_dict[41]]]], 'b'], [['b', 'b'], 'a']]], ['b', [[[[rules_dict[48]], [rules_dict[41]]], [[rules_dict[48]], [rules_dict[41]]]], [['b'], ['a']]]]], 'a']]], ['b', [['a', [[[[[['a', 'a'], ['a', 'b']], 'a'], [[['a', [[rules_dict[48]], [rules_dict[41]]]], ['b', 'a']], 'b']], 'b'], [[[[['b', 'a'], [[[rules_dict[48]], [rules_dict[41]]], 'b']], 'a'], [['a', 'a'], 'b']], 'a']]], ['b', [['b', [[[['b', 'b'], [[[rules_dict[48]], [rules_dict[41]]], 'a']], 'a'], [['a', 'a'], 'b']]], ['a', [[['b', 'a'], 'a'], [[['b', 'b'], [[[rules_dict[48]], [rules_dict[41]]], 'a']], 'b']]]]]]]], 'b']]]], [['b', [['b', [['a', [[[['a', [['a', ['a', 'a']], ['b', ['b', 'a']]]], ['b', [['b', [['b', 'a'], [[[rules_dict[48]], [rules_dict[41]]], 'b']]], ['a', [['a', 'b'], ['b', 'a']]]]]], 'b'], [[['a', [['b', [[[rules_dict[48]], [rules_dict[41]]], [[rules_dict[48]], [rules_dict[41]]]]], ['a', [['b', 'a'], ['b', 'b']]]]], ['b', [[['b', 'a'], 'b'], [['a', 'b'], 'a']]]], 'a']]], ['b', [['a', [['a', [[['b', 'a'], 'a'], [[['b', 'b'], [[[rules_dict[48]], [rules_dict[41]]], 'a']], 'b']]], ['b', [['a', ['b', 'a']], ['b', [['a', 'b'], ['b', 'a']]]]]]], ['b', [[[[[['b', 'a'], [[[rules_dict[48]], [rules_dict[41]]], 'b']], 'b'], [['a', 'b'], 'a']], 'b'], [[['a', [['b', 'b'], ['a', [[rules_dict[48]], [rules_dict[41]]]]]], ['b', [['b', 'b'], [[[rules_dict[48]], [rules_dict[41]]], 'a']]]], 'a']]]]]]], ['a', [[[[[['a', [[[['a', 'a'], ['b', 'b']], 'b'], [[[[rules_dict[48]], [rules_dict[41]]], [[rules_dict[48]], [rules_dict[41]]]], 'a']]], ['b', [['b', [['a', 'a'], ['b', 'b']]], ['a', [['b', 'b'], [[[rules_dict[48]], [rules_dict[41]]], 'a']]]]]], 'b'], [[['b', [[['b'], ['a']], [['b', 'a'], ['b', 'b']]]], ['a', [[[['b', 'a'], ['a', 'a']], 'b'], [['a', 'b'], 'a']]]], 'a']], 'a'], [[[[[[['a', 'a'], 'b'], [[['a', 'a'], ['a', 'b']], 'a']], 'a'], 'a'], [[['a', [[[['b', 'a'], [[[rules_dict[48]], [rules_dict[41]]], 'b']], 'b'], [[[[rules_dict[48]], [rules_dict[41]]], [[rules_dict[48]], [rules_dict[41]]]], 'a']]], ['b', [[[['b', 'a'], ['b', 'b']], 'a'], [[[[rules_dict[48]], [rules_dict[41]]], [[rules_dict[48]], [rules_dict[41]]]], 'b']]]], 'b']], 'b']]]]], ['a', [['a', [['a', [[[[[[[['b', 'b'], [[[rules_dict[48]], [rules_dict[41]]], 'a']], 'a'], [[['b', 'a'], ['b', 'b']], 'b']], 'a'], [[['a', [['a', 'b'], ['b', 'a']]], ['b', ['b', 'a']]], 'b']], 'b'], [[[[[[[[rules_dict[48]], [rules_dict[41]]], [[rules_dict[48]], [rules_dict[41]]]], 'b'], [[['b', 'b'], ['a', [[rules_dict[48]], [rules_dict[41]]]]], 'a']], 'b'], [[[['b'], ['a']], [['a', 'b'], ['b', 'a']]], 'a']], 'a']]], ['b', [['b', [[[[[['a', 'a'], ['a', 'b']], 'a'], [[['b', 'a'], [[[rules_dict[48]], [rules_dict[41]]], 'b']], 'b']], 'b'], [[[[['b', 'a'], ['a', 'a']], 'a'], [[['b', 'a'], ['b', 'b']], 'b']], 'a']]], ['a', [[[[[['b', 'a'], ['a', 'a']], 'b'], [['a', 'b'], 'a']], 'b'], [[[['b', 'a'], ['b', 'b']], 'b'], 'a']]]]]]], ['b', [[[[[['b', [[[['b', 'a'], [[[rules_dict[48]], [rules_dict[41]]], 'b']], 'b'], [['a', 'b'], 'a']]], ['a', [[['a', 'a'], 'a'], [['a', 'a'], 'b']]]], 'a'], [[[[[[['a', 'a'], ['a', 'b']], 'a'], [['b', 'b'], 'b']], 'a'], [[['b', [['a', 'a'], ['a', 'b']]], ['a', [['a', [[rules_dict[48]], [rules_dict[41]]]], ['b', 'a']]]], 'b']], 'b']], 'b'], [[[[['a', [['b', [['b', 'b'], [[[rules_dict[48]], [rules_dict[41]]], 'a']]], ['a', [['b', 'a'], [[[rules_dict[48]], [rules_dict[41]]], 'b']]]]], ['b', [['b', [['a', 'a'], ['b', 'b']]], ['a', ['b', 'b']]]]], 'b'], [[['b', [['a', ['b', 'b']], ['b', ['a', 'b']]]], ['a', [['b', [['b', 'b'], ['a', [[rules_dict[48]], [rules_dict[41]]]]]], ['a', ['b', 'b']]]]], 'a']], 'a']]]]]]]]\""
      ]
     },
     "execution_count": 133,
     "metadata": {},
     "output_type": "execute_result"
    }
   ],
   "source": [
    "rules_dict[0] = [[[['a', [[[['b', [[[[[['b', [[rules_dict[48], rules_dict[41]], [rules_dict[41], rules_dict[41]]]], ['a', [rules_dict[48], rules_dict[41]]]], 'b'], [[[[[rules_dict[48], rules_dict[41]], [rules_dict[41], rules_dict[41]]], 'a'], [[[rules_dict[48], rules_dict[41]], [rules_dict[48], rules_dict[48]]], 'b']], 'a']], 'b'], [[['a', [['b', [rules_dict[48], rules_dict[41]]], ['a', [[rules_dict[41], rules_dict[67]], [rules_dict[48], rules_dict[41]]]]]], ['b', [[[[rules_dict[41], rules_dict[41]], [rules_dict[48], rules_dict[48]]], 'b'], [[rules_dict[67], rules_dict[67]], 'a']]]], 'a']]], ['a', [['a', [[[[[rules_dict[48]], [rules_dict[41]]], [[rules_dict[41], rules_dict[41]], [rules_dict[48], rules_dict[48]]]], 'a'], [[[rules_dict[48], rules_dict[41]], 'a'], 'b']]], ['b', [[[[[rules_dict[48]], [rules_dict[41]]], [[rules_dict[41], rules_dict[41]], [rules_dict[41], rules_dict[48]]]], 'b'], [[[[rules_dict[67], rules_dict[67]], 'b'], [[[rules_dict[41], rules_dict[41]], [rules_dict[41], rules_dict[48]]], 'a']], 'a']]]]]], 'a'], [[['b', [['b', [[[[[[rules_dict[48], rules_dict[48]], [rules_dict[67], rules_dict[41]]], 'a'], [[rules_dict[41], rules_dict[41]], 'b']], 'a'], [[[[[rules_dict[48], rules_dict[41]], [rules_dict[48], rules_dict[48]]], 'b'], [[[rules_dict[41], rules_dict[67]], [rules_dict[48], rules_dict[41]]], 'a']], 'b']]], ['a', [[[['a', [rules_dict[48], rules_dict[41]]], ['b', [[rules_dict[48], rules_dict[41]], [rules_dict[48], rules_dict[48]]]]], 'b'], [[['b', [rules_dict[67], rules_dict[67]]], ['a', [[rules_dict[48], rules_dict[41]], [rules_dict[48], rules_dict[48]]]]], 'a']]]]], ['a', [[[['b', [[[rules_dict[48], rules_dict[41]], 'a'], [[[rules_dict[41], rules_dict[41]], [rules_dict[41], rules_dict[48]]], 'b']]], ['a', [['b', [[rules_dict[48], rules_dict[48]], [rules_dict[41], rules_dict[67]]]], ['a', [[rules_dict[41], rules_dict[41]], [rules_dict[48], rules_dict[48]]]]]]], 'b'], [[[[[[[rules_dict[48], rules_dict[48]], [rules_dict[67], rules_dict[41]]], 'b'], [[rules_dict[41], rules_dict[41]], 'a']], 'b'], [[[[rules_dict[48], rules_dict[41]], 'a'], [[[rules_dict[48], rules_dict[48]], [rules_dict[67], rules_dict[41]]], 'b']], 'a']], 'a']]]], 'b']]], ['b', [[[['b', [[[['a', [[[[rules_dict[48], rules_dict[41]], [rules_dict[41], rules_dict[41]]], 'a'], [[[rules_dict[48], rules_dict[41]], [rules_dict[48], rules_dict[48]]], 'b']]], ['b', [['b', [rules_dict[48], rules_dict[41]]], ['a', [[rules_dict[41], rules_dict[41]], [rules_dict[41], rules_dict[48]]]]]]], 'b'], [[['b', [[[[rules_dict[41], rules_dict[41]], [rules_dict[41], rules_dict[48]]], 'a'], [[[rules_dict[41], rules_dict[48]], [rules_dict[48], rules_dict[41]]], 'b']]], ['a', [['b', [[rules_dict[48], rules_dict[48]], [rules_dict[67], rules_dict[41]]]], ['a', [rules_dict[41], rules_dict[41]]]]]], 'a']]], ['a', [[[[[[rules_dict[48], rules_dict[48]], 'b'], 'a'], [[[[[rules_dict[48], rules_dict[41]], [rules_dict[67], rules_dict[48]]], 'a'], [[rules_dict[41], rules_dict[41]], 'b']], 'b']], 'b'], [[['b', [[[rules_dict[48]], [rules_dict[41]]], [[rules_dict[41], rules_dict[41]], [rules_dict[41], rules_dict[48]]]]], ['a', [['a', [[rules_dict[41], rules_dict[41]], [rules_dict[48], rules_dict[48]]]], ['b', [[rules_dict[48], rules_dict[48]], [rules_dict[67], rules_dict[41]]]]]]], 'a']]]], 'a'], [[['a', [[[['b', ['a', [[rules_dict[48], rules_dict[41]], [rules_dict[41], rules_dict[41]]]]], ['a', [[rules_dict[41], rules_dict[41]], 'b']]], 'b'], [[['a', [[[rules_dict[67], rules_dict[67]], 'b'], [[rules_dict[48], rules_dict[48]], 'a']]], ['b', [[rules_dict[67], rules_dict[67]], [[rules_dict[48]], [rules_dict[41]]]]]], 'a']]], ['b', [['a', [[[[[[rules_dict[41], rules_dict[41]], [rules_dict[41], rules_dict[48]]], 'a'], [[[rules_dict[41], rules_dict[67]], [rules_dict[48], rules_dict[41]]], 'b']], 'b'], [[[[[rules_dict[48], rules_dict[41]], [rules_dict[67], rules_dict[48]]], 'a'], [[rules_dict[41], rules_dict[41]], 'b']], 'a']]], ['b', [['b', [[[[rules_dict[48], rules_dict[48]], [rules_dict[67], rules_dict[41]]], 'a'], [[rules_dict[41], rules_dict[41]], 'b']]], ['a', [[[rules_dict[48], rules_dict[41]], 'a'], [[[rules_dict[48], rules_dict[48]], [rules_dict[67], rules_dict[41]]], 'b']]]]]]]], 'b']]]]], [[['a', [[[['b', [[[[[['b', [[rules_dict[48], rules_dict[41]], [rules_dict[41], rules_dict[41]]]], ['a', [rules_dict[48], rules_dict[41]]]], 'b'], [[[[[rules_dict[48], rules_dict[41]], [rules_dict[41], rules_dict[41]]], 'a'], [[[rules_dict[48], rules_dict[41]], [rules_dict[48], rules_dict[48]]], 'b']], 'a']], 'b'], [[['a', [['b', [rules_dict[48], rules_dict[41]]], ['a', [[rules_dict[41], rules_dict[67]], [rules_dict[48], rules_dict[41]]]]]], ['b', [[[[rules_dict[41], rules_dict[41]], [rules_dict[48], rules_dict[48]]], 'b'], [[rules_dict[67], rules_dict[67]], 'a']]]], 'a']]], ['a', [['a', [[[[[rules_dict[48]], [rules_dict[41]]], [[rules_dict[41], rules_dict[41]], [rules_dict[48], rules_dict[48]]]], 'a'], [[[rules_dict[48], rules_dict[41]], 'a'], 'b']]], ['b', [[[[[rules_dict[48]], [rules_dict[41]]], [[rules_dict[41], rules_dict[41]], [rules_dict[41], rules_dict[48]]]], 'b'], [[[[rules_dict[67], rules_dict[67]], 'b'], [[[rules_dict[41], rules_dict[41]], [rules_dict[41], rules_dict[48]]], 'a']], 'a']]]]]], 'a'], [[['b', [['b', [[[[[[rules_dict[48], rules_dict[48]], [rules_dict[67], rules_dict[41]]], 'a'], [[rules_dict[41], rules_dict[41]], 'b']], 'a'], [[[[[rules_dict[48], rules_dict[41]], [rules_dict[48], rules_dict[48]]], 'b'], [[[rules_dict[41], rules_dict[67]], [rules_dict[48], rules_dict[41]]], 'a']], 'b']]], ['a', [[[['a', [rules_dict[48], rules_dict[41]]], ['b', [[rules_dict[48], rules_dict[41]], [rules_dict[48], rules_dict[48]]]]], 'b'], [[['b', [rules_dict[67], rules_dict[67]]], ['a', [[rules_dict[48], rules_dict[41]], [rules_dict[48], rules_dict[48]]]]], 'a']]]]], ['a', [[[['b', [[[rules_dict[48], rules_dict[41]], 'a'], [[[rules_dict[41], rules_dict[41]], [rules_dict[41], rules_dict[48]]], 'b']]], ['a', [['b', [[rules_dict[48], rules_dict[48]], [rules_dict[41], rules_dict[67]]]], ['a', [[rules_dict[41], rules_dict[41]], [rules_dict[48], rules_dict[48]]]]]]], 'b'], [[[[[[[rules_dict[48], rules_dict[48]], [rules_dict[67], rules_dict[41]]], 'b'], [[rules_dict[41], rules_dict[41]], 'a']], 'b'], [[[[rules_dict[48], rules_dict[41]], 'a'], [[[rules_dict[48], rules_dict[48]], [rules_dict[67], rules_dict[41]]], 'b']], 'a']], 'a']]]], 'b']]], ['b', [[[['b', [[[['a', [[[[rules_dict[48], rules_dict[41]], [rules_dict[41], rules_dict[41]]], 'a'], [[[rules_dict[48], rules_dict[41]], [rules_dict[48], rules_dict[48]]], 'b']]], ['b', [['b', [rules_dict[48], rules_dict[41]]], ['a', [[rules_dict[41], rules_dict[41]], [rules_dict[41], rules_dict[48]]]]]]], 'b'], [[['b', [[[[rules_dict[41], rules_dict[41]], [rules_dict[41], rules_dict[48]]], 'a'], [[[rules_dict[41], rules_dict[48]], [rules_dict[48], rules_dict[41]]], 'b']]], ['a', [['b', [[rules_dict[48], rules_dict[48]], [rules_dict[67], rules_dict[41]]]], ['a', [rules_dict[41], rules_dict[41]]]]]], 'a']]], ['a', [[[[[[rules_dict[48], rules_dict[48]], 'b'], 'a'], [[[[[rules_dict[48], rules_dict[41]], [rules_dict[67], rules_dict[48]]], 'a'], [[rules_dict[41], rules_dict[41]], 'b']], 'b']], 'b'], [[['b', [[[rules_dict[48]], [rules_dict[41]]], [[rules_dict[41], rules_dict[41]], [rules_dict[41], rules_dict[48]]]]], ['a', [['a', [[rules_dict[41], rules_dict[41]], [rules_dict[48], rules_dict[48]]]], ['b', [[rules_dict[48], rules_dict[48]], [rules_dict[67], rules_dict[41]]]]]]], 'a']]]], 'a'], [[['a', [[[['b', ['a', [[rules_dict[48], rules_dict[41]], [rules_dict[41], rules_dict[41]]]]], ['a', [[rules_dict[41], rules_dict[41]], 'b']]], 'b'], [[['a', [[[rules_dict[67], rules_dict[67]], 'b'], [[rules_dict[48], rules_dict[48]], 'a']]], ['b', [[rules_dict[67], rules_dict[67]], [[rules_dict[48]], [rules_dict[41]]]]]], 'a']]], ['b', [['a', [[[[[[rules_dict[41], rules_dict[41]], [rules_dict[41], rules_dict[48]]], 'a'], [[[rules_dict[41], rules_dict[67]], [rules_dict[48], rules_dict[41]]], 'b']], 'b'], [[[[[rules_dict[48], rules_dict[41]], [rules_dict[67], rules_dict[48]]], 'a'], [[rules_dict[41], rules_dict[41]], 'b']], 'a']]], ['b', [['b', [[[[rules_dict[48], rules_dict[48]], [rules_dict[67], rules_dict[41]]], 'a'], [[rules_dict[41], rules_dict[41]], 'b']]], ['a', [[[rules_dict[48], rules_dict[41]], 'a'], [[[rules_dict[48], rules_dict[48]], [rules_dict[67], rules_dict[41]]], 'b']]]]]]]], 'b']]]], [['b', [['b', [['a', [[[['a', [['a', [rules_dict[41], rules_dict[41]]], ['b', [rules_dict[48], rules_dict[41]]]]], ['b', [['b', [[rules_dict[48], rules_dict[41]], [rules_dict[67], rules_dict[48]]]], ['a', [[rules_dict[41], rules_dict[48]], [rules_dict[48], rules_dict[41]]]]]]], 'b'], [[['a', [['b', [rules_dict[67], rules_dict[67]]], ['a', [[rules_dict[48], rules_dict[41]], [rules_dict[48], rules_dict[48]]]]]], ['b', [[[rules_dict[48], rules_dict[41]], 'b'], [[rules_dict[41], rules_dict[48]], 'a']]]], 'a']]], ['b', [['a', [['a', [[[rules_dict[48], rules_dict[41]], 'a'], [[[rules_dict[48], rules_dict[48]], [rules_dict[67], rules_dict[41]]], 'b']]], ['b', [['a', [rules_dict[48], rules_dict[41]]], ['b', [[rules_dict[41], rules_dict[48]], [rules_dict[48], rules_dict[41]]]]]]]], ['b', [[[[[[rules_dict[48], rules_dict[41]], [rules_dict[67], rules_dict[48]]], 'b'], [[rules_dict[41], rules_dict[48]], 'a']], 'b'], [[['a', [[rules_dict[48], rules_dict[48]], [rules_dict[41], rules_dict[67]]]], ['b', [[rules_dict[48], rules_dict[48]], [rules_dict[67], rules_dict[41]]]]], 'a']]]]]]], ['a', [[[[[['a', [[[[rules_dict[41], rules_dict[41]], [rules_dict[48], rules_dict[48]]], 'b'], [[rules_dict[67], rules_dict[67]], 'a']]], ['b', [['b', [[rules_dict[41], rules_dict[41]], [rules_dict[48], rules_dict[48]]]], ['a', [[rules_dict[48], rules_dict[48]], [rules_dict[67], rules_dict[41]]]]]]], 'b'], [[['b', [[[rules_dict[48]], [rules_dict[41]]], [[rules_dict[48], rules_dict[41]], [rules_dict[48], rules_dict[48]]]]], ['a', [[[[rules_dict[48], rules_dict[41]], [rules_dict[41], rules_dict[41]]], 'b'], [[rules_dict[41], rules_dict[48]], 'a']]]], 'a']], 'a'], [[[[[[[rules_dict[41], rules_dict[41]], 'b'], [[[rules_dict[41], rules_dict[41]], [rules_dict[41], rules_dict[48]]], 'a']], 'a'], 'a'], [[['a', [[[[rules_dict[48], rules_dict[41]], [rules_dict[67], rules_dict[48]]], 'b'], [[rules_dict[67], rules_dict[67]], 'a']]], ['b', [[[[rules_dict[48], rules_dict[41]], [rules_dict[48], rules_dict[48]]], 'a'], [[rules_dict[67], rules_dict[67]], 'b']]]], 'b']], 'b']]]]], ['a', [['a', [['a', [[[[[[[[rules_dict[48], rules_dict[48]], [rules_dict[67], rules_dict[41]]], 'a'], [[[rules_dict[48], rules_dict[41]], [rules_dict[48], rules_dict[48]]], 'b']], 'a'], [[['a', [[rules_dict[41], rules_dict[48]], [rules_dict[48], rules_dict[41]]]], ['b', [rules_dict[48], rules_dict[41]]]], 'b']], 'b'], [[[[[[rules_dict[67], rules_dict[67]], 'b'], [[[rules_dict[48], rules_dict[48]], [rules_dict[41], rules_dict[67]]], 'a']], 'b'], [[[[rules_dict[48]], [rules_dict[41]]], [[rules_dict[41], rules_dict[48]], [rules_dict[48], rules_dict[41]]]], 'a']], 'a']]], ['b', [['b', [[[[[[rules_dict[41], rules_dict[41]], [rules_dict[41], rules_dict[48]]], 'a'], [[[rules_dict[48], rules_dict[41]], [rules_dict[67], rules_dict[48]]], 'b']], 'b'], [[[[[rules_dict[48], rules_dict[41]], [rules_dict[41], rules_dict[41]]], 'a'], [[[rules_dict[48], rules_dict[41]], [rules_dict[48], rules_dict[48]]], 'b']], 'a']]], ['a', [[[[[[rules_dict[48], rules_dict[41]], [rules_dict[41], rules_dict[41]]], 'b'], [[rules_dict[41], rules_dict[48]], 'a']], 'b'], [[[[rules_dict[48], rules_dict[41]], [rules_dict[48], rules_dict[48]]], 'b'], 'a']]]]]]], ['b', [[[[[['b', [[[[rules_dict[48], rules_dict[41]], [rules_dict[67], rules_dict[48]]], 'b'], [[rules_dict[41], rules_dict[48]], 'a']]], ['a', [[[rules_dict[41], rules_dict[41]], 'a'], [[rules_dict[41], rules_dict[41]], 'b']]]], 'a'], [[[[[[[rules_dict[41], rules_dict[41]], [rules_dict[41], rules_dict[48]]], 'a'], [[rules_dict[48], rules_dict[48]], 'b']], 'a'], [[['b', [[rules_dict[41], rules_dict[41]], [rules_dict[41], rules_dict[48]]]], ['a', [[rules_dict[41], rules_dict[67]], [rules_dict[48], rules_dict[41]]]]], 'b']], 'b']], 'b'], [[[[['a', [['b', [[rules_dict[48], rules_dict[48]], [rules_dict[67], rules_dict[41]]]], ['a', [[rules_dict[48], rules_dict[41]], [rules_dict[67], rules_dict[48]]]]]], ['b', [['b', [[rules_dict[41], rules_dict[41]], [rules_dict[48], rules_dict[48]]]], ['a', [rules_dict[48], rules_dict[48]]]]]], 'b'], [[['b', [['a', [rules_dict[48], rules_dict[48]]], ['b', [rules_dict[41], rules_dict[48]]]]], ['a', [['b', [[rules_dict[48], rules_dict[48]], [rules_dict[41], rules_dict[67]]]], ['a', [rules_dict[48], rules_dict[48]]]]]], 'a']], 'a']]]]]]]]\n",
    "next_level(str(rules_dict[0]))"
   ]
  },
  {
   "cell_type": "code",
   "execution_count": 134,
   "metadata": {
    "scrolled": true
   },
   "outputs": [
    {
     "data": {
      "text/plain": [
       "\"[[[['a', [[[['b', [[[[[['b', [['b', 'a'], ['a', 'a']]], ['a', ['b', 'a']]], 'b'], [[[[['b', 'a'], ['a', 'a']], 'a'], [[['b', 'a'], ['b', 'b']], 'b']], 'a']], 'b'], [[['a', [['b', ['b', 'a']], ['a', [['a', [['b'], ['a']]], ['b', 'a']]]]], ['b', [[[['a', 'a'], ['b', 'b']], 'b'], [[[['b'], ['a']], [['b'], ['a']]], 'a']]]], 'a']]], ['a', [['a', [[[[['b'], ['a']], [['a', 'a'], ['b', 'b']]], 'a'], [[['b', 'a'], 'a'], 'b']]], ['b', [[[[['b'], ['a']], [['a', 'a'], ['a', 'b']]], 'b'], [[[[[['b'], ['a']], [['b'], ['a']]], 'b'], [[['a', 'a'], ['a', 'b']], 'a']], 'a']]]]]], 'a'], [[['b', [['b', [[[[[['b', 'b'], [[['b'], ['a']], 'a']], 'a'], [['a', 'a'], 'b']], 'a'], [[[[['b', 'a'], ['b', 'b']], 'b'], [[['a', [['b'], ['a']]], ['b', 'a']], 'a']], 'b']]], ['a', [[[['a', ['b', 'a']], ['b', [['b', 'a'], ['b', 'b']]]], 'b'], [[['b', [[['b'], ['a']], [['b'], ['a']]]], ['a', [['b', 'a'], ['b', 'b']]]], 'a']]]]], ['a', [[[['b', [[['b', 'a'], 'a'], [[['a', 'a'], ['a', 'b']], 'b']]], ['a', [['b', [['b', 'b'], ['a', [['b'], ['a']]]]], ['a', [['a', 'a'], ['b', 'b']]]]]], 'b'], [[[[[[['b', 'b'], [[['b'], ['a']], 'a']], 'b'], [['a', 'a'], 'a']], 'b'], [[[['b', 'a'], 'a'], [[['b', 'b'], [[['b'], ['a']], 'a']], 'b']], 'a']], 'a']]]], 'b']]], ['b', [[[['b', [[[['a', [[[['b', 'a'], ['a', 'a']], 'a'], [[['b', 'a'], ['b', 'b']], 'b']]], ['b', [['b', ['b', 'a']], ['a', [['a', 'a'], ['a', 'b']]]]]], 'b'], [[['b', [[[['a', 'a'], ['a', 'b']], 'a'], [[['a', 'b'], ['b', 'a']], 'b']]], ['a', [['b', [['b', 'b'], [[['b'], ['a']], 'a']]], ['a', ['a', 'a']]]]], 'a']]], ['a', [[[[[['b', 'b'], 'b'], 'a'], [[[[['b', 'a'], [[['b'], ['a']], 'b']], 'a'], [['a', 'a'], 'b']], 'b']], 'b'], [[['b', [[['b'], ['a']], [['a', 'a'], ['a', 'b']]]], ['a', [['a', [['a', 'a'], ['b', 'b']]], ['b', [['b', 'b'], [[['b'], ['a']], 'a']]]]]], 'a']]]], 'a'], [[['a', [[[['b', ['a', [['b', 'a'], ['a', 'a']]]], ['a', [['a', 'a'], 'b']]], 'b'], [[['a', [[[[['b'], ['a']], [['b'], ['a']]], 'b'], [['b', 'b'], 'a']]], ['b', [[[['b'], ['a']], [['b'], ['a']]], [['b'], ['a']]]]], 'a']]], ['b', [['a', [[[[[['a', 'a'], ['a', 'b']], 'a'], [[['a', [['b'], ['a']]], ['b', 'a']], 'b']], 'b'], [[[[['b', 'a'], [[['b'], ['a']], 'b']], 'a'], [['a', 'a'], 'b']], 'a']]], ['b', [['b', [[[['b', 'b'], [[['b'], ['a']], 'a']], 'a'], [['a', 'a'], 'b']]], ['a', [[['b', 'a'], 'a'], [[['b', 'b'], [[['b'], ['a']], 'a']], 'b']]]]]]]], 'b']]]]], [[['a', [[[['b', [[[[[['b', [['b', 'a'], ['a', 'a']]], ['a', ['b', 'a']]], 'b'], [[[[['b', 'a'], ['a', 'a']], 'a'], [[['b', 'a'], ['b', 'b']], 'b']], 'a']], 'b'], [[['a', [['b', ['b', 'a']], ['a', [['a', [['b'], ['a']]], ['b', 'a']]]]], ['b', [[[['a', 'a'], ['b', 'b']], 'b'], [[[['b'], ['a']], [['b'], ['a']]], 'a']]]], 'a']]], ['a', [['a', [[[[['b'], ['a']], [['a', 'a'], ['b', 'b']]], 'a'], [[['b', 'a'], 'a'], 'b']]], ['b', [[[[['b'], ['a']], [['a', 'a'], ['a', 'b']]], 'b'], [[[[[['b'], ['a']], [['b'], ['a']]], 'b'], [[['a', 'a'], ['a', 'b']], 'a']], 'a']]]]]], 'a'], [[['b', [['b', [[[[[['b', 'b'], [[['b'], ['a']], 'a']], 'a'], [['a', 'a'], 'b']], 'a'], [[[[['b', 'a'], ['b', 'b']], 'b'], [[['a', [['b'], ['a']]], ['b', 'a']], 'a']], 'b']]], ['a', [[[['a', ['b', 'a']], ['b', [['b', 'a'], ['b', 'b']]]], 'b'], [[['b', [[['b'], ['a']], [['b'], ['a']]]], ['a', [['b', 'a'], ['b', 'b']]]], 'a']]]]], ['a', [[[['b', [[['b', 'a'], 'a'], [[['a', 'a'], ['a', 'b']], 'b']]], ['a', [['b', [['b', 'b'], ['a', [['b'], ['a']]]]], ['a', [['a', 'a'], ['b', 'b']]]]]], 'b'], [[[[[[['b', 'b'], [[['b'], ['a']], 'a']], 'b'], [['a', 'a'], 'a']], 'b'], [[[['b', 'a'], 'a'], [[['b', 'b'], [[['b'], ['a']], 'a']], 'b']], 'a']], 'a']]]], 'b']]], ['b', [[[['b', [[[['a', [[[['b', 'a'], ['a', 'a']], 'a'], [[['b', 'a'], ['b', 'b']], 'b']]], ['b', [['b', ['b', 'a']], ['a', [['a', 'a'], ['a', 'b']]]]]], 'b'], [[['b', [[[['a', 'a'], ['a', 'b']], 'a'], [[['a', 'b'], ['b', 'a']], 'b']]], ['a', [['b', [['b', 'b'], [[['b'], ['a']], 'a']]], ['a', ['a', 'a']]]]], 'a']]], ['a', [[[[[['b', 'b'], 'b'], 'a'], [[[[['b', 'a'], [[['b'], ['a']], 'b']], 'a'], [['a', 'a'], 'b']], 'b']], 'b'], [[['b', [[['b'], ['a']], [['a', 'a'], ['a', 'b']]]], ['a', [['a', [['a', 'a'], ['b', 'b']]], ['b', [['b', 'b'], [[['b'], ['a']], 'a']]]]]], 'a']]]], 'a'], [[['a', [[[['b', ['a', [['b', 'a'], ['a', 'a']]]], ['a', [['a', 'a'], 'b']]], 'b'], [[['a', [[[[['b'], ['a']], [['b'], ['a']]], 'b'], [['b', 'b'], 'a']]], ['b', [[[['b'], ['a']], [['b'], ['a']]], [['b'], ['a']]]]], 'a']]], ['b', [['a', [[[[[['a', 'a'], ['a', 'b']], 'a'], [[['a', [['b'], ['a']]], ['b', 'a']], 'b']], 'b'], [[[[['b', 'a'], [[['b'], ['a']], 'b']], 'a'], [['a', 'a'], 'b']], 'a']]], ['b', [['b', [[[['b', 'b'], [[['b'], ['a']], 'a']], 'a'], [['a', 'a'], 'b']]], ['a', [[['b', 'a'], 'a'], [[['b', 'b'], [[['b'], ['a']], 'a']], 'b']]]]]]]], 'b']]]], [['b', [['b', [['a', [[[['a', [['a', ['a', 'a']], ['b', ['b', 'a']]]], ['b', [['b', [['b', 'a'], [[['b'], ['a']], 'b']]], ['a', [['a', 'b'], ['b', 'a']]]]]], 'b'], [[['a', [['b', [[['b'], ['a']], [['b'], ['a']]]], ['a', [['b', 'a'], ['b', 'b']]]]], ['b', [[['b', 'a'], 'b'], [['a', 'b'], 'a']]]], 'a']]], ['b', [['a', [['a', [[['b', 'a'], 'a'], [[['b', 'b'], [[['b'], ['a']], 'a']], 'b']]], ['b', [['a', ['b', 'a']], ['b', [['a', 'b'], ['b', 'a']]]]]]], ['b', [[[[[['b', 'a'], [[['b'], ['a']], 'b']], 'b'], [['a', 'b'], 'a']], 'b'], [[['a', [['b', 'b'], ['a', [['b'], ['a']]]]], ['b', [['b', 'b'], [[['b'], ['a']], 'a']]]], 'a']]]]]]], ['a', [[[[[['a', [[[['a', 'a'], ['b', 'b']], 'b'], [[[['b'], ['a']], [['b'], ['a']]], 'a']]], ['b', [['b', [['a', 'a'], ['b', 'b']]], ['a', [['b', 'b'], [[['b'], ['a']], 'a']]]]]], 'b'], [[['b', [[['b'], ['a']], [['b', 'a'], ['b', 'b']]]], ['a', [[[['b', 'a'], ['a', 'a']], 'b'], [['a', 'b'], 'a']]]], 'a']], 'a'], [[[[[[['a', 'a'], 'b'], [[['a', 'a'], ['a', 'b']], 'a']], 'a'], 'a'], [[['a', [[[['b', 'a'], [[['b'], ['a']], 'b']], 'b'], [[[['b'], ['a']], [['b'], ['a']]], 'a']]], ['b', [[[['b', 'a'], ['b', 'b']], 'a'], [[[['b'], ['a']], [['b'], ['a']]], 'b']]]], 'b']], 'b']]]]], ['a', [['a', [['a', [[[[[[[['b', 'b'], [[['b'], ['a']], 'a']], 'a'], [[['b', 'a'], ['b', 'b']], 'b']], 'a'], [[['a', [['a', 'b'], ['b', 'a']]], ['b', ['b', 'a']]], 'b']], 'b'], [[[[[[[['b'], ['a']], [['b'], ['a']]], 'b'], [[['b', 'b'], ['a', [['b'], ['a']]]], 'a']], 'b'], [[[['b'], ['a']], [['a', 'b'], ['b', 'a']]], 'a']], 'a']]], ['b', [['b', [[[[[['a', 'a'], ['a', 'b']], 'a'], [[['b', 'a'], [[['b'], ['a']], 'b']], 'b']], 'b'], [[[[['b', 'a'], ['a', 'a']], 'a'], [[['b', 'a'], ['b', 'b']], 'b']], 'a']]], ['a', [[[[[['b', 'a'], ['a', 'a']], 'b'], [['a', 'b'], 'a']], 'b'], [[[['b', 'a'], ['b', 'b']], 'b'], 'a']]]]]]], ['b', [[[[[['b', [[[['b', 'a'], [[['b'], ['a']], 'b']], 'b'], [['a', 'b'], 'a']]], ['a', [[['a', 'a'], 'a'], [['a', 'a'], 'b']]]], 'a'], [[[[[[['a', 'a'], ['a', 'b']], 'a'], [['b', 'b'], 'b']], 'a'], [[['b', [['a', 'a'], ['a', 'b']]], ['a', [['a', [['b'], ['a']]], ['b', 'a']]]], 'b']], 'b']], 'b'], [[[[['a', [['b', [['b', 'b'], [[['b'], ['a']], 'a']]], ['a', [['b', 'a'], [[['b'], ['a']], 'b']]]]], ['b', [['b', [['a', 'a'], ['b', 'b']]], ['a', ['b', 'b']]]]], 'b'], [[['b', [['a', ['b', 'b']], ['b', ['a', 'b']]]], ['a', [['b', [['b', 'b'], ['a', [['b'], ['a']]]]], ['a', ['b', 'b']]]]], 'a']], 'a']]]]]]]]\""
      ]
     },
     "execution_count": 134,
     "metadata": {},
     "output_type": "execute_result"
    }
   ],
   "source": [
    "rules_dict[0] = [[[['a', [[[['b', [[[[[['b', [['b', 'a'], ['a', 'a']]], ['a', ['b', 'a']]], 'b'], [[[[['b', 'a'], ['a', 'a']], 'a'], [[['b', 'a'], ['b', 'b']], 'b']], 'a']], 'b'], [[['a', [['b', ['b', 'a']], ['a', [['a', [[rules_dict[48]], [rules_dict[41]]]], ['b', 'a']]]]], ['b', [[[['a', 'a'], ['b', 'b']], 'b'], [[[[rules_dict[48]], [rules_dict[41]]], [[rules_dict[48]], [rules_dict[41]]]], 'a']]]], 'a']]], ['a', [['a', [[[[['b'], ['a']], [['a', 'a'], ['b', 'b']]], 'a'], [[['b', 'a'], 'a'], 'b']]], ['b', [[[[['b'], ['a']], [['a', 'a'], ['a', 'b']]], 'b'], [[[[[[rules_dict[48]], [rules_dict[41]]], [[rules_dict[48]], [rules_dict[41]]]], 'b'], [[['a', 'a'], ['a', 'b']], 'a']], 'a']]]]]], 'a'], [[['b', [['b', [[[[[['b', 'b'], [[[rules_dict[48]], [rules_dict[41]]], 'a']], 'a'], [['a', 'a'], 'b']], 'a'], [[[[['b', 'a'], ['b', 'b']], 'b'], [[['a', [[rules_dict[48]], [rules_dict[41]]]], ['b', 'a']], 'a']], 'b']]], ['a', [[[['a', ['b', 'a']], ['b', [['b', 'a'], ['b', 'b']]]], 'b'], [[['b', [[[rules_dict[48]], [rules_dict[41]]], [[rules_dict[48]], [rules_dict[41]]]]], ['a', [['b', 'a'], ['b', 'b']]]], 'a']]]]], ['a', [[[['b', [[['b', 'a'], 'a'], [[['a', 'a'], ['a', 'b']], 'b']]], ['a', [['b', [['b', 'b'], ['a', [[rules_dict[48]], [rules_dict[41]]]]]], ['a', [['a', 'a'], ['b', 'b']]]]]], 'b'], [[[[[[['b', 'b'], [[[rules_dict[48]], [rules_dict[41]]], 'a']], 'b'], [['a', 'a'], 'a']], 'b'], [[[['b', 'a'], 'a'], [[['b', 'b'], [[[rules_dict[48]], [rules_dict[41]]], 'a']], 'b']], 'a']], 'a']]]], 'b']]], ['b', [[[['b', [[[['a', [[[['b', 'a'], ['a', 'a']], 'a'], [[['b', 'a'], ['b', 'b']], 'b']]], ['b', [['b', ['b', 'a']], ['a', [['a', 'a'], ['a', 'b']]]]]], 'b'], [[['b', [[[['a', 'a'], ['a', 'b']], 'a'], [[['a', 'b'], ['b', 'a']], 'b']]], ['a', [['b', [['b', 'b'], [[[rules_dict[48]], [rules_dict[41]]], 'a']]], ['a', ['a', 'a']]]]], 'a']]], ['a', [[[[[['b', 'b'], 'b'], 'a'], [[[[['b', 'a'], [[[rules_dict[48]], [rules_dict[41]]], 'b']], 'a'], [['a', 'a'], 'b']], 'b']], 'b'], [[['b', [[['b'], ['a']], [['a', 'a'], ['a', 'b']]]], ['a', [['a', [['a', 'a'], ['b', 'b']]], ['b', [['b', 'b'], [[[rules_dict[48]], [rules_dict[41]]], 'a']]]]]], 'a']]]], 'a'], [[['a', [[[['b', ['a', [['b', 'a'], ['a', 'a']]]], ['a', [['a', 'a'], 'b']]], 'b'], [[['a', [[[[[rules_dict[48]], [rules_dict[41]]], [[rules_dict[48]], [rules_dict[41]]]], 'b'], [['b', 'b'], 'a']]], ['b', [[[[rules_dict[48]], [rules_dict[41]]], [[rules_dict[48]], [rules_dict[41]]]], [['b'], ['a']]]]], 'a']]], ['b', [['a', [[[[[['a', 'a'], ['a', 'b']], 'a'], [[['a', [[rules_dict[48]], [rules_dict[41]]]], ['b', 'a']], 'b']], 'b'], [[[[['b', 'a'], [[[rules_dict[48]], [rules_dict[41]]], 'b']], 'a'], [['a', 'a'], 'b']], 'a']]], ['b', [['b', [[[['b', 'b'], [[[rules_dict[48]], [rules_dict[41]]], 'a']], 'a'], [['a', 'a'], 'b']]], ['a', [[['b', 'a'], 'a'], [[['b', 'b'], [[[rules_dict[48]], [rules_dict[41]]], 'a']], 'b']]]]]]]], 'b']]]]], [[['a', [[[['b', [[[[[['b', [['b', 'a'], ['a', 'a']]], ['a', ['b', 'a']]], 'b'], [[[[['b', 'a'], ['a', 'a']], 'a'], [[['b', 'a'], ['b', 'b']], 'b']], 'a']], 'b'], [[['a', [['b', ['b', 'a']], ['a', [['a', [[rules_dict[48]], [rules_dict[41]]]], ['b', 'a']]]]], ['b', [[[['a', 'a'], ['b', 'b']], 'b'], [[[[rules_dict[48]], [rules_dict[41]]], [[rules_dict[48]], [rules_dict[41]]]], 'a']]]], 'a']]], ['a', [['a', [[[[['b'], ['a']], [['a', 'a'], ['b', 'b']]], 'a'], [[['b', 'a'], 'a'], 'b']]], ['b', [[[[['b'], ['a']], [['a', 'a'], ['a', 'b']]], 'b'], [[[[[[rules_dict[48]], [rules_dict[41]]], [[rules_dict[48]], [rules_dict[41]]]], 'b'], [[['a', 'a'], ['a', 'b']], 'a']], 'a']]]]]], 'a'], [[['b', [['b', [[[[[['b', 'b'], [[[rules_dict[48]], [rules_dict[41]]], 'a']], 'a'], [['a', 'a'], 'b']], 'a'], [[[[['b', 'a'], ['b', 'b']], 'b'], [[['a', [[rules_dict[48]], [rules_dict[41]]]], ['b', 'a']], 'a']], 'b']]], ['a', [[[['a', ['b', 'a']], ['b', [['b', 'a'], ['b', 'b']]]], 'b'], [[['b', [[[rules_dict[48]], [rules_dict[41]]], [[rules_dict[48]], [rules_dict[41]]]]], ['a', [['b', 'a'], ['b', 'b']]]], 'a']]]]], ['a', [[[['b', [[['b', 'a'], 'a'], [[['a', 'a'], ['a', 'b']], 'b']]], ['a', [['b', [['b', 'b'], ['a', [[rules_dict[48]], [rules_dict[41]]]]]], ['a', [['a', 'a'], ['b', 'b']]]]]], 'b'], [[[[[[['b', 'b'], [[[rules_dict[48]], [rules_dict[41]]], 'a']], 'b'], [['a', 'a'], 'a']], 'b'], [[[['b', 'a'], 'a'], [[['b', 'b'], [[[rules_dict[48]], [rules_dict[41]]], 'a']], 'b']], 'a']], 'a']]]], 'b']]], ['b', [[[['b', [[[['a', [[[['b', 'a'], ['a', 'a']], 'a'], [[['b', 'a'], ['b', 'b']], 'b']]], ['b', [['b', ['b', 'a']], ['a', [['a', 'a'], ['a', 'b']]]]]], 'b'], [[['b', [[[['a', 'a'], ['a', 'b']], 'a'], [[['a', 'b'], ['b', 'a']], 'b']]], ['a', [['b', [['b', 'b'], [[[rules_dict[48]], [rules_dict[41]]], 'a']]], ['a', ['a', 'a']]]]], 'a']]], ['a', [[[[[['b', 'b'], 'b'], 'a'], [[[[['b', 'a'], [[[rules_dict[48]], [rules_dict[41]]], 'b']], 'a'], [['a', 'a'], 'b']], 'b']], 'b'], [[['b', [[['b'], ['a']], [['a', 'a'], ['a', 'b']]]], ['a', [['a', [['a', 'a'], ['b', 'b']]], ['b', [['b', 'b'], [[[rules_dict[48]], [rules_dict[41]]], 'a']]]]]], 'a']]]], 'a'], [[['a', [[[['b', ['a', [['b', 'a'], ['a', 'a']]]], ['a', [['a', 'a'], 'b']]], 'b'], [[['a', [[[[[rules_dict[48]], [rules_dict[41]]], [[rules_dict[48]], [rules_dict[41]]]], 'b'], [['b', 'b'], 'a']]], ['b', [[[[rules_dict[48]], [rules_dict[41]]], [[rules_dict[48]], [rules_dict[41]]]], [['b'], ['a']]]]], 'a']]], ['b', [['a', [[[[[['a', 'a'], ['a', 'b']], 'a'], [[['a', [[rules_dict[48]], [rules_dict[41]]]], ['b', 'a']], 'b']], 'b'], [[[[['b', 'a'], [[[rules_dict[48]], [rules_dict[41]]], 'b']], 'a'], [['a', 'a'], 'b']], 'a']]], ['b', [['b', [[[['b', 'b'], [[[rules_dict[48]], [rules_dict[41]]], 'a']], 'a'], [['a', 'a'], 'b']]], ['a', [[['b', 'a'], 'a'], [[['b', 'b'], [[[rules_dict[48]], [rules_dict[41]]], 'a']], 'b']]]]]]]], 'b']]]], [['b', [['b', [['a', [[[['a', [['a', ['a', 'a']], ['b', ['b', 'a']]]], ['b', [['b', [['b', 'a'], [[[rules_dict[48]], [rules_dict[41]]], 'b']]], ['a', [['a', 'b'], ['b', 'a']]]]]], 'b'], [[['a', [['b', [[[rules_dict[48]], [rules_dict[41]]], [[rules_dict[48]], [rules_dict[41]]]]], ['a', [['b', 'a'], ['b', 'b']]]]], ['b', [[['b', 'a'], 'b'], [['a', 'b'], 'a']]]], 'a']]], ['b', [['a', [['a', [[['b', 'a'], 'a'], [[['b', 'b'], [[[rules_dict[48]], [rules_dict[41]]], 'a']], 'b']]], ['b', [['a', ['b', 'a']], ['b', [['a', 'b'], ['b', 'a']]]]]]], ['b', [[[[[['b', 'a'], [[[rules_dict[48]], [rules_dict[41]]], 'b']], 'b'], [['a', 'b'], 'a']], 'b'], [[['a', [['b', 'b'], ['a', [[rules_dict[48]], [rules_dict[41]]]]]], ['b', [['b', 'b'], [[[rules_dict[48]], [rules_dict[41]]], 'a']]]], 'a']]]]]]], ['a', [[[[[['a', [[[['a', 'a'], ['b', 'b']], 'b'], [[[[rules_dict[48]], [rules_dict[41]]], [[rules_dict[48]], [rules_dict[41]]]], 'a']]], ['b', [['b', [['a', 'a'], ['b', 'b']]], ['a', [['b', 'b'], [[[rules_dict[48]], [rules_dict[41]]], 'a']]]]]], 'b'], [[['b', [[['b'], ['a']], [['b', 'a'], ['b', 'b']]]], ['a', [[[['b', 'a'], ['a', 'a']], 'b'], [['a', 'b'], 'a']]]], 'a']], 'a'], [[[[[[['a', 'a'], 'b'], [[['a', 'a'], ['a', 'b']], 'a']], 'a'], 'a'], [[['a', [[[['b', 'a'], [[[rules_dict[48]], [rules_dict[41]]], 'b']], 'b'], [[[[rules_dict[48]], [rules_dict[41]]], [[rules_dict[48]], [rules_dict[41]]]], 'a']]], ['b', [[[['b', 'a'], ['b', 'b']], 'a'], [[[[rules_dict[48]], [rules_dict[41]]], [[rules_dict[48]], [rules_dict[41]]]], 'b']]]], 'b']], 'b']]]]], ['a', [['a', [['a', [[[[[[[['b', 'b'], [[[rules_dict[48]], [rules_dict[41]]], 'a']], 'a'], [[['b', 'a'], ['b', 'b']], 'b']], 'a'], [[['a', [['a', 'b'], ['b', 'a']]], ['b', ['b', 'a']]], 'b']], 'b'], [[[[[[[[rules_dict[48]], [rules_dict[41]]], [[rules_dict[48]], [rules_dict[41]]]], 'b'], [[['b', 'b'], ['a', [[rules_dict[48]], [rules_dict[41]]]]], 'a']], 'b'], [[[['b'], ['a']], [['a', 'b'], ['b', 'a']]], 'a']], 'a']]], ['b', [['b', [[[[[['a', 'a'], ['a', 'b']], 'a'], [[['b', 'a'], [[[rules_dict[48]], [rules_dict[41]]], 'b']], 'b']], 'b'], [[[[['b', 'a'], ['a', 'a']], 'a'], [[['b', 'a'], ['b', 'b']], 'b']], 'a']]], ['a', [[[[[['b', 'a'], ['a', 'a']], 'b'], [['a', 'b'], 'a']], 'b'], [[[['b', 'a'], ['b', 'b']], 'b'], 'a']]]]]]], ['b', [[[[[['b', [[[['b', 'a'], [[[rules_dict[48]], [rules_dict[41]]], 'b']], 'b'], [['a', 'b'], 'a']]], ['a', [[['a', 'a'], 'a'], [['a', 'a'], 'b']]]], 'a'], [[[[[[['a', 'a'], ['a', 'b']], 'a'], [['b', 'b'], 'b']], 'a'], [[['b', [['a', 'a'], ['a', 'b']]], ['a', [['a', [[rules_dict[48]], [rules_dict[41]]]], ['b', 'a']]]], 'b']], 'b']], 'b'], [[[[['a', [['b', [['b', 'b'], [[[rules_dict[48]], [rules_dict[41]]], 'a']]], ['a', [['b', 'a'], [[[rules_dict[48]], [rules_dict[41]]], 'b']]]]], ['b', [['b', [['a', 'a'], ['b', 'b']]], ['a', ['b', 'b']]]]], 'b'], [[['b', [['a', ['b', 'b']], ['b', ['a', 'b']]]], ['a', [['b', [['b', 'b'], ['a', [[rules_dict[48]], [rules_dict[41]]]]]], ['a', ['b', 'b']]]]], 'a']], 'a']]]]]]]]\n",
    "next_level(str(rules_dict[0]))"
   ]
  },
  {
   "cell_type": "code",
   "execution_count": 135,
   "metadata": {},
   "outputs": [],
   "source": [
    "rules_dict[0] = [[[['a', [[[['b', [[[[[['b', [['b', 'a'], ['a', 'a']]], ['a', ['b', 'a']]], 'b'], [[[[['b', 'a'], ['a', 'a']], 'a'], [[['b', 'a'], ['b', 'b']], 'b']], 'a']], 'b'], [[['a', [['b', ['b', 'a']], ['a', [['a', [['b'], ['a']]], ['b', 'a']]]]], ['b', [[[['a', 'a'], ['b', 'b']], 'b'], [[[['b'], ['a']], [['b'], ['a']]], 'a']]]], 'a']]], ['a', [['a', [[[[['b'], ['a']], [['a', 'a'], ['b', 'b']]], 'a'], [[['b', 'a'], 'a'], 'b']]], ['b', [[[[['b'], ['a']], [['a', 'a'], ['a', 'b']]], 'b'], [[[[[['b'], ['a']], [['b'], ['a']]], 'b'], [[['a', 'a'], ['a', 'b']], 'a']], 'a']]]]]], 'a'], [[['b', [['b', [[[[[['b', 'b'], [[['b'], ['a']], 'a']], 'a'], [['a', 'a'], 'b']], 'a'], [[[[['b', 'a'], ['b', 'b']], 'b'], [[['a', [['b'], ['a']]], ['b', 'a']], 'a']], 'b']]], ['a', [[[['a', ['b', 'a']], ['b', [['b', 'a'], ['b', 'b']]]], 'b'], [[['b', [[['b'], ['a']], [['b'], ['a']]]], ['a', [['b', 'a'], ['b', 'b']]]], 'a']]]]], ['a', [[[['b', [[['b', 'a'], 'a'], [[['a', 'a'], ['a', 'b']], 'b']]], ['a', [['b', [['b', 'b'], ['a', [['b'], ['a']]]]], ['a', [['a', 'a'], ['b', 'b']]]]]], 'b'], [[[[[[['b', 'b'], [[['b'], ['a']], 'a']], 'b'], [['a', 'a'], 'a']], 'b'], [[[['b', 'a'], 'a'], [[['b', 'b'], [[['b'], ['a']], 'a']], 'b']], 'a']], 'a']]]], 'b']]], ['b', [[[['b', [[[['a', [[[['b', 'a'], ['a', 'a']], 'a'], [[['b', 'a'], ['b', 'b']], 'b']]], ['b', [['b', ['b', 'a']], ['a', [['a', 'a'], ['a', 'b']]]]]], 'b'], [[['b', [[[['a', 'a'], ['a', 'b']], 'a'], [[['a', 'b'], ['b', 'a']], 'b']]], ['a', [['b', [['b', 'b'], [[['b'], ['a']], 'a']]], ['a', ['a', 'a']]]]], 'a']]], ['a', [[[[[['b', 'b'], 'b'], 'a'], [[[[['b', 'a'], [[['b'], ['a']], 'b']], 'a'], [['a', 'a'], 'b']], 'b']], 'b'], [[['b', [[['b'], ['a']], [['a', 'a'], ['a', 'b']]]], ['a', [['a', [['a', 'a'], ['b', 'b']]], ['b', [['b', 'b'], [[['b'], ['a']], 'a']]]]]], 'a']]]], 'a'], [[['a', [[[['b', ['a', [['b', 'a'], ['a', 'a']]]], ['a', [['a', 'a'], 'b']]], 'b'], [[['a', [[[[['b'], ['a']], [['b'], ['a']]], 'b'], [['b', 'b'], 'a']]], ['b', [[[['b'], ['a']], [['b'], ['a']]], [['b'], ['a']]]]], 'a']]], ['b', [['a', [[[[[['a', 'a'], ['a', 'b']], 'a'], [[['a', [['b'], ['a']]], ['b', 'a']], 'b']], 'b'], [[[[['b', 'a'], [[['b'], ['a']], 'b']], 'a'], [['a', 'a'], 'b']], 'a']]], ['b', [['b', [[[['b', 'b'], [[['b'], ['a']], 'a']], 'a'], [['a', 'a'], 'b']]], ['a', [[['b', 'a'], 'a'], [[['b', 'b'], [[['b'], ['a']], 'a']], 'b']]]]]]]], 'b']]]]], [[['a', [[[['b', [[[[[['b', [['b', 'a'], ['a', 'a']]], ['a', ['b', 'a']]], 'b'], [[[[['b', 'a'], ['a', 'a']], 'a'], [[['b', 'a'], ['b', 'b']], 'b']], 'a']], 'b'], [[['a', [['b', ['b', 'a']], ['a', [['a', [['b'], ['a']]], ['b', 'a']]]]], ['b', [[[['a', 'a'], ['b', 'b']], 'b'], [[[['b'], ['a']], [['b'], ['a']]], 'a']]]], 'a']]], ['a', [['a', [[[[['b'], ['a']], [['a', 'a'], ['b', 'b']]], 'a'], [[['b', 'a'], 'a'], 'b']]], ['b', [[[[['b'], ['a']], [['a', 'a'], ['a', 'b']]], 'b'], [[[[[['b'], ['a']], [['b'], ['a']]], 'b'], [[['a', 'a'], ['a', 'b']], 'a']], 'a']]]]]], 'a'], [[['b', [['b', [[[[[['b', 'b'], [[['b'], ['a']], 'a']], 'a'], [['a', 'a'], 'b']], 'a'], [[[[['b', 'a'], ['b', 'b']], 'b'], [[['a', [['b'], ['a']]], ['b', 'a']], 'a']], 'b']]], ['a', [[[['a', ['b', 'a']], ['b', [['b', 'a'], ['b', 'b']]]], 'b'], [[['b', [[['b'], ['a']], [['b'], ['a']]]], ['a', [['b', 'a'], ['b', 'b']]]], 'a']]]]], ['a', [[[['b', [[['b', 'a'], 'a'], [[['a', 'a'], ['a', 'b']], 'b']]], ['a', [['b', [['b', 'b'], ['a', [['b'], ['a']]]]], ['a', [['a', 'a'], ['b', 'b']]]]]], 'b'], [[[[[[['b', 'b'], [[['b'], ['a']], 'a']], 'b'], [['a', 'a'], 'a']], 'b'], [[[['b', 'a'], 'a'], [[['b', 'b'], [[['b'], ['a']], 'a']], 'b']], 'a']], 'a']]]], 'b']]], ['b', [[[['b', [[[['a', [[[['b', 'a'], ['a', 'a']], 'a'], [[['b', 'a'], ['b', 'b']], 'b']]], ['b', [['b', ['b', 'a']], ['a', [['a', 'a'], ['a', 'b']]]]]], 'b'], [[['b', [[[['a', 'a'], ['a', 'b']], 'a'], [[['a', 'b'], ['b', 'a']], 'b']]], ['a', [['b', [['b', 'b'], [[['b'], ['a']], 'a']]], ['a', ['a', 'a']]]]], 'a']]], ['a', [[[[[['b', 'b'], 'b'], 'a'], [[[[['b', 'a'], [[['b'], ['a']], 'b']], 'a'], [['a', 'a'], 'b']], 'b']], 'b'], [[['b', [[['b'], ['a']], [['a', 'a'], ['a', 'b']]]], ['a', [['a', [['a', 'a'], ['b', 'b']]], ['b', [['b', 'b'], [[['b'], ['a']], 'a']]]]]], 'a']]]], 'a'], [[['a', [[[['b', ['a', [['b', 'a'], ['a', 'a']]]], ['a', [['a', 'a'], 'b']]], 'b'], [[['a', [[[[['b'], ['a']], [['b'], ['a']]], 'b'], [['b', 'b'], 'a']]], ['b', [[[['b'], ['a']], [['b'], ['a']]], [['b'], ['a']]]]], 'a']]], ['b', [['a', [[[[[['a', 'a'], ['a', 'b']], 'a'], [[['a', [['b'], ['a']]], ['b', 'a']], 'b']], 'b'], [[[[['b', 'a'], [[['b'], ['a']], 'b']], 'a'], [['a', 'a'], 'b']], 'a']]], ['b', [['b', [[[['b', 'b'], [[['b'], ['a']], 'a']], 'a'], [['a', 'a'], 'b']]], ['a', [[['b', 'a'], 'a'], [[['b', 'b'], [[['b'], ['a']], 'a']], 'b']]]]]]]], 'b']]]], [['b', [['b', [['a', [[[['a', [['a', ['a', 'a']], ['b', ['b', 'a']]]], ['b', [['b', [['b', 'a'], [[['b'], ['a']], 'b']]], ['a', [['a', 'b'], ['b', 'a']]]]]], 'b'], [[['a', [['b', [[['b'], ['a']], [['b'], ['a']]]], ['a', [['b', 'a'], ['b', 'b']]]]], ['b', [[['b', 'a'], 'b'], [['a', 'b'], 'a']]]], 'a']]], ['b', [['a', [['a', [[['b', 'a'], 'a'], [[['b', 'b'], [[['b'], ['a']], 'a']], 'b']]], ['b', [['a', ['b', 'a']], ['b', [['a', 'b'], ['b', 'a']]]]]]], ['b', [[[[[['b', 'a'], [[['b'], ['a']], 'b']], 'b'], [['a', 'b'], 'a']], 'b'], [[['a', [['b', 'b'], ['a', [['b'], ['a']]]]], ['b', [['b', 'b'], [[['b'], ['a']], 'a']]]], 'a']]]]]]], ['a', [[[[[['a', [[[['a', 'a'], ['b', 'b']], 'b'], [[[['b'], ['a']], [['b'], ['a']]], 'a']]], ['b', [['b', [['a', 'a'], ['b', 'b']]], ['a', [['b', 'b'], [[['b'], ['a']], 'a']]]]]], 'b'], [[['b', [[['b'], ['a']], [['b', 'a'], ['b', 'b']]]], ['a', [[[['b', 'a'], ['a', 'a']], 'b'], [['a', 'b'], 'a']]]], 'a']], 'a'], [[[[[[['a', 'a'], 'b'], [[['a', 'a'], ['a', 'b']], 'a']], 'a'], 'a'], [[['a', [[[['b', 'a'], [[['b'], ['a']], 'b']], 'b'], [[[['b'], ['a']], [['b'], ['a']]], 'a']]], ['b', [[[['b', 'a'], ['b', 'b']], 'a'], [[[['b'], ['a']], [['b'], ['a']]], 'b']]]], 'b']], 'b']]]]], ['a', [['a', [['a', [[[[[[[['b', 'b'], [[['b'], ['a']], 'a']], 'a'], [[['b', 'a'], ['b', 'b']], 'b']], 'a'], [[['a', [['a', 'b'], ['b', 'a']]], ['b', ['b', 'a']]], 'b']], 'b'], [[[[[[[['b'], ['a']], [['b'], ['a']]], 'b'], [[['b', 'b'], ['a', [['b'], ['a']]]], 'a']], 'b'], [[[['b'], ['a']], [['a', 'b'], ['b', 'a']]], 'a']], 'a']]], ['b', [['b', [[[[[['a', 'a'], ['a', 'b']], 'a'], [[['b', 'a'], [[['b'], ['a']], 'b']], 'b']], 'b'], [[[[['b', 'a'], ['a', 'a']], 'a'], [[['b', 'a'], ['b', 'b']], 'b']], 'a']]], ['a', [[[[[['b', 'a'], ['a', 'a']], 'b'], [['a', 'b'], 'a']], 'b'], [[[['b', 'a'], ['b', 'b']], 'b'], 'a']]]]]]], ['b', [[[[[['b', [[[['b', 'a'], [[['b'], ['a']], 'b']], 'b'], [['a', 'b'], 'a']]], ['a', [[['a', 'a'], 'a'], [['a', 'a'], 'b']]]], 'a'], [[[[[[['a', 'a'], ['a', 'b']], 'a'], [['b', 'b'], 'b']], 'a'], [[['b', [['a', 'a'], ['a', 'b']]], ['a', [['a', [['b'], ['a']]], ['b', 'a']]]], 'b']], 'b']], 'b'], [[[[['a', [['b', [['b', 'b'], [[['b'], ['a']], 'a']]], ['a', [['b', 'a'], [[['b'], ['a']], 'b']]]]], ['b', [['b', [['a', 'a'], ['b', 'b']]], ['a', ['b', 'b']]]]], 'b'], [[['b', [['a', ['b', 'b']], ['b', ['a', 'b']]]], ['a', [['b', [['b', 'b'], ['a', [['b'], ['a']]]]], ['a', ['b', 'b']]]]], 'a']], 'a']]]]]]]]"
   ]
  },
  {
   "cell_type": "code",
   "execution_count": 140,
   "metadata": {},
   "outputs": [
    {
     "data": {
      "text/plain": [
       "[[[['a',\n",
       "    [[[['b',\n",
       "        [[[[[['b', [['b', 'a'], ['a', 'a']]], ['a', ['b', 'a']]], 'b'],\n",
       "           [[[[['b', 'a'], ['a', 'a']], 'a'], [[['b', 'a'], ['b', 'b']], 'b']],\n",
       "            'a']],\n",
       "          'b'],\n",
       "         [[['a',\n",
       "            [['b', ['b', 'a']], ['a', [['a', [['b'], ['a']]], ['b', 'a']]]]],\n",
       "           ['b',\n",
       "            [[[['a', 'a'], ['b', 'b']], 'b'],\n",
       "             [[[['b'], ['a']], [['b'], ['a']]], 'a']]]],\n",
       "          'a']]],\n",
       "       ['a',\n",
       "        [['a',\n",
       "          [[[[['b'], ['a']], [['a', 'a'], ['b', 'b']]], 'a'],\n",
       "           [[['b', 'a'], 'a'], 'b']]],\n",
       "         ['b',\n",
       "          [[[[['b'], ['a']], [['a', 'a'], ['a', 'b']]], 'b'],\n",
       "           [[[[[['b'], ['a']], [['b'], ['a']]], 'b'],\n",
       "             [[['a', 'a'], ['a', 'b']], 'a']],\n",
       "            'a']]]]]],\n",
       "      'a'],\n",
       "     [[['b',\n",
       "        [['b',\n",
       "          [[[[[['b', 'b'], [[['b'], ['a']], 'a']], 'a'], [['a', 'a'], 'b']],\n",
       "            'a'],\n",
       "           [[[[['b', 'a'], ['b', 'b']], 'b'],\n",
       "             [[['a', [['b'], ['a']]], ['b', 'a']], 'a']],\n",
       "            'b']]],\n",
       "         ['a',\n",
       "          [[[['a', ['b', 'a']], ['b', [['b', 'a'], ['b', 'b']]]], 'b'],\n",
       "           [[['b', [[['b'], ['a']], [['b'], ['a']]]],\n",
       "             ['a', [['b', 'a'], ['b', 'b']]]],\n",
       "            'a']]]]],\n",
       "       ['a',\n",
       "        [[[['b', [[['b', 'a'], 'a'], [[['a', 'a'], ['a', 'b']], 'b']]],\n",
       "           ['a',\n",
       "            [['b', [['b', 'b'], ['a', [['b'], ['a']]]]],\n",
       "             ['a', [['a', 'a'], ['b', 'b']]]]]],\n",
       "          'b'],\n",
       "         [[[[[[['b', 'b'], [[['b'], ['a']], 'a']], 'b'], [['a', 'a'], 'a']],\n",
       "            'b'],\n",
       "           [[[['b', 'a'], 'a'], [[['b', 'b'], [[['b'], ['a']], 'a']], 'b']],\n",
       "            'a']],\n",
       "          'a']]]],\n",
       "      'b']]],\n",
       "   ['b',\n",
       "    [[[['b',\n",
       "        [[[['a',\n",
       "            [[[['b', 'a'], ['a', 'a']], 'a'],\n",
       "             [[['b', 'a'], ['b', 'b']], 'b']]],\n",
       "           ['b', [['b', ['b', 'a']], ['a', [['a', 'a'], ['a', 'b']]]]]],\n",
       "          'b'],\n",
       "         [[['b',\n",
       "            [[[['a', 'a'], ['a', 'b']], 'a'],\n",
       "             [[['a', 'b'], ['b', 'a']], 'b']]],\n",
       "           ['a',\n",
       "            [['b', [['b', 'b'], [[['b'], ['a']], 'a']]], ['a', ['a', 'a']]]]],\n",
       "          'a']]],\n",
       "       ['a',\n",
       "        [[[[[['b', 'b'], 'b'], 'a'],\n",
       "           [[[[['b', 'a'], [[['b'], ['a']], 'b']], 'a'], [['a', 'a'], 'b']],\n",
       "            'b']],\n",
       "          'b'],\n",
       "         [[['b', [[['b'], ['a']], [['a', 'a'], ['a', 'b']]]],\n",
       "           ['a',\n",
       "            [['a', [['a', 'a'], ['b', 'b']]],\n",
       "             ['b', [['b', 'b'], [[['b'], ['a']], 'a']]]]]],\n",
       "          'a']]]],\n",
       "      'a'],\n",
       "     [[['a',\n",
       "        [[[['b', ['a', [['b', 'a'], ['a', 'a']]]], ['a', [['a', 'a'], 'b']]],\n",
       "          'b'],\n",
       "         [[['a', [[[[['b'], ['a']], [['b'], ['a']]], 'b'], [['b', 'b'], 'a']]],\n",
       "           ['b', [[[['b'], ['a']], [['b'], ['a']]], [['b'], ['a']]]]],\n",
       "          'a']]],\n",
       "       ['b',\n",
       "        [['a',\n",
       "          [[[[[['a', 'a'], ['a', 'b']], 'a'],\n",
       "             [[['a', [['b'], ['a']]], ['b', 'a']], 'b']],\n",
       "            'b'],\n",
       "           [[[[['b', 'a'], [[['b'], ['a']], 'b']], 'a'], [['a', 'a'], 'b']],\n",
       "            'a']]],\n",
       "         ['b',\n",
       "          [['b',\n",
       "            [[[['b', 'b'], [[['b'], ['a']], 'a']], 'a'], [['a', 'a'], 'b']]],\n",
       "           ['a',\n",
       "            [[['b', 'a'], 'a'],\n",
       "             [[['b', 'b'], [[['b'], ['a']], 'a']], 'b']]]]]]]],\n",
       "      'b']]]]],\n",
       " [[['a',\n",
       "    [[[['b',\n",
       "        [[[[[['b', [['b', 'a'], ['a', 'a']]], ['a', ['b', 'a']]], 'b'],\n",
       "           [[[[['b', 'a'], ['a', 'a']], 'a'], [[['b', 'a'], ['b', 'b']], 'b']],\n",
       "            'a']],\n",
       "          'b'],\n",
       "         [[['a',\n",
       "            [['b', ['b', 'a']], ['a', [['a', [['b'], ['a']]], ['b', 'a']]]]],\n",
       "           ['b',\n",
       "            [[[['a', 'a'], ['b', 'b']], 'b'],\n",
       "             [[[['b'], ['a']], [['b'], ['a']]], 'a']]]],\n",
       "          'a']]],\n",
       "       ['a',\n",
       "        [['a',\n",
       "          [[[[['b'], ['a']], [['a', 'a'], ['b', 'b']]], 'a'],\n",
       "           [[['b', 'a'], 'a'], 'b']]],\n",
       "         ['b',\n",
       "          [[[[['b'], ['a']], [['a', 'a'], ['a', 'b']]], 'b'],\n",
       "           [[[[[['b'], ['a']], [['b'], ['a']]], 'b'],\n",
       "             [[['a', 'a'], ['a', 'b']], 'a']],\n",
       "            'a']]]]]],\n",
       "      'a'],\n",
       "     [[['b',\n",
       "        [['b',\n",
       "          [[[[[['b', 'b'], [[['b'], ['a']], 'a']], 'a'], [['a', 'a'], 'b']],\n",
       "            'a'],\n",
       "           [[[[['b', 'a'], ['b', 'b']], 'b'],\n",
       "             [[['a', [['b'], ['a']]], ['b', 'a']], 'a']],\n",
       "            'b']]],\n",
       "         ['a',\n",
       "          [[[['a', ['b', 'a']], ['b', [['b', 'a'], ['b', 'b']]]], 'b'],\n",
       "           [[['b', [[['b'], ['a']], [['b'], ['a']]]],\n",
       "             ['a', [['b', 'a'], ['b', 'b']]]],\n",
       "            'a']]]]],\n",
       "       ['a',\n",
       "        [[[['b', [[['b', 'a'], 'a'], [[['a', 'a'], ['a', 'b']], 'b']]],\n",
       "           ['a',\n",
       "            [['b', [['b', 'b'], ['a', [['b'], ['a']]]]],\n",
       "             ['a', [['a', 'a'], ['b', 'b']]]]]],\n",
       "          'b'],\n",
       "         [[[[[[['b', 'b'], [[['b'], ['a']], 'a']], 'b'], [['a', 'a'], 'a']],\n",
       "            'b'],\n",
       "           [[[['b', 'a'], 'a'], [[['b', 'b'], [[['b'], ['a']], 'a']], 'b']],\n",
       "            'a']],\n",
       "          'a']]]],\n",
       "      'b']]],\n",
       "   ['b',\n",
       "    [[[['b',\n",
       "        [[[['a',\n",
       "            [[[['b', 'a'], ['a', 'a']], 'a'],\n",
       "             [[['b', 'a'], ['b', 'b']], 'b']]],\n",
       "           ['b', [['b', ['b', 'a']], ['a', [['a', 'a'], ['a', 'b']]]]]],\n",
       "          'b'],\n",
       "         [[['b',\n",
       "            [[[['a', 'a'], ['a', 'b']], 'a'],\n",
       "             [[['a', 'b'], ['b', 'a']], 'b']]],\n",
       "           ['a',\n",
       "            [['b', [['b', 'b'], [[['b'], ['a']], 'a']]], ['a', ['a', 'a']]]]],\n",
       "          'a']]],\n",
       "       ['a',\n",
       "        [[[[[['b', 'b'], 'b'], 'a'],\n",
       "           [[[[['b', 'a'], [[['b'], ['a']], 'b']], 'a'], [['a', 'a'], 'b']],\n",
       "            'b']],\n",
       "          'b'],\n",
       "         [[['b', [[['b'], ['a']], [['a', 'a'], ['a', 'b']]]],\n",
       "           ['a',\n",
       "            [['a', [['a', 'a'], ['b', 'b']]],\n",
       "             ['b', [['b', 'b'], [[['b'], ['a']], 'a']]]]]],\n",
       "          'a']]]],\n",
       "      'a'],\n",
       "     [[['a',\n",
       "        [[[['b', ['a', [['b', 'a'], ['a', 'a']]]], ['a', [['a', 'a'], 'b']]],\n",
       "          'b'],\n",
       "         [[['a', [[[[['b'], ['a']], [['b'], ['a']]], 'b'], [['b', 'b'], 'a']]],\n",
       "           ['b', [[[['b'], ['a']], [['b'], ['a']]], [['b'], ['a']]]]],\n",
       "          'a']]],\n",
       "       ['b',\n",
       "        [['a',\n",
       "          [[[[[['a', 'a'], ['a', 'b']], 'a'],\n",
       "             [[['a', [['b'], ['a']]], ['b', 'a']], 'b']],\n",
       "            'b'],\n",
       "           [[[[['b', 'a'], [[['b'], ['a']], 'b']], 'a'], [['a', 'a'], 'b']],\n",
       "            'a']]],\n",
       "         ['b',\n",
       "          [['b',\n",
       "            [[[['b', 'b'], [[['b'], ['a']], 'a']], 'a'], [['a', 'a'], 'b']]],\n",
       "           ['a',\n",
       "            [[['b', 'a'], 'a'],\n",
       "             [[['b', 'b'], [[['b'], ['a']], 'a']], 'b']]]]]]]],\n",
       "      'b']]]],\n",
       "  [['b',\n",
       "    [['b',\n",
       "      [['a',\n",
       "        [[[['a', [['a', ['a', 'a']], ['b', ['b', 'a']]]],\n",
       "           ['b',\n",
       "            [['b', [['b', 'a'], [[['b'], ['a']], 'b']]],\n",
       "             ['a', [['a', 'b'], ['b', 'a']]]]]],\n",
       "          'b'],\n",
       "         [[['a',\n",
       "            [['b', [[['b'], ['a']], [['b'], ['a']]]],\n",
       "             ['a', [['b', 'a'], ['b', 'b']]]]],\n",
       "           ['b', [[['b', 'a'], 'b'], [['a', 'b'], 'a']]]],\n",
       "          'a']]],\n",
       "       ['b',\n",
       "        [['a',\n",
       "          [['a',\n",
       "            [[['b', 'a'], 'a'], [[['b', 'b'], [[['b'], ['a']], 'a']], 'b']]],\n",
       "           ['b', [['a', ['b', 'a']], ['b', [['a', 'b'], ['b', 'a']]]]]]],\n",
       "         ['b',\n",
       "          [[[[[['b', 'a'], [[['b'], ['a']], 'b']], 'b'], [['a', 'b'], 'a']],\n",
       "            'b'],\n",
       "           [[['a', [['b', 'b'], ['a', [['b'], ['a']]]]],\n",
       "             ['b', [['b', 'b'], [[['b'], ['a']], 'a']]]],\n",
       "            'a']]]]]]],\n",
       "     ['a',\n",
       "      [[[[[['a',\n",
       "            [[[['a', 'a'], ['b', 'b']], 'b'],\n",
       "             [[[['b'], ['a']], [['b'], ['a']]], 'a']]],\n",
       "           ['b',\n",
       "            [['b', [['a', 'a'], ['b', 'b']]],\n",
       "             ['a', [['b', 'b'], [[['b'], ['a']], 'a']]]]]],\n",
       "          'b'],\n",
       "         [[['b', [[['b'], ['a']], [['b', 'a'], ['b', 'b']]]],\n",
       "           ['a', [[[['b', 'a'], ['a', 'a']], 'b'], [['a', 'b'], 'a']]]],\n",
       "          'a']],\n",
       "        'a'],\n",
       "       [[[[[[['a', 'a'], 'b'], [[['a', 'a'], ['a', 'b']], 'a']], 'a'], 'a'],\n",
       "         [[['a',\n",
       "            [[[['b', 'a'], [[['b'], ['a']], 'b']], 'b'],\n",
       "             [[[['b'], ['a']], [['b'], ['a']]], 'a']]],\n",
       "           ['b',\n",
       "            [[[['b', 'a'], ['b', 'b']], 'a'],\n",
       "             [[[['b'], ['a']], [['b'], ['a']]], 'b']]]],\n",
       "          'b']],\n",
       "        'b']]]]],\n",
       "   ['a',\n",
       "    [['a',\n",
       "      [['a',\n",
       "        [[[[[[[['b', 'b'], [[['b'], ['a']], 'a']], 'a'],\n",
       "             [[['b', 'a'], ['b', 'b']], 'b']],\n",
       "            'a'],\n",
       "           [[['a', [['a', 'b'], ['b', 'a']]], ['b', ['b', 'a']]], 'b']],\n",
       "          'b'],\n",
       "         [[[[[[[['b'], ['a']], [['b'], ['a']]], 'b'],\n",
       "             [[['b', 'b'], ['a', [['b'], ['a']]]], 'a']],\n",
       "            'b'],\n",
       "           [[[['b'], ['a']], [['a', 'b'], ['b', 'a']]], 'a']],\n",
       "          'a']]],\n",
       "       ['b',\n",
       "        [['b',\n",
       "          [[[[[['a', 'a'], ['a', 'b']], 'a'],\n",
       "             [[['b', 'a'], [[['b'], ['a']], 'b']], 'b']],\n",
       "            'b'],\n",
       "           [[[[['b', 'a'], ['a', 'a']], 'a'], [[['b', 'a'], ['b', 'b']], 'b']],\n",
       "            'a']]],\n",
       "         ['a',\n",
       "          [[[[[['b', 'a'], ['a', 'a']], 'b'], [['a', 'b'], 'a']], 'b'],\n",
       "           [[[['b', 'a'], ['b', 'b']], 'b'], 'a']]]]]]],\n",
       "     ['b',\n",
       "      [[[[[['b',\n",
       "            [[[['b', 'a'], [[['b'], ['a']], 'b']], 'b'], [['a', 'b'], 'a']]],\n",
       "           ['a', [[['a', 'a'], 'a'], [['a', 'a'], 'b']]]],\n",
       "          'a'],\n",
       "         [[[[[[['a', 'a'], ['a', 'b']], 'a'], [['b', 'b'], 'b']], 'a'],\n",
       "           [[['b', [['a', 'a'], ['a', 'b']]],\n",
       "             ['a', [['a', [['b'], ['a']]], ['b', 'a']]]],\n",
       "            'b']],\n",
       "          'b']],\n",
       "        'b'],\n",
       "       [[[[['a',\n",
       "            [['b', [['b', 'b'], [[['b'], ['a']], 'a']]],\n",
       "             ['a', [['b', 'a'], [[['b'], ['a']], 'b']]]]],\n",
       "           ['b', [['b', [['a', 'a'], ['b', 'b']]], ['a', ['b', 'b']]]]],\n",
       "          'b'],\n",
       "         [[['b', [['a', ['b', 'b']], ['b', ['a', 'b']]]],\n",
       "           ['a',\n",
       "            [['b', [['b', 'b'], ['a', [['b'], ['a']]]]], ['a', ['b', 'b']]]]],\n",
       "          'a']],\n",
       "        'a']]]]]]]]"
      ]
     },
     "execution_count": 140,
     "metadata": {},
     "output_type": "execute_result"
    }
   ],
   "source": [
    "rules_dict[0]"
   ]
  },
  {
   "cell_type": "code",
   "execution_count": 145,
   "metadata": {},
   "outputs": [],
   "source": [
    "two_1 = rules_dict[0][0]\n",
    "two_2 = rules_dict[0][1]"
   ]
  },
  {
   "cell_type": "code",
   "execution_count": 146,
   "metadata": {},
   "outputs": [
    {
     "ename": "IndexError",
     "evalue": "list index out of range",
     "output_type": "error",
     "traceback": [
      "\u001b[1;31m---------------------------------------------------------------------------\u001b[0m",
      "\u001b[1;31mIndexError\u001b[0m                                Traceback (most recent call last)",
      "\u001b[1;32m<ipython-input-146-7c665306f753>\u001b[0m in \u001b[0;36m<module>\u001b[1;34m\u001b[0m\n\u001b[0;32m      1\u001b[0m \u001b[0mfour_1\u001b[0m \u001b[1;33m=\u001b[0m \u001b[0mtwo_1\u001b[0m\u001b[1;33m[\u001b[0m\u001b[1;36m0\u001b[0m\u001b[1;33m]\u001b[0m\u001b[1;33m\u001b[0m\u001b[1;33m\u001b[0m\u001b[0m\n\u001b[1;32m----> 2\u001b[1;33m \u001b[0mfour_2\u001b[0m \u001b[1;33m=\u001b[0m \u001b[0mtwo_1\u001b[0m\u001b[1;33m[\u001b[0m\u001b[1;36m1\u001b[0m\u001b[1;33m]\u001b[0m\u001b[1;33m\u001b[0m\u001b[1;33m\u001b[0m\u001b[0m\n\u001b[0m\u001b[0;32m      3\u001b[0m \u001b[0mfour_3\u001b[0m \u001b[1;33m=\u001b[0m \u001b[0mtwo_2\u001b[0m\u001b[1;33m[\u001b[0m\u001b[1;36m0\u001b[0m\u001b[1;33m]\u001b[0m\u001b[1;33m\u001b[0m\u001b[1;33m\u001b[0m\u001b[0m\n\u001b[0;32m      4\u001b[0m \u001b[0mfour_4\u001b[0m \u001b[1;33m=\u001b[0m \u001b[0mtwo_2\u001b[0m\u001b[1;33m[\u001b[0m\u001b[1;36m1\u001b[0m\u001b[1;33m]\u001b[0m\u001b[1;33m\u001b[0m\u001b[1;33m\u001b[0m\u001b[0m\n",
      "\u001b[1;31mIndexError\u001b[0m: list index out of range"
     ]
    }
   ],
   "source": [
    "four_1 = two_1[0]\n",
    "four_2 = two_1[1]\n",
    "four_3 = two_2[0]\n",
    "four_4 = two_2[1]"
   ]
  },
  {
   "cell_type": "code",
   "execution_count": null,
   "metadata": {},
   "outputs": [],
   "source": []
  }
 ],
 "metadata": {
  "kernelspec": {
   "display_name": "Python 3",
   "language": "python",
   "name": "python3"
  },
  "language_info": {
   "codemirror_mode": {
    "name": "ipython",
    "version": 3
   },
   "file_extension": ".py",
   "mimetype": "text/x-python",
   "name": "python",
   "nbconvert_exporter": "python",
   "pygments_lexer": "ipython3",
   "version": "3.7.4"
  }
 },
 "nbformat": 4,
 "nbformat_minor": 2
}
