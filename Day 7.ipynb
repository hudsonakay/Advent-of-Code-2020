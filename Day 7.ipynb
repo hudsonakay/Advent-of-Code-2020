{
 "cells": [
  {
   "cell_type": "code",
   "execution_count": 107,
   "metadata": {},
   "outputs": [],
   "source": [
    "import pandas as pd\n",
    "import numpy as np"
   ]
  },
  {
   "cell_type": "code",
   "execution_count": 108,
   "metadata": {},
   "outputs": [],
   "source": [
    "data=pd.read_excel('input_7.xlsx')"
   ]
  },
  {
   "cell_type": "code",
   "execution_count": 109,
   "metadata": {},
   "outputs": [
    {
     "data": {
      "text/html": [
       "<div>\n",
       "<style scoped>\n",
       "    .dataframe tbody tr th:only-of-type {\n",
       "        vertical-align: middle;\n",
       "    }\n",
       "\n",
       "    .dataframe tbody tr th {\n",
       "        vertical-align: top;\n",
       "    }\n",
       "\n",
       "    .dataframe thead th {\n",
       "        text-align: right;\n",
       "    }\n",
       "</style>\n",
       "<table border=\"1\" class=\"dataframe\">\n",
       "  <thead>\n",
       "    <tr style=\"text-align: right;\">\n",
       "      <th></th>\n",
       "      <th>Column1</th>\n",
       "    </tr>\n",
       "  </thead>\n",
       "  <tbody>\n",
       "    <tr>\n",
       "      <td>0</td>\n",
       "      <td>muted tomato bags contain 1 bright brown bag, ...</td>\n",
       "    </tr>\n",
       "    <tr>\n",
       "      <td>1</td>\n",
       "      <td>posh brown bags contain 1 dark lime bag, 5 mir...</td>\n",
       "    </tr>\n",
       "    <tr>\n",
       "      <td>2</td>\n",
       "      <td>dotted violet bags contain 4 striped white bags.</td>\n",
       "    </tr>\n",
       "    <tr>\n",
       "      <td>3</td>\n",
       "      <td>mirrored black bags contain 1 clear yellow bag.</td>\n",
       "    </tr>\n",
       "    <tr>\n",
       "      <td>4</td>\n",
       "      <td>light aqua bags contain 3 clear silver bags, 2...</td>\n",
       "    </tr>\n",
       "  </tbody>\n",
       "</table>\n",
       "</div>"
      ],
      "text/plain": [
       "                                             Column1\n",
       "0  muted tomato bags contain 1 bright brown bag, ...\n",
       "1  posh brown bags contain 1 dark lime bag, 5 mir...\n",
       "2   dotted violet bags contain 4 striped white bags.\n",
       "3    mirrored black bags contain 1 clear yellow bag.\n",
       "4  light aqua bags contain 3 clear silver bags, 2..."
      ]
     },
     "execution_count": 109,
     "metadata": {},
     "output_type": "execute_result"
    }
   ],
   "source": [
    "data.head()"
   ]
  },
  {
   "cell_type": "code",
   "execution_count": 110,
   "metadata": {},
   "outputs": [
    {
     "data": {
      "text/plain": [
       "17"
      ]
     },
     "execution_count": 110,
     "metadata": {},
     "output_type": "execute_result"
    }
   ],
   "source": [
    "data['Column1'][0].index(' contain')"
   ]
  },
  {
   "cell_type": "code",
   "execution_count": 111,
   "metadata": {},
   "outputs": [
    {
     "data": {
      "text/plain": [
       "'muted tomato'"
      ]
     },
     "execution_count": 111,
     "metadata": {},
     "output_type": "execute_result"
    }
   ],
   "source": [
    "data['Column1'][0][:(17-5)]"
   ]
  },
  {
   "cell_type": "code",
   "execution_count": 112,
   "metadata": {},
   "outputs": [
    {
     "data": {
      "text/plain": [
       "'1 bright brown bag, 1 dotted gold bag, 2 faded gray bags, 1 posh yellow bag.'"
      ]
     },
     "execution_count": 112,
     "metadata": {},
     "output_type": "execute_result"
    }
   ],
   "source": [
    "data['Column1'][0][(17+9):]"
   ]
  },
  {
   "cell_type": "code",
   "execution_count": 113,
   "metadata": {},
   "outputs": [
    {
     "data": {
      "text/plain": [
       "['1 bright brown bag',\n",
       " '1 dotted gold bag',\n",
       " '2 faded gray bags',\n",
       " '1 posh yellow bag.']"
      ]
     },
     "execution_count": 113,
     "metadata": {},
     "output_type": "execute_result"
    }
   ],
   "source": [
    "data['Column1'][0][(17+9):].split(', ')"
   ]
  },
  {
   "cell_type": "code",
   "execution_count": 114,
   "metadata": {},
   "outputs": [],
   "source": [
    "bags = {}\n",
    "outside_bags = []\n",
    "for i in range(len(data['Column1'])):\n",
    "    index = data['Column1'][i].index(' contain')\n",
    "    outside_bag = data['Column1'][i][:(index-5)]\n",
    "    inside_bags = data['Column1'][i][(index+9):].split(', ')\n",
    "    inside_bags_better = []\n",
    "    for j in range(len(inside_bags)):\n",
    "        indiv_bag = ' '.join(inside_bags[j].split()[:3])\n",
    "        inside_bags_better.append(indiv_bag)\n",
    "    bags[i] = inside_bags_better\n",
    "    outside_bags.append(outside_bag)"
   ]
  },
  {
   "cell_type": "code",
   "execution_count": 115,
   "metadata": {},
   "outputs": [
    {
     "data": {
      "text/plain": [
       "'mirrored bronze'"
      ]
     },
     "execution_count": 115,
     "metadata": {},
     "output_type": "execute_result"
    }
   ],
   "source": [
    "outside_bags[13]"
   ]
  },
  {
   "cell_type": "code",
   "execution_count": 116,
   "metadata": {},
   "outputs": [
    {
     "data": {
      "text/plain": [
       "'4 shiny gold'"
      ]
     },
     "execution_count": 116,
     "metadata": {},
     "output_type": "execute_result"
    }
   ],
   "source": [
    "bags[13][1]"
   ]
  },
  {
   "cell_type": "code",
   "execution_count": 117,
   "metadata": {},
   "outputs": [
    {
     "data": {
      "text/plain": [
       "594"
      ]
     },
     "execution_count": 117,
     "metadata": {},
     "output_type": "execute_result"
    }
   ],
   "source": [
    "len(bags)"
   ]
  },
  {
   "cell_type": "code",
   "execution_count": 118,
   "metadata": {},
   "outputs": [],
   "source": [
    "def contained(bag):\n",
    "    good_bags_index = []\n",
    "    good_bags = []\n",
    "    for i in range(len(bags)):\n",
    "        for j in range(len(bags[i])):\n",
    "            if str(bag) in bags[i][j]:\n",
    "                good_bags_index.append(i)\n",
    "    for i in range(len(good_bags_index)):\n",
    "        good_bags.append(outside_bags[good_bags_index[i]])\n",
    "    return(good_bags_index,good_bags)"
   ]
  },
  {
   "cell_type": "code",
   "execution_count": 119,
   "metadata": {},
   "outputs": [
    {
     "data": {
      "text/plain": [
       "['mirrored bronze',\n",
       " 'drab silver',\n",
       " 'dotted purple',\n",
       " 'plaid purple',\n",
       " 'pale tan',\n",
       " 'mirrored aqua',\n",
       " 'drab cyan',\n",
       " 'light green',\n",
       " 'pale chartreuse',\n",
       " 'light teal',\n",
       " 'bright yellow']"
      ]
     },
     "execution_count": 119,
     "metadata": {},
     "output_type": "execute_result"
    }
   ],
   "source": [
    "contained('shiny gold')[1]"
   ]
  },
  {
   "cell_type": "code",
   "execution_count": 120,
   "metadata": {},
   "outputs": [
    {
     "data": {
      "text/plain": [
       "289"
      ]
     },
     "execution_count": 120,
     "metadata": {},
     "output_type": "execute_result"
    }
   ],
   "source": [
    "bag_cumul = []\n",
    "level = 0\n",
    "next_level = ['shiny gold']\n",
    "added_length = 1\n",
    "while added_length > 0:\n",
    "    current_length = len(bag_cumul)\n",
    "    current_level = next_level\n",
    "    next_level = []\n",
    "    new_level = []\n",
    "    good_bags_index = []\n",
    "    for i in range(len(current_level)):\n",
    "        good_bags_index += contained(current_level[i])[0]\n",
    "        good_bags = contained(current_level[i])[1]\n",
    "        for j in range(len(good_bags_index)):\n",
    "            if good_bags_index[j] in bag_cumul:\n",
    "                continue\n",
    "            else:\n",
    "                bag_cumul.append(good_bags_index[j])\n",
    "    for i in range(len(bag_cumul)):\n",
    "        next_level.append(outside_bags[bag_cumul[i]])\n",
    "    level += 1\n",
    "    added_length = len(bag_cumul) - current_length\n",
    "len(bag_cumul)"
   ]
  },
  {
   "cell_type": "code",
   "execution_count": null,
   "metadata": {},
   "outputs": [],
   "source": []
  },
  {
   "cell_type": "code",
   "execution_count": null,
   "metadata": {},
   "outputs": [],
   "source": []
  },
  {
   "cell_type": "code",
   "execution_count": null,
   "metadata": {},
   "outputs": [],
   "source": []
  },
  {
   "cell_type": "code",
   "execution_count": 121,
   "metadata": {},
   "outputs": [
    {
     "data": {
      "text/plain": [
       "579"
      ]
     },
     "execution_count": 121,
     "metadata": {},
     "output_type": "execute_result"
    }
   ],
   "source": [
    "outside_bags.index('shiny gold')"
   ]
  },
  {
   "cell_type": "code",
   "execution_count": 122,
   "metadata": {},
   "outputs": [
    {
     "data": {
      "text/plain": [
       "'shiny gold'"
      ]
     },
     "execution_count": 122,
     "metadata": {},
     "output_type": "execute_result"
    }
   ],
   "source": [
    "outside_bags[579]"
   ]
  },
  {
   "cell_type": "code",
   "execution_count": 123,
   "metadata": {},
   "outputs": [],
   "source": [
    "bags_within = []\n",
    "for i in range(len(outside_bags)):\n",
    "    number = 0\n",
    "    if bags[i][0] == 'no other bags.':\n",
    "        bags_within.append(number)\n",
    "    else:\n",
    "        for j in range(len(bags[i])):\n",
    "            number += int(bags[i][j][0])\n",
    "        bags_within.append(number)"
   ]
  },
  {
   "cell_type": "code",
   "execution_count": 124,
   "metadata": {},
   "outputs": [
    {
     "data": {
      "text/plain": [
       "9"
      ]
     },
     "execution_count": 124,
     "metadata": {},
     "output_type": "execute_result"
    }
   ],
   "source": [
    "bags_within[579]"
   ]
  },
  {
   "cell_type": "code",
   "execution_count": 125,
   "metadata": {},
   "outputs": [],
   "source": [
    "def get_bag_count(bag):\n",
    "    index = outside_bags.index(bag)\n",
    "    number = bags_within[index]\n",
    "    smaller_bags = []\n",
    "    smaller_bags_num = []\n",
    "    if number == 0:\n",
    "        smaller_bags = []\n",
    "        smaller_bags_num = [0]\n",
    "    else:\n",
    "        for i in range(len(bags[index])):\n",
    "            spl = bags[index][i].split()\n",
    "            description = ' '.join(spl[1:])\n",
    "            smaller_bags.append(description)\n",
    "            smaller_bags_num.append(int(spl[0]))\n",
    "    return(number,smaller_bags,smaller_bags_num)"
   ]
  },
  {
   "cell_type": "code",
   "execution_count": 126,
   "metadata": {},
   "outputs": [
    {
     "data": {
      "text/plain": [
       "9"
      ]
     },
     "execution_count": 126,
     "metadata": {},
     "output_type": "execute_result"
    }
   ],
   "source": [
    "running_total = []\n",
    "next_level = ['shiny gold']\n",
    "level = 0\n",
    "while len(next_level) > 0:\n",
    "    level_total = 0\n",
    "    new_level = []\n",
    "    for i in range(len(next_level)):\n",
    "        number = get_bag_count(next_level[i])[0]\n",
    "        smaller_bags = get_bag_count(next_level[i])[1]\n",
    "        smaller_bags_num = get_bag_count(next_level[i])[2]\n",
    "        for j in range(len(smaller_bags)):\n",
    "            for k in range(smaller_bags_num[j]):\n",
    "                new_level.append(smaller_bags[j])\n",
    "        level_total += number\n",
    "#         for j in range(len(smaller_bags)):\n",
    "#             level_total += get_bag_count(smaller_bags[j])[0]\n",
    "    running_total.append(level_total)\n",
    "    level += 1\n",
    "    next_level = new_level\n",
    "#     print(next_level)\n",
    "    \n",
    "level"
   ]
  },
  {
   "cell_type": "code",
   "execution_count": 127,
   "metadata": {},
   "outputs": [
    {
     "data": {
      "text/plain": [
       "30055"
      ]
     },
     "execution_count": 127,
     "metadata": {},
     "output_type": "execute_result"
    }
   ],
   "source": [
    "sum(running_total)"
   ]
  },
  {
   "cell_type": "code",
   "execution_count": null,
   "metadata": {},
   "outputs": [],
   "source": []
  }
 ],
 "metadata": {
  "kernelspec": {
   "display_name": "Python 3",
   "language": "python",
   "name": "python3"
  },
  "language_info": {
   "codemirror_mode": {
    "name": "ipython",
    "version": 3
   },
   "file_extension": ".py",
   "mimetype": "text/x-python",
   "name": "python",
   "nbconvert_exporter": "python",
   "pygments_lexer": "ipython3",
   "version": "3.7.4"
  }
 },
 "nbformat": 4,
 "nbformat_minor": 2
}
