{
 "cells": [
  {
   "cell_type": "code",
   "execution_count": 1,
   "metadata": {},
   "outputs": [],
   "source": [
    "import pandas as pd\n",
    "import numpy as np"
   ]
  },
  {
   "cell_type": "code",
   "execution_count": 2,
   "metadata": {},
   "outputs": [],
   "source": [
    "data=pd.read_excel('input_3.xlsx')"
   ]
  },
  {
   "cell_type": "code",
   "execution_count": 3,
   "metadata": {},
   "outputs": [
    {
     "data": {
      "text/html": [
       "<div>\n",
       "<style scoped>\n",
       "    .dataframe tbody tr th:only-of-type {\n",
       "        vertical-align: middle;\n",
       "    }\n",
       "\n",
       "    .dataframe tbody tr th {\n",
       "        vertical-align: top;\n",
       "    }\n",
       "\n",
       "    .dataframe thead th {\n",
       "        text-align: right;\n",
       "    }\n",
       "</style>\n",
       "<table border=\"1\" class=\"dataframe\">\n",
       "  <thead>\n",
       "    <tr style=\"text-align: right;\">\n",
       "      <th></th>\n",
       "      <th>Column1</th>\n",
       "    </tr>\n",
       "  </thead>\n",
       "  <tbody>\n",
       "    <tr>\n",
       "      <td>0</td>\n",
       "      <td>.##.#.........#.....#....#...#.</td>\n",
       "    </tr>\n",
       "    <tr>\n",
       "      <td>1</td>\n",
       "      <td>.#.#.#...#.......#.............</td>\n",
       "    </tr>\n",
       "    <tr>\n",
       "      <td>2</td>\n",
       "      <td>......#..#....#.#...###.......#</td>\n",
       "    </tr>\n",
       "    <tr>\n",
       "      <td>3</td>\n",
       "      <td>.......###......#.....#..##..#.</td>\n",
       "    </tr>\n",
       "    <tr>\n",
       "      <td>4</td>\n",
       "      <td>..#...##.......#.......###.....</td>\n",
       "    </tr>\n",
       "  </tbody>\n",
       "</table>\n",
       "</div>"
      ],
      "text/plain": [
       "                           Column1\n",
       "0  .##.#.........#.....#....#...#.\n",
       "1  .#.#.#...#.......#.............\n",
       "2  ......#..#....#.#...###.......#\n",
       "3  .......###......#.....#..##..#.\n",
       "4  ..#...##.......#.......###....."
      ]
     },
     "execution_count": 3,
     "metadata": {},
     "output_type": "execute_result"
    }
   ],
   "source": [
    "data.head()"
   ]
  },
  {
   "cell_type": "code",
   "execution_count": 4,
   "metadata": {},
   "outputs": [
    {
     "data": {
      "text/plain": [
       "323"
      ]
     },
     "execution_count": 4,
     "metadata": {},
     "output_type": "execute_result"
    }
   ],
   "source": [
    "len(data['Column1'])"
   ]
  },
  {
   "cell_type": "code",
   "execution_count": 5,
   "metadata": {},
   "outputs": [
    {
     "data": {
      "text/plain": [
       "31"
      ]
     },
     "execution_count": 5,
     "metadata": {},
     "output_type": "execute_result"
    }
   ],
   "source": [
    "len(data['Column1'][0])"
   ]
  },
  {
   "cell_type": "code",
   "execution_count": 7,
   "metadata": {},
   "outputs": [
    {
     "data": {
      "text/plain": [
       "1"
      ]
     },
     "execution_count": 7,
     "metadata": {},
     "output_type": "execute_result"
    }
   ],
   "source": [
    "32%31"
   ]
  },
  {
   "cell_type": "code",
   "execution_count": 8,
   "metadata": {},
   "outputs": [
    {
     "name": "stdout",
     "output_type": "stream",
     "text": [
      "284 39 323\n"
     ]
    }
   ],
   "source": [
    "pos = 0\n",
    "trees = 0\n",
    "free = 0\n",
    "for i in range(len(data['Column1'])):\n",
    "    if data['Column1'][i][pos] == '#':\n",
    "        trees += 1\n",
    "    else:\n",
    "        free += 1\n",
    "    pos += 3\n",
    "    pos = pos%31\n",
    "print(trees, free, trees + free)"
   ]
  },
  {
   "cell_type": "code",
   "execution_count": 10,
   "metadata": {},
   "outputs": [],
   "source": [
    "pos = 0\n",
    "trees = 0\n",
    "free = 0\n",
    "for i in range(len(data['Column1'])):\n",
    "    if data['Column1'][i][pos] == '#':\n",
    "        trees += 1\n",
    "    else:\n",
    "        free += 1\n",
    "    pos += 1\n",
    "    pos = pos%31\n",
    "trees_a = trees"
   ]
  },
  {
   "cell_type": "code",
   "execution_count": 9,
   "metadata": {},
   "outputs": [],
   "source": [
    "pos = 0\n",
    "trees = 0\n",
    "free = 0\n",
    "for i in range(len(data['Column1'])):\n",
    "    if data['Column1'][i][pos] == '#':\n",
    "        trees += 1\n",
    "    else:\n",
    "        free += 1\n",
    "    pos += 3\n",
    "    pos = pos%31\n",
    "trees_b = trees"
   ]
  },
  {
   "cell_type": "code",
   "execution_count": 11,
   "metadata": {},
   "outputs": [],
   "source": [
    "pos = 0\n",
    "trees = 0\n",
    "free = 0\n",
    "for i in range(len(data['Column1'])):\n",
    "    if data['Column1'][i][pos] == '#':\n",
    "        trees += 1\n",
    "    else:\n",
    "        free += 1\n",
    "    pos += 5\n",
    "    pos = pos%31\n",
    "trees_c = trees"
   ]
  },
  {
   "cell_type": "code",
   "execution_count": 12,
   "metadata": {},
   "outputs": [],
   "source": [
    "pos = 0\n",
    "trees = 0\n",
    "free = 0\n",
    "for i in range(len(data['Column1'])):\n",
    "    if data['Column1'][i][pos] == '#':\n",
    "        trees += 1\n",
    "    else:\n",
    "        free += 1\n",
    "    pos += 7\n",
    "    pos = pos%31\n",
    "trees_d = trees"
   ]
  },
  {
   "cell_type": "code",
   "execution_count": 13,
   "metadata": {},
   "outputs": [],
   "source": [
    "pos = 0\n",
    "trees = 0\n",
    "free = 0\n",
    "for i in range(0,len(data['Column1']),2):\n",
    "    if data['Column1'][i][pos] == '#':\n",
    "        trees += 1\n",
    "    else:\n",
    "        free += 1\n",
    "    pos += 1\n",
    "    pos = pos%31\n",
    "trees_e = trees"
   ]
  },
  {
   "cell_type": "code",
   "execution_count": 14,
   "metadata": {},
   "outputs": [
    {
     "data": {
      "text/plain": [
       "3510149120"
      ]
     },
     "execution_count": 14,
     "metadata": {},
     "output_type": "execute_result"
    }
   ],
   "source": [
    "trees_a*trees_b*trees_c*trees_d*trees_e"
   ]
  },
  {
   "cell_type": "code",
   "execution_count": null,
   "metadata": {},
   "outputs": [],
   "source": []
  }
 ],
 "metadata": {
  "kernelspec": {
   "display_name": "Python 3",
   "language": "python",
   "name": "python3"
  },
  "language_info": {
   "codemirror_mode": {
    "name": "ipython",
    "version": 3
   },
   "file_extension": ".py",
   "mimetype": "text/x-python",
   "name": "python",
   "nbconvert_exporter": "python",
   "pygments_lexer": "ipython3",
   "version": "3.7.4"
  }
 },
 "nbformat": 4,
 "nbformat_minor": 2
}
