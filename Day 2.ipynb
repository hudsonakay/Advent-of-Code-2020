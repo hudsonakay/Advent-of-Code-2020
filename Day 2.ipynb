{
 "cells": [
  {
   "cell_type": "code",
   "execution_count": 1,
   "metadata": {},
   "outputs": [],
   "source": [
    "import pandas as pd\n",
    "import numpy as np"
   ]
  },
  {
   "cell_type": "code",
   "execution_count": 2,
   "metadata": {},
   "outputs": [],
   "source": [
    "data=pd.read_excel('input_2.xlsx')"
   ]
  },
  {
   "cell_type": "code",
   "execution_count": 3,
   "metadata": {},
   "outputs": [
    {
     "data": {
      "text/html": [
       "<div>\n",
       "<style scoped>\n",
       "    .dataframe tbody tr th:only-of-type {\n",
       "        vertical-align: middle;\n",
       "    }\n",
       "\n",
       "    .dataframe tbody tr th {\n",
       "        vertical-align: top;\n",
       "    }\n",
       "\n",
       "    .dataframe thead th {\n",
       "        text-align: right;\n",
       "    }\n",
       "</style>\n",
       "<table border=\"1\" class=\"dataframe\">\n",
       "  <thead>\n",
       "    <tr style=\"text-align: right;\">\n",
       "      <th></th>\n",
       "      <th>Column1</th>\n",
       "      <th>Column2</th>\n",
       "      <th>Column3</th>\n",
       "    </tr>\n",
       "  </thead>\n",
       "  <tbody>\n",
       "    <tr>\n",
       "      <td>0</td>\n",
       "      <td>1-13</td>\n",
       "      <td>r:</td>\n",
       "      <td>gqdrspndrpsrjfjx</td>\n",
       "    </tr>\n",
       "    <tr>\n",
       "      <td>1</td>\n",
       "      <td>5-16</td>\n",
       "      <td>j:</td>\n",
       "      <td>jjjjkjjzjjjjjfjzjjj</td>\n",
       "    </tr>\n",
       "    <tr>\n",
       "      <td>2</td>\n",
       "      <td>14-16</td>\n",
       "      <td>r:</td>\n",
       "      <td>rrrnrrrrrcnrgxrr</td>\n",
       "    </tr>\n",
       "    <tr>\n",
       "      <td>3</td>\n",
       "      <td>1-3</td>\n",
       "      <td>k:</td>\n",
       "      <td>bkktwhgktv</td>\n",
       "    </tr>\n",
       "    <tr>\n",
       "      <td>4</td>\n",
       "      <td>3-5</td>\n",
       "      <td>q:</td>\n",
       "      <td>dxqqqzmqvs</td>\n",
       "    </tr>\n",
       "  </tbody>\n",
       "</table>\n",
       "</div>"
      ],
      "text/plain": [
       "  Column1 Column2              Column3\n",
       "0    1-13      r:     gqdrspndrpsrjfjx\n",
       "1    5-16      j:  jjjjkjjzjjjjjfjzjjj\n",
       "2   14-16      r:     rrrnrrrrrcnrgxrr\n",
       "3     1-3      k:           bkktwhgktv\n",
       "4     3-5      q:           dxqqqzmqvs"
      ]
     },
     "execution_count": 3,
     "metadata": {},
     "output_type": "execute_result"
    }
   ],
   "source": [
    "data.head()"
   ]
  },
  {
   "cell_type": "code",
   "execution_count": 4,
   "metadata": {},
   "outputs": [
    {
     "data": {
      "text/plain": [
       "1000"
      ]
     },
     "execution_count": 4,
     "metadata": {},
     "output_type": "execute_result"
    }
   ],
   "source": [
    "len(data['Column1'])"
   ]
  },
  {
   "cell_type": "code",
   "execution_count": 9,
   "metadata": {},
   "outputs": [
    {
     "data": {
      "text/plain": [
       "3"
      ]
     },
     "execution_count": 9,
     "metadata": {},
     "output_type": "execute_result"
    }
   ],
   "source": [
    "data['Column3'][0].count('r')"
   ]
  },
  {
   "cell_type": "code",
   "execution_count": 13,
   "metadata": {},
   "outputs": [
    {
     "data": {
      "text/plain": [
       "3"
      ]
     },
     "execution_count": 13,
     "metadata": {},
     "output_type": "execute_result"
    }
   ],
   "source": [
    "data['Column3'][0].count(data['Column2'][0][0])"
   ]
  },
  {
   "cell_type": "code",
   "execution_count": 12,
   "metadata": {},
   "outputs": [
    {
     "data": {
      "text/plain": [
       "'r'"
      ]
     },
     "execution_count": 12,
     "metadata": {},
     "output_type": "execute_result"
    }
   ],
   "source": [
    "data['Column2'][0][0]"
   ]
  },
  {
   "cell_type": "code",
   "execution_count": 17,
   "metadata": {},
   "outputs": [
    {
     "data": {
      "text/plain": [
       "600"
      ]
     },
     "execution_count": 17,
     "metadata": {},
     "output_type": "execute_result"
    }
   ],
   "source": [
    "good_passwords = 0\n",
    "for i in range(0,len(data['Column1'])):\n",
    "    mini = int(data['Column1'][i].split(\"-\")[0])\n",
    "    maxi = int(data['Column1'][i].split(\"-\")[1])\n",
    "    letter = data['Column2'][i][0]\n",
    "    count = data['Column3'][i].count(letter)\n",
    "    if mini <= count <= maxi:\n",
    "        good_passwords += 1\n",
    "    else:\n",
    "        continue\n",
    "good_passwords"
   ]
  },
  {
   "cell_type": "code",
   "execution_count": 18,
   "metadata": {},
   "outputs": [
    {
     "data": {
      "text/plain": [
       "245"
      ]
     },
     "execution_count": 18,
     "metadata": {},
     "output_type": "execute_result"
    }
   ],
   "source": [
    "good_passwords = 0\n",
    "for i in range(0,len(data['Column1'])):\n",
    "    pos1 = int(data['Column1'][i].split(\"-\")[0]) -1\n",
    "    pos2 = int(data['Column1'][i].split(\"-\")[1]) -1\n",
    "    letter = data['Column2'][i][0]\n",
    "    if letter == data['Column3'][i][pos1]:\n",
    "        if letter == data['Column3'][i][pos2]:\n",
    "            continue\n",
    "        else:\n",
    "            good_passwords += 1\n",
    "    elif letter == data['Column3'][i][pos2]:\n",
    "        good_passwords += 1\n",
    "    else:\n",
    "        continue\n",
    "good_passwords"
   ]
  },
  {
   "cell_type": "code",
   "execution_count": null,
   "metadata": {},
   "outputs": [],
   "source": []
  }
 ],
 "metadata": {
  "kernelspec": {
   "display_name": "Python 3",
   "language": "python",
   "name": "python3"
  },
  "language_info": {
   "codemirror_mode": {
    "name": "ipython",
    "version": 3
   },
   "file_extension": ".py",
   "mimetype": "text/x-python",
   "name": "python",
   "nbconvert_exporter": "python",
   "pygments_lexer": "ipython3",
   "version": "3.7.4"
  }
 },
 "nbformat": 4,
 "nbformat_minor": 2
}
