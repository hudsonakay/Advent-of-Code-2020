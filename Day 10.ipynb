{
 "cells": [
  {
   "cell_type": "code",
   "execution_count": 40,
   "metadata": {},
   "outputs": [],
   "source": [
    "import pandas as pd\n",
    "import numpy as np"
   ]
  },
  {
   "cell_type": "code",
   "execution_count": 41,
   "metadata": {},
   "outputs": [],
   "source": [
    "data=pd.read_excel('input_10.xlsx')"
   ]
  },
  {
   "cell_type": "code",
   "execution_count": 42,
   "metadata": {},
   "outputs": [
    {
     "data": {
      "text/html": [
       "<div>\n",
       "<style scoped>\n",
       "    .dataframe tbody tr th:only-of-type {\n",
       "        vertical-align: middle;\n",
       "    }\n",
       "\n",
       "    .dataframe tbody tr th {\n",
       "        vertical-align: top;\n",
       "    }\n",
       "\n",
       "    .dataframe thead th {\n",
       "        text-align: right;\n",
       "    }\n",
       "</style>\n",
       "<table border=\"1\" class=\"dataframe\">\n",
       "  <thead>\n",
       "    <tr style=\"text-align: right;\">\n",
       "      <th></th>\n",
       "      <th>Column1</th>\n",
       "    </tr>\n",
       "  </thead>\n",
       "  <tbody>\n",
       "    <tr>\n",
       "      <td>0</td>\n",
       "      <td>30</td>\n",
       "    </tr>\n",
       "    <tr>\n",
       "      <td>1</td>\n",
       "      <td>73</td>\n",
       "    </tr>\n",
       "    <tr>\n",
       "      <td>2</td>\n",
       "      <td>84</td>\n",
       "    </tr>\n",
       "    <tr>\n",
       "      <td>3</td>\n",
       "      <td>136</td>\n",
       "    </tr>\n",
       "    <tr>\n",
       "      <td>4</td>\n",
       "      <td>132</td>\n",
       "    </tr>\n",
       "  </tbody>\n",
       "</table>\n",
       "</div>"
      ],
      "text/plain": [
       "   Column1\n",
       "0       30\n",
       "1       73\n",
       "2       84\n",
       "3      136\n",
       "4      132"
      ]
     },
     "execution_count": 42,
     "metadata": {},
     "output_type": "execute_result"
    }
   ],
   "source": [
    "data.head()"
   ]
  },
  {
   "cell_type": "code",
   "execution_count": 43,
   "metadata": {},
   "outputs": [],
   "source": [
    "adapters = []\n",
    "for i in range(len(data['Column1'])):\n",
    "    adapters.append(data['Column1'][i])"
   ]
  },
  {
   "cell_type": "code",
   "execution_count": 44,
   "metadata": {
    "scrolled": true
   },
   "outputs": [
    {
     "data": {
      "text/plain": [
       "100"
      ]
     },
     "execution_count": 44,
     "metadata": {},
     "output_type": "execute_result"
    }
   ],
   "source": [
    "len(adapters)"
   ]
  },
  {
   "cell_type": "code",
   "execution_count": 45,
   "metadata": {},
   "outputs": [
    {
     "data": {
      "text/plain": [
       "172"
      ]
     },
     "execution_count": 45,
     "metadata": {},
     "output_type": "execute_result"
    }
   ],
   "source": [
    "max(adapters)"
   ]
  },
  {
   "cell_type": "code",
   "execution_count": 46,
   "metadata": {},
   "outputs": [],
   "source": [
    "adapters.append(0)"
   ]
  },
  {
   "cell_type": "code",
   "execution_count": 47,
   "metadata": {},
   "outputs": [],
   "source": [
    "adapters.append(175)"
   ]
  },
  {
   "cell_type": "code",
   "execution_count": 48,
   "metadata": {},
   "outputs": [],
   "source": [
    "adapters.sort()"
   ]
  },
  {
   "cell_type": "code",
   "execution_count": 49,
   "metadata": {
    "scrolled": true
   },
   "outputs": [
    {
     "data": {
      "text/plain": [
       "[0,\n",
       " 1,\n",
       " 2,\n",
       " 5,\n",
       " 8,\n",
       " 9,\n",
       " 10,\n",
       " 11,\n",
       " 12,\n",
       " 15,\n",
       " 16,\n",
       " 17,\n",
       " 18,\n",
       " 21,\n",
       " 22,\n",
       " 23,\n",
       " 24,\n",
       " 25,\n",
       " 28,\n",
       " 29,\n",
       " 30,\n",
       " 33,\n",
       " 34,\n",
       " 35,\n",
       " 36,\n",
       " 37,\n",
       " 40,\n",
       " 43,\n",
       " 44,\n",
       " 45,\n",
       " 46,\n",
       " 49,\n",
       " 52,\n",
       " 55,\n",
       " 56,\n",
       " 57,\n",
       " 58,\n",
       " 59,\n",
       " 62,\n",
       " 65,\n",
       " 68,\n",
       " 69,\n",
       " 72,\n",
       " 73,\n",
       " 76,\n",
       " 79,\n",
       " 82,\n",
       " 83,\n",
       " 84,\n",
       " 85,\n",
       " 88,\n",
       " 91,\n",
       " 92,\n",
       " 93,\n",
       " 96,\n",
       " 97,\n",
       " 98,\n",
       " 99,\n",
       " 102,\n",
       " 103,\n",
       " 104,\n",
       " 105,\n",
       " 108,\n",
       " 109,\n",
       " 110,\n",
       " 113,\n",
       " 116,\n",
       " 117,\n",
       " 118,\n",
       " 121,\n",
       " 122,\n",
       " 123,\n",
       " 124,\n",
       " 127,\n",
       " 130,\n",
       " 131,\n",
       " 132,\n",
       " 133,\n",
       " 136,\n",
       " 139,\n",
       " 140,\n",
       " 141,\n",
       " 142,\n",
       " 143,\n",
       " 146,\n",
       " 147,\n",
       " 148,\n",
       " 149,\n",
       " 150,\n",
       " 153,\n",
       " 156,\n",
       " 159,\n",
       " 160,\n",
       " 161,\n",
       " 162,\n",
       " 163,\n",
       " 166,\n",
       " 169,\n",
       " 170,\n",
       " 171,\n",
       " 172,\n",
       " 175]"
      ]
     },
     "execution_count": 49,
     "metadata": {},
     "output_type": "execute_result"
    }
   ],
   "source": [
    "adapters"
   ]
  },
  {
   "cell_type": "code",
   "execution_count": 53,
   "metadata": {},
   "outputs": [],
   "source": [
    "differences = []\n",
    "for i in range(len(adapters)-1):\n",
    "    differences.append(adapters[i+1]-adapters[i])"
   ]
  },
  {
   "cell_type": "code",
   "execution_count": 54,
   "metadata": {},
   "outputs": [
    {
     "data": {
      "text/plain": [
       "101"
      ]
     },
     "execution_count": 54,
     "metadata": {},
     "output_type": "execute_result"
    }
   ],
   "source": [
    "len(differences)"
   ]
  },
  {
   "cell_type": "code",
   "execution_count": 55,
   "metadata": {
    "scrolled": true
   },
   "outputs": [
    {
     "data": {
      "text/plain": [
       "64"
      ]
     },
     "execution_count": 55,
     "metadata": {},
     "output_type": "execute_result"
    }
   ],
   "source": [
    "differences.count(1)"
   ]
  },
  {
   "cell_type": "code",
   "execution_count": 56,
   "metadata": {},
   "outputs": [
    {
     "data": {
      "text/plain": [
       "37"
      ]
     },
     "execution_count": 56,
     "metadata": {},
     "output_type": "execute_result"
    }
   ],
   "source": [
    "differences.count(3)"
   ]
  },
  {
   "cell_type": "code",
   "execution_count": 57,
   "metadata": {},
   "outputs": [
    {
     "data": {
      "text/plain": [
       "2368"
      ]
     },
     "execution_count": 57,
     "metadata": {},
     "output_type": "execute_result"
    }
   ],
   "source": [
    "64*37"
   ]
  },
  {
   "cell_type": "code",
   "execution_count": 58,
   "metadata": {},
   "outputs": [],
   "source": [
    "potentials = []\n",
    "for i in range(len(adapters)):\n",
    "    if ((adapters[i]+1) in adapters) and ((adapters[i]+2) in adapters) and ((adapters[i]+3) in adapters):\n",
    "        potentials.append(3)\n",
    "    elif ((adapters[i]+1) in adapters) and ((adapters[i]+2) in adapters):\n",
    "        potentials.append(2)\n",
    "    elif ((adapters[i]+1) in adapters) and ((adapters[i]+3) in adapters):\n",
    "        potentials.append(2)\n",
    "    elif ((adapters[i]+2) in adapters) and ((adapters[i]+3) in adapters):\n",
    "        potentials.append(2)\n",
    "    else:\n",
    "        potentials.append(1)"
   ]
  },
  {
   "cell_type": "code",
   "execution_count": 60,
   "metadata": {
    "scrolled": true
   },
   "outputs": [
    {
     "data": {
      "text/plain": [
       "[2,\n",
       " 1,\n",
       " 1,\n",
       " 1,\n",
       " 3,\n",
       " 3,\n",
       " 2,\n",
       " 1,\n",
       " 1,\n",
       " 3,\n",
       " 2,\n",
       " 1,\n",
       " 1,\n",
       " 3,\n",
       " 3,\n",
       " 2,\n",
       " 1,\n",
       " 1,\n",
       " 2,\n",
       " 1,\n",
       " 1,\n",
       " 3,\n",
       " 3,\n",
       " 2,\n",
       " 1,\n",
       " 1,\n",
       " 1,\n",
       " 3,\n",
       " 2,\n",
       " 1,\n",
       " 1,\n",
       " 1,\n",
       " 1,\n",
       " 3,\n",
       " 3,\n",
       " 2,\n",
       " 1,\n",
       " 1,\n",
       " 1,\n",
       " 1,\n",
       " 1,\n",
       " 1,\n",
       " 1,\n",
       " 1,\n",
       " 1,\n",
       " 1,\n",
       " 3,\n",
       " 2,\n",
       " 1,\n",
       " 1,\n",
       " 1,\n",
       " 2,\n",
       " 1,\n",
       " 1,\n",
       " 3,\n",
       " 2,\n",
       " 1,\n",
       " 1,\n",
       " 3,\n",
       " 2,\n",
       " 1,\n",
       " 1,\n",
       " 2,\n",
       " 1,\n",
       " 1,\n",
       " 1,\n",
       " 2,\n",
       " 1,\n",
       " 1,\n",
       " 3,\n",
       " 2,\n",
       " 1,\n",
       " 1,\n",
       " 1,\n",
       " 3,\n",
       " 2,\n",
       " 1,\n",
       " 1,\n",
       " 1,\n",
       " 3,\n",
       " 3,\n",
       " 2,\n",
       " 1,\n",
       " 1,\n",
       " 3,\n",
       " 3,\n",
       " 2,\n",
       " 1,\n",
       " 1,\n",
       " 1,\n",
       " 1,\n",
       " 3,\n",
       " 3,\n",
       " 2,\n",
       " 1,\n",
       " 1,\n",
       " 1,\n",
       " 3,\n",
       " 2,\n",
       " 1,\n",
       " 1,\n",
       " 1]"
      ]
     },
     "execution_count": 60,
     "metadata": {},
     "output_type": "execute_result"
    }
   ],
   "source": [
    "potentials"
   ]
  },
  {
   "cell_type": "code",
   "execution_count": 61,
   "metadata": {},
   "outputs": [],
   "source": [
    "assigned = {}\n",
    "for i in range(len(potentials)):\n",
    "    assigned[adapters[i]] = potentials[i]"
   ]
  },
  {
   "cell_type": "code",
   "execution_count": 62,
   "metadata": {
    "scrolled": true
   },
   "outputs": [
    {
     "data": {
      "text/plain": [
       "{0: 2,\n",
       " 1: 1,\n",
       " 2: 1,\n",
       " 5: 1,\n",
       " 8: 3,\n",
       " 9: 3,\n",
       " 10: 2,\n",
       " 11: 1,\n",
       " 12: 1,\n",
       " 15: 3,\n",
       " 16: 2,\n",
       " 17: 1,\n",
       " 18: 1,\n",
       " 21: 3,\n",
       " 22: 3,\n",
       " 23: 2,\n",
       " 24: 1,\n",
       " 25: 1,\n",
       " 28: 2,\n",
       " 29: 1,\n",
       " 30: 1,\n",
       " 33: 3,\n",
       " 34: 3,\n",
       " 35: 2,\n",
       " 36: 1,\n",
       " 37: 1,\n",
       " 40: 1,\n",
       " 43: 3,\n",
       " 44: 2,\n",
       " 45: 1,\n",
       " 46: 1,\n",
       " 49: 1,\n",
       " 52: 1,\n",
       " 55: 3,\n",
       " 56: 3,\n",
       " 57: 2,\n",
       " 58: 1,\n",
       " 59: 1,\n",
       " 62: 1,\n",
       " 65: 1,\n",
       " 68: 1,\n",
       " 69: 1,\n",
       " 72: 1,\n",
       " 73: 1,\n",
       " 76: 1,\n",
       " 79: 1,\n",
       " 82: 3,\n",
       " 83: 2,\n",
       " 84: 1,\n",
       " 85: 1,\n",
       " 88: 1,\n",
       " 91: 2,\n",
       " 92: 1,\n",
       " 93: 1,\n",
       " 96: 3,\n",
       " 97: 2,\n",
       " 98: 1,\n",
       " 99: 1,\n",
       " 102: 3,\n",
       " 103: 2,\n",
       " 104: 1,\n",
       " 105: 1,\n",
       " 108: 2,\n",
       " 109: 1,\n",
       " 110: 1,\n",
       " 113: 1,\n",
       " 116: 2,\n",
       " 117: 1,\n",
       " 118: 1,\n",
       " 121: 3,\n",
       " 122: 2,\n",
       " 123: 1,\n",
       " 124: 1,\n",
       " 127: 1,\n",
       " 130: 3,\n",
       " 131: 2,\n",
       " 132: 1,\n",
       " 133: 1,\n",
       " 136: 1,\n",
       " 139: 3,\n",
       " 140: 3,\n",
       " 141: 2,\n",
       " 142: 1,\n",
       " 143: 1,\n",
       " 146: 3,\n",
       " 147: 3,\n",
       " 148: 2,\n",
       " 149: 1,\n",
       " 150: 1,\n",
       " 153: 1,\n",
       " 156: 1,\n",
       " 159: 3,\n",
       " 160: 3,\n",
       " 161: 2,\n",
       " 162: 1,\n",
       " 163: 1,\n",
       " 166: 1,\n",
       " 169: 3,\n",
       " 170: 2,\n",
       " 171: 1,\n",
       " 172: 1,\n",
       " 175: 1}"
      ]
     },
     "execution_count": 62,
     "metadata": {},
     "output_type": "execute_result"
    }
   ],
   "source": [
    "assigned"
   ]
  },
  {
   "cell_type": "code",
   "execution_count": 63,
   "metadata": {},
   "outputs": [],
   "source": [
    "total = []\n",
    "for i in range(len(assigned)):\n",
    "    index = i+1\n",
    "    num = adapters[-index]\n",
    "    potential = assigned[num]\n",
    "    if i == 0:\n",
    "        total.append(1)\n",
    "    else:\n",
    "        if potential == 1:\n",
    "            total.append(total[-1])\n",
    "        elif potential == 2:\n",
    "            total.append(total[-1]+total[-2])\n",
    "        elif potential == 3:\n",
    "            total.append(total[-1]+total[-2]+total[-3])"
   ]
  },
  {
   "cell_type": "code",
   "execution_count": 64,
   "metadata": {
    "scrolled": true
   },
   "outputs": [
    {
     "data": {
      "text/plain": [
       "[1,\n",
       " 1,\n",
       " 1,\n",
       " 2,\n",
       " 4,\n",
       " 4,\n",
       " 4,\n",
       " 4,\n",
       " 8,\n",
       " 16,\n",
       " 28,\n",
       " 28,\n",
       " 28,\n",
       " 28,\n",
       " 28,\n",
       " 56,\n",
       " 112,\n",
       " 196,\n",
       " 196,\n",
       " 196,\n",
       " 392,\n",
       " 784,\n",
       " 1372,\n",
       " 1372,\n",
       " 1372,\n",
       " 1372,\n",
       " 2744,\n",
       " 5488,\n",
       " 5488,\n",
       " 5488,\n",
       " 5488,\n",
       " 10976,\n",
       " 21952,\n",
       " 21952,\n",
       " 21952,\n",
       " 43904,\n",
       " 43904,\n",
       " 43904,\n",
       " 43904,\n",
       " 87808,\n",
       " 87808,\n",
       " 87808,\n",
       " 175616,\n",
       " 351232,\n",
       " 351232,\n",
       " 351232,\n",
       " 702464,\n",
       " 1404928,\n",
       " 1404928,\n",
       " 1404928,\n",
       " 2809856,\n",
       " 2809856,\n",
       " 2809856,\n",
       " 2809856,\n",
       " 5619712,\n",
       " 11239424,\n",
       " 11239424,\n",
       " 11239424,\n",
       " 11239424,\n",
       " 11239424,\n",
       " 11239424,\n",
       " 11239424,\n",
       " 11239424,\n",
       " 11239424,\n",
       " 11239424,\n",
       " 11239424,\n",
       " 22478848,\n",
       " 44957696,\n",
       " 78675968,\n",
       " 78675968,\n",
       " 78675968,\n",
       " 78675968,\n",
       " 78675968,\n",
       " 157351936,\n",
       " 314703872,\n",
       " 314703872,\n",
       " 314703872,\n",
       " 314703872,\n",
       " 629407744,\n",
       " 1258815488,\n",
       " 2202927104,\n",
       " 2202927104,\n",
       " 2202927104,\n",
       " 4405854208,\n",
       " 4405854208,\n",
       " 4405854208,\n",
       " 8811708416,\n",
       " 17623416832,\n",
       " 30840979456,\n",
       " 30840979456,\n",
       " 30840979456,\n",
       " 61681958912,\n",
       " 123363917824,\n",
       " 123363917824,\n",
       " 123363917824,\n",
       " 246727835648,\n",
       " 493455671296,\n",
       " 863547424768,\n",
       " 863547424768,\n",
       " 863547424768,\n",
       " 863547424768,\n",
       " 1727094849536]"
      ]
     },
     "execution_count": 64,
     "metadata": {},
     "output_type": "execute_result"
    }
   ],
   "source": [
    "total"
   ]
  },
  {
   "cell_type": "code",
   "execution_count": null,
   "metadata": {},
   "outputs": [],
   "source": []
  }
 ],
 "metadata": {
  "kernelspec": {
   "display_name": "Python 3",
   "language": "python",
   "name": "python3"
  },
  "language_info": {
   "codemirror_mode": {
    "name": "ipython",
    "version": 3
   },
   "file_extension": ".py",
   "mimetype": "text/x-python",
   "name": "python",
   "nbconvert_exporter": "python",
   "pygments_lexer": "ipython3",
   "version": "3.7.4"
  }
 },
 "nbformat": 4,
 "nbformat_minor": 2
}
