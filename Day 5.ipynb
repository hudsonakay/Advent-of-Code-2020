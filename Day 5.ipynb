{
 "cells": [
  {
   "cell_type": "code",
   "execution_count": 1,
   "metadata": {},
   "outputs": [],
   "source": [
    "import pandas as pd\n",
    "import numpy as np"
   ]
  },
  {
   "cell_type": "code",
   "execution_count": 2,
   "metadata": {},
   "outputs": [],
   "source": [
    "data=pd.read_excel('input_5.xlsx')"
   ]
  },
  {
   "cell_type": "code",
   "execution_count": 3,
   "metadata": {},
   "outputs": [
    {
     "data": {
      "text/html": [
       "<div>\n",
       "<style scoped>\n",
       "    .dataframe tbody tr th:only-of-type {\n",
       "        vertical-align: middle;\n",
       "    }\n",
       "\n",
       "    .dataframe tbody tr th {\n",
       "        vertical-align: top;\n",
       "    }\n",
       "\n",
       "    .dataframe thead th {\n",
       "        text-align: right;\n",
       "    }\n",
       "</style>\n",
       "<table border=\"1\" class=\"dataframe\">\n",
       "  <thead>\n",
       "    <tr style=\"text-align: right;\">\n",
       "      <th></th>\n",
       "      <th>Column1</th>\n",
       "    </tr>\n",
       "  </thead>\n",
       "  <tbody>\n",
       "    <tr>\n",
       "      <td>0</td>\n",
       "      <td>FFFBFFFRRL</td>\n",
       "    </tr>\n",
       "    <tr>\n",
       "      <td>1</td>\n",
       "      <td>FFFBBBFLLL</td>\n",
       "    </tr>\n",
       "    <tr>\n",
       "      <td>2</td>\n",
       "      <td>BFFFBFBRLR</td>\n",
       "    </tr>\n",
       "    <tr>\n",
       "      <td>3</td>\n",
       "      <td>BFBFFFBRLL</td>\n",
       "    </tr>\n",
       "    <tr>\n",
       "      <td>4</td>\n",
       "      <td>FFFBFBBRLR</td>\n",
       "    </tr>\n",
       "  </tbody>\n",
       "</table>\n",
       "</div>"
      ],
      "text/plain": [
       "      Column1\n",
       "0  FFFBFFFRRL\n",
       "1  FFFBBBFLLL\n",
       "2  BFFFBFBRLR\n",
       "3  BFBFFFBRLL\n",
       "4  FFFBFBBRLR"
      ]
     },
     "execution_count": 3,
     "metadata": {},
     "output_type": "execute_result"
    }
   ],
   "source": [
    "data.head()"
   ]
  },
  {
   "cell_type": "code",
   "execution_count": 4,
   "metadata": {},
   "outputs": [
    {
     "data": {
      "text/plain": [
       "940"
      ]
     },
     "execution_count": 4,
     "metadata": {},
     "output_type": "execute_result"
    }
   ],
   "source": [
    "len(data['Column1'])"
   ]
  },
  {
   "cell_type": "code",
   "execution_count": null,
   "metadata": {},
   "outputs": [],
   "source": []
  },
  {
   "cell_type": "code",
   "execution_count": 5,
   "metadata": {},
   "outputs": [],
   "source": [
    "seats = []\n",
    "for i in range(len(data['Column1'])):\n",
    "    row = 0\n",
    "    column = 0\n",
    "    rowi = data['Column1'][i][:-3]\n",
    "    coli = data['Column1'][i][-3:]\n",
    "    if rowi[0] == 'B':\n",
    "        row += 64\n",
    "    if rowi[1] == 'B':\n",
    "        row += 32\n",
    "    if rowi[2] == 'B':\n",
    "        row += 16\n",
    "    if rowi[3] == 'B':\n",
    "        row += 8\n",
    "    if rowi[4] == 'B':\n",
    "        row += 4\n",
    "    if rowi[5] == 'B':\n",
    "        row += 2\n",
    "    if rowi[6] == 'B':\n",
    "        row += 1\n",
    "    if coli[0] == 'R':\n",
    "        column += 4\n",
    "    if coli[1] == 'R':\n",
    "        column += 2\n",
    "    if coli[2] == 'R':\n",
    "        column += 1\n",
    "    seat = row * 8 + column\n",
    "    seats.append(seat)"
   ]
  },
  {
   "cell_type": "code",
   "execution_count": 6,
   "metadata": {},
   "outputs": [
    {
     "data": {
      "text/plain": [
       "980"
      ]
     },
     "execution_count": 6,
     "metadata": {},
     "output_type": "execute_result"
    }
   ],
   "source": [
    "max(seats)"
   ]
  },
  {
   "cell_type": "code",
   "execution_count": 7,
   "metadata": {},
   "outputs": [
    {
     "data": {
      "text/plain": [
       "940"
      ]
     },
     "execution_count": 7,
     "metadata": {},
     "output_type": "execute_result"
    }
   ],
   "source": [
    "len(seats)"
   ]
  },
  {
   "cell_type": "code",
   "execution_count": 8,
   "metadata": {},
   "outputs": [],
   "source": [
    "test_seats = [0,1,2,3,4,5,6,7,8,9,10,11,13,14,15,16,17,18,19]"
   ]
  },
  {
   "cell_type": "code",
   "execution_count": 9,
   "metadata": {},
   "outputs": [],
   "source": [
    "def check_group(x):\n",
    "    check = 0\n",
    "    missing = 0\n",
    "    if i+1 in seats:\n",
    "        check += 1\n",
    "    else:\n",
    "        missing += 1\n",
    "    if i+2 in seats:\n",
    "        check += 1\n",
    "    else:\n",
    "        missing += 2\n",
    "    if i+3 in seats:\n",
    "        check += 1\n",
    "    else:\n",
    "        missing += 3\n",
    "    if i+4 in seats:\n",
    "        check += 1\n",
    "    else:\n",
    "        missing += 4\n",
    "    if i+5 in seats:\n",
    "        check += 1\n",
    "    else:\n",
    "        missing += 5\n",
    "    if i+6 in seats:\n",
    "        check += 1\n",
    "    else:\n",
    "        missing += 6\n",
    "    if i+7 in seats:\n",
    "        check += 1\n",
    "    else:\n",
    "        missing += 7\n",
    "    if i+8 in seats:\n",
    "        check += 1\n",
    "    else:\n",
    "        missing += 7\n",
    "    return(check, missing)"
   ]
  },
  {
   "cell_type": "code",
   "execution_count": 11,
   "metadata": {},
   "outputs": [
    {
     "name": "stdout",
     "output_type": "stream",
     "text": [
      "Missing seat is 607\n",
      "Missing seat is 1001\n"
     ]
    }
   ],
   "source": [
    "for i in range(0,980,8):\n",
    "    check = 0\n",
    "    missing = 0\n",
    "    if i in seats:\n",
    "        check = check_group(i)[0]\n",
    "        if check != 8:\n",
    "            missing = check_group(i)[1]\n",
    "            print(\"Missing seat is \" + str(i + missing))"
   ]
  },
  {
   "cell_type": "code",
   "execution_count": null,
   "metadata": {},
   "outputs": [],
   "source": []
  },
  {
   "cell_type": "code",
   "execution_count": null,
   "metadata": {},
   "outputs": [],
   "source": []
  }
 ],
 "metadata": {
  "kernelspec": {
   "display_name": "Python 3",
   "language": "python",
   "name": "python3"
  },
  "language_info": {
   "codemirror_mode": {
    "name": "ipython",
    "version": 3
   },
   "file_extension": ".py",
   "mimetype": "text/x-python",
   "name": "python",
   "nbconvert_exporter": "python",
   "pygments_lexer": "ipython3",
   "version": "3.7.4"
  }
 },
 "nbformat": 4,
 "nbformat_minor": 2
}
